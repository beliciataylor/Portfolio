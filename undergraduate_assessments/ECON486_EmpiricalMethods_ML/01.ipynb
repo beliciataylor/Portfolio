{
 "cells": [
  {
   "cell_type": "markdown",
   "metadata": {},
   "source": [
    "<center><h1> Empirical Assignment 1</h1></center>\n",
    "\n",
    "**Author(s):**\n",
    "1. Belicia Rodriguez (belicia.rodriguez@emory.edu)\n",
    "\n",
    "**Objectives**: This <ins>assignment</ins> aims at\n",
    " 1. Making students familiar with *data wrangling* with the ```dplyr``` and ```tidyr``` R packages;\n",
    " 2. Use *GitHub* to retrieve and submit computer code.\n",
    "\n",
    "**Instructions**:\n",
    " 1. Start by reading the [Data Wrangling with dplyr and tidyr cheatsheet](https://rstudio.com/wp-content/uploads/2015/02/data-wrangling-cheatsheet.pdf)\n",
    " 2. Please write down your R code and <ins>execute</ins> it in the cell below each question.\n",
    "\n",
    "<center><h2> Questions</h2></center>"
   ]
  },
  {
   "cell_type": "markdown",
   "metadata": {},
   "source": [
    "1. Install and load the ```wooldridge```, ```dplyr```, and ```tidyr``` packages and their ```dependencies```."
   ]
  },
  {
   "cell_type": "code",
   "execution_count": 2,
   "metadata": {},
   "outputs": [
    {
     "name": "stdout",
     "output_type": "stream",
     "text": [
      "\n",
      "  There is a binary version available but the source version is later:\n",
      "      binary source needs_compilation\n",
      "dplyr  0.8.3  0.8.4              TRUE\n",
      "\n",
      "  Binaries will be installed\n",
      "package 'wooldridge' successfully unpacked and MD5 sums checked\n",
      "package 'dplyr' successfully unpacked and MD5 sums checked\n",
      "package 'tidyr' successfully unpacked and MD5 sums checked\n",
      "\n",
      "The downloaded binary packages are in\n",
      "\tC:\\Users\\Juan Estrada\\AppData\\Local\\Temp\\Rtmp8aJpx8\\downloaded_packages\n"
     ]
    },
    {
     "name": "stderr",
     "output_type": "stream",
     "text": [
      "Warning message:\n",
      "\"package 'wooldridge' was built under R version 3.6.2\"Warning message:\n",
      "\"package 'dplyr' was built under R version 3.6.2\"\n",
      "Attaching package: 'dplyr'\n",
      "\n",
      "The following objects are masked from 'package:stats':\n",
      "\n",
      "    filter, lag\n",
      "\n",
      "The following objects are masked from 'package:base':\n",
      "\n",
      "    intersect, setdiff, setequal, union\n",
      "\n",
      "Warning message:\n",
      "\"package 'tidyr' was built under R version 3.6.2\""
     ]
    }
   ],
   "source": [
    "install.packages(c('wooldridge', 'dplyr', 'tidyr'))\n",
    "library(wooldridge)\n",
    "library(dplyr)\n",
    "library(tidyr)"
   ]
  },
  {
   "cell_type": "markdown",
   "metadata": {},
   "source": [
    "#### <font color='red'>Comments:</font> \n",
    "\n",
    "As I mentioned in the suggested solution, it is a good practice to use ```!require``` and the ```if``` statement to facilitate sharing code. A for loop is also a good practice when you have many packages to install."
   ]
  },
  {
   "cell_type": "markdown",
   "metadata": {},
   "source": [
    "2. Load the ```ceosal2``` data set from the ```wooldridge``` R library and create a ```tbl``` class local copy."
   ]
  },
  {
   "cell_type": "code",
   "execution_count": 3,
   "metadata": {
    "scrolled": true
   },
   "outputs": [
    {
     "data": {
      "text/html": [
       "<table>\n",
       "<thead><tr><th scope=col>salary</th><th scope=col>age</th><th scope=col>college</th><th scope=col>grad</th><th scope=col>comten</th><th scope=col>ceoten</th><th scope=col>sales</th><th scope=col>profits</th><th scope=col>mktval</th><th scope=col>lsalary</th><th scope=col>lsales</th><th scope=col>lmktval</th><th scope=col>comtensq</th><th scope=col>ceotensq</th><th scope=col>profmarg</th></tr></thead>\n",
       "<tbody>\n",
       "\t<tr><td>1161     </td><td>49       </td><td>1        </td><td>1        </td><td> 9       </td><td> 2       </td><td> 6200    </td><td>966      </td><td>23200    </td><td>7.057037 </td><td>8.732305 </td><td>10.051908</td><td>  81     </td><td>  4      </td><td>15.580646</td></tr>\n",
       "\t<tr><td> 600     </td><td>43       </td><td>1        </td><td>1        </td><td>10       </td><td>10       </td><td>  283    </td><td> 48      </td><td> 1100    </td><td>6.396930 </td><td>5.645447 </td><td> 7.003066</td><td> 100     </td><td>100      </td><td>16.961130</td></tr>\n",
       "\t<tr><td> 379     </td><td>51       </td><td>1        </td><td>1        </td><td> 9       </td><td> 3       </td><td>  169    </td><td> 40      </td><td> 1100    </td><td>5.937536 </td><td>5.129899 </td><td> 7.003066</td><td>  81     </td><td>  9      </td><td>23.668638</td></tr>\n",
       "\t<tr><td> 651     </td><td>55       </td><td>1        </td><td>0        </td><td>22       </td><td>22       </td><td> 1100    </td><td>-54      </td><td> 1000    </td><td>6.478509 </td><td>7.003066 </td><td> 6.907755</td><td> 484     </td><td>484      </td><td>-4.909091</td></tr>\n",
       "\t<tr><td> 497     </td><td>44       </td><td>1        </td><td>1        </td><td> 8       </td><td> 6       </td><td>  351    </td><td> 28      </td><td>  387    </td><td>6.208590 </td><td>5.860786 </td><td> 5.958425</td><td>  64     </td><td> 36      </td><td> 7.977208</td></tr>\n",
       "\t<tr><td>1067     </td><td>64       </td><td>1        </td><td>1        </td><td> 7       </td><td> 7       </td><td>19000    </td><td>614      </td><td> 3900    </td><td>6.972606 </td><td>9.852194 </td><td> 8.268732</td><td>  49     </td><td> 49      </td><td> 3.231579</td></tr>\n",
       "\t<tr><td> 945     </td><td>59       </td><td>1        </td><td>0        </td><td>35       </td><td>10       </td><td>  536    </td><td> 24      </td><td>  623    </td><td>6.851185 </td><td>6.284134 </td><td> 6.434546</td><td>1225     </td><td>100      </td><td> 4.477612</td></tr>\n",
       "\t<tr><td>1261     </td><td>63       </td><td>1        </td><td>1        </td><td>32       </td><td> 8       </td><td> 4800    </td><td>191      </td><td> 2100    </td><td>7.139660 </td><td>8.476371 </td><td> 7.649693</td><td>1024     </td><td> 64      </td><td> 3.979167</td></tr>\n",
       "\t<tr><td> 503     </td><td>47       </td><td>1        </td><td>1        </td><td> 4       </td><td> 4       </td><td>  610    </td><td>  7      </td><td>  454    </td><td>6.220590 </td><td>6.413459 </td><td> 6.118097</td><td>  16     </td><td> 16      </td><td> 1.147541</td></tr>\n",
       "\t<tr><td>1094     </td><td>64       </td><td>1        </td><td>1        </td><td>39       </td><td> 5       </td><td> 2900    </td><td>230      </td><td> 3900    </td><td>6.997596 </td><td>7.972466 </td><td> 8.268732</td><td>1521     </td><td> 25      </td><td> 7.931035</td></tr>\n",
       "</tbody>\n",
       "</table>\n"
      ],
      "text/latex": [
       "\\begin{tabular}{r|lllllllllllllll}\n",
       " salary & age & college & grad & comten & ceoten & sales & profits & mktval & lsalary & lsales & lmktval & comtensq & ceotensq & profmarg\\\\\n",
       "\\hline\n",
       "\t 1161      & 49        & 1         & 1         &  9        &  2        &  6200     & 966       & 23200     & 7.057037  & 8.732305  & 10.051908 &   81      &   4       & 15.580646\\\\\n",
       "\t  600      & 43        & 1         & 1         & 10        & 10        &   283     &  48       &  1100     & 6.396930  & 5.645447  &  7.003066 &  100      & 100       & 16.961130\\\\\n",
       "\t  379      & 51        & 1         & 1         &  9        &  3        &   169     &  40       &  1100     & 5.937536  & 5.129899  &  7.003066 &   81      &   9       & 23.668638\\\\\n",
       "\t  651      & 55        & 1         & 0         & 22        & 22        &  1100     & -54       &  1000     & 6.478509  & 7.003066  &  6.907755 &  484      & 484       & -4.909091\\\\\n",
       "\t  497      & 44        & 1         & 1         &  8        &  6        &   351     &  28       &   387     & 6.208590  & 5.860786  &  5.958425 &   64      &  36       &  7.977208\\\\\n",
       "\t 1067      & 64        & 1         & 1         &  7        &  7        & 19000     & 614       &  3900     & 6.972606  & 9.852194  &  8.268732 &   49      &  49       &  3.231579\\\\\n",
       "\t  945      & 59        & 1         & 0         & 35        & 10        &   536     &  24       &   623     & 6.851185  & 6.284134  &  6.434546 & 1225      & 100       &  4.477612\\\\\n",
       "\t 1261      & 63        & 1         & 1         & 32        &  8        &  4800     & 191       &  2100     & 7.139660  & 8.476371  &  7.649693 & 1024      &  64       &  3.979167\\\\\n",
       "\t  503      & 47        & 1         & 1         &  4        &  4        &   610     &   7       &   454     & 6.220590  & 6.413459  &  6.118097 &   16      &  16       &  1.147541\\\\\n",
       "\t 1094      & 64        & 1         & 1         & 39        &  5        &  2900     & 230       &  3900     & 6.997596  & 7.972466  &  8.268732 & 1521      &  25       &  7.931035\\\\\n",
       "\\end{tabular}\n"
      ],
      "text/markdown": [
       "\n",
       "| salary | age | college | grad | comten | ceoten | sales | profits | mktval | lsalary | lsales | lmktval | comtensq | ceotensq | profmarg |\n",
       "|---|---|---|---|---|---|---|---|---|---|---|---|---|---|---|\n",
       "| 1161      | 49        | 1         | 1         |  9        |  2        |  6200     | 966       | 23200     | 7.057037  | 8.732305  | 10.051908 |   81      |   4       | 15.580646 |\n",
       "|  600      | 43        | 1         | 1         | 10        | 10        |   283     |  48       |  1100     | 6.396930  | 5.645447  |  7.003066 |  100      | 100       | 16.961130 |\n",
       "|  379      | 51        | 1         | 1         |  9        |  3        |   169     |  40       |  1100     | 5.937536  | 5.129899  |  7.003066 |   81      |   9       | 23.668638 |\n",
       "|  651      | 55        | 1         | 0         | 22        | 22        |  1100     | -54       |  1000     | 6.478509  | 7.003066  |  6.907755 |  484      | 484       | -4.909091 |\n",
       "|  497      | 44        | 1         | 1         |  8        |  6        |   351     |  28       |   387     | 6.208590  | 5.860786  |  5.958425 |   64      |  36       |  7.977208 |\n",
       "| 1067      | 64        | 1         | 1         |  7        |  7        | 19000     | 614       |  3900     | 6.972606  | 9.852194  |  8.268732 |   49      |  49       |  3.231579 |\n",
       "|  945      | 59        | 1         | 0         | 35        | 10        |   536     |  24       |   623     | 6.851185  | 6.284134  |  6.434546 | 1225      | 100       |  4.477612 |\n",
       "| 1261      | 63        | 1         | 1         | 32        |  8        |  4800     | 191       |  2100     | 7.139660  | 8.476371  |  7.649693 | 1024      |  64       |  3.979167 |\n",
       "|  503      | 47        | 1         | 1         |  4        |  4        |   610     |   7       |   454     | 6.220590  | 6.413459  |  6.118097 |   16      |  16       |  1.147541 |\n",
       "| 1094      | 64        | 1         | 1         | 39        |  5        |  2900     | 230       |  3900     | 6.997596  | 7.972466  |  8.268732 | 1521      |  25       |  7.931035 |\n",
       "\n"
      ],
      "text/plain": [
       "   salary age college grad comten ceoten sales profits mktval lsalary  lsales  \n",
       "1  1161   49  1       1     9      2      6200 966     23200  7.057037 8.732305\n",
       "2   600   43  1       1    10     10       283  48      1100  6.396930 5.645447\n",
       "3   379   51  1       1     9      3       169  40      1100  5.937536 5.129899\n",
       "4   651   55  1       0    22     22      1100 -54      1000  6.478509 7.003066\n",
       "5   497   44  1       1     8      6       351  28       387  6.208590 5.860786\n",
       "6  1067   64  1       1     7      7     19000 614      3900  6.972606 9.852194\n",
       "7   945   59  1       0    35     10       536  24       623  6.851185 6.284134\n",
       "8  1261   63  1       1    32      8      4800 191      2100  7.139660 8.476371\n",
       "9   503   47  1       1     4      4       610   7       454  6.220590 6.413459\n",
       "10 1094   64  1       1    39      5      2900 230      3900  6.997596 7.972466\n",
       "   lmktval   comtensq ceotensq profmarg \n",
       "1  10.051908   81       4      15.580646\n",
       "2   7.003066  100     100      16.961130\n",
       "3   7.003066   81       9      23.668638\n",
       "4   6.907755  484     484      -4.909091\n",
       "5   5.958425   64      36       7.977208\n",
       "6   8.268732   49      49       3.231579\n",
       "7   6.434546 1225     100       4.477612\n",
       "8   7.649693 1024      64       3.979167\n",
       "9   6.118097   16      16       1.147541\n",
       "10  8.268732 1521      25       7.931035"
      ]
     },
     "metadata": {},
     "output_type": "display_data"
    }
   ],
   "source": [
    "data(ceosal2, package='wooldridge')\n",
    "ceo_salary <- ceosal2\n",
    "head(ceo_salary, 10)"
   ]
  },
  {
   "cell_type": "markdown",
   "metadata": {},
   "source": [
    "#### <font color='red'>Comments:</font> \n",
    "\n",
    "To create a ```tbl``` class local copy you need to use the ```tbl_df``` function from the ```dplyr``` package."
   ]
  },
  {
   "cell_type": "markdown",
   "metadata": {},
   "source": [
    "3. Estimate $E[\\texttt{comten}|\\texttt{college}=1]$, $E[\\texttt{comten}|\\texttt{college}=0]$, $E[\\texttt{ceoten}|\\texttt{college}=1]$ and $E[\\texttt{ceoten}|\\texttt{college}=0]$, save these values and display them."
   ]
  },
  {
   "cell_type": "code",
   "execution_count": 4,
   "metadata": {},
   "outputs": [
    {
     "data": {
      "text/html": [
       "22.174"
      ],
      "text/latex": [
       "22.174"
      ],
      "text/markdown": [
       "22.174"
      ],
      "text/plain": [
       "[1] 22.174"
      ]
     },
     "metadata": {},
     "output_type": "display_data"
    },
    {
     "data": {
      "text/html": [
       "33.8"
      ],
      "text/latex": [
       "33.8"
      ],
      "text/markdown": [
       "33.8"
      ],
      "text/plain": [
       "[1] 33.8"
      ]
     },
     "metadata": {},
     "output_type": "display_data"
    },
    {
     "data": {
      "text/html": [
       "7.826"
      ],
      "text/latex": [
       "7.826"
      ],
      "text/markdown": [
       "7.826"
      ],
      "text/plain": [
       "[1] 7.826"
      ]
     },
     "metadata": {},
     "output_type": "display_data"
    },
    {
     "data": {
      "text/html": [
       "12.4"
      ],
      "text/latex": [
       "12.4"
      ],
      "text/markdown": [
       "12.4"
      ],
      "text/plain": [
       "[1] 12.4"
      ]
     },
     "metadata": {},
     "output_type": "display_data"
    }
   ],
   "source": [
    "# Estimate E[comten|college=1]\n",
    "comten_college1 <- mean((filter(ceo_salary, college==1))$comten)\n",
    "round(comten_college1, 3)\n",
    "\n",
    "# Estimate E[comten|college=0]\n",
    "(comten_college0 <- mean((filter(ceo_salary, college==0))$comten))\n",
    "\n",
    "# Estimate E[ceoten|college=1]\n",
    "ceoten_college1 <- mean((filter(ceo_salary, college==1))$ceoten)\n",
    "round(ceoten_college1,3)\n",
    "\n",
    "# Estimate E[ceoten|college=0]\n",
    "(ceoten_college0 <- mean((filter(ceo_salary, college==0))$ceoten))"
   ]
  },
  {
   "cell_type": "markdown",
   "metadata": {},
   "source": [
    "4. Add two *new* variables to your local copy of the data set, ```d_comten_sq``` and ```d_ceoten_sq```, defined as the square of the difference between the corresponding ```comten``` and ```ceoten``` values and the corresponding means you calculated in (3) above, i.e., if $\\texttt{comten}_i$ corresponds to the years with the company of CEO $i$ who went to college, then the corresponding value of $\\texttt{d}\\_\\texttt{comten}\\_\\texttt{sq}_i$ should be $(\\texttt{comten}_i-\\widehat{E}[\\texttt{comten}|\\texttt{college}=1])^2$, where $\\widehat{E}[\\texttt{comten}|\\texttt{college}=1]$ represents the estimate of $E[\\texttt{comten}|\\texttt{college}=1]$ you obtained in (3) above for example."
   ]
  },
  {
   "cell_type": "code",
   "execution_count": 5,
   "metadata": {},
   "outputs": [
    {
     "data": {
      "text/html": [
       "<table>\n",
       "<thead><tr><th scope=col>salary</th><th scope=col>age</th><th scope=col>college</th><th scope=col>grad</th><th scope=col>comten</th><th scope=col>ceoten</th><th scope=col>sales</th><th scope=col>profits</th><th scope=col>mktval</th><th scope=col>lsalary</th><th scope=col>lsales</th><th scope=col>lmktval</th><th scope=col>comtensq</th><th scope=col>ceotensq</th><th scope=col>profmarg</th><th scope=col>d_comten_sq</th><th scope=col>d_ceoten_sq</th></tr></thead>\n",
       "<tbody>\n",
       "\t<tr><td>1161        </td><td>49          </td><td>1           </td><td>1           </td><td> 9          </td><td> 2          </td><td> 6200       </td><td>966         </td><td>23200       </td><td>7.057037    </td><td>8.732305    </td><td>10.051908   </td><td> 81         </td><td>  4         </td><td>15.580646   </td><td>173.56530557</td><td> 33.9373986 </td></tr>\n",
       "\t<tr><td> 600        </td><td>43          </td><td>1           </td><td>1           </td><td>10          </td><td>10          </td><td>  283       </td><td> 48         </td><td> 1100       </td><td>6.396930    </td><td>5.645447    </td><td> 7.003066   </td><td>100         </td><td>100         </td><td>16.961130   </td><td>148.21646836</td><td>  4.7280963 </td></tr>\n",
       "\t<tr><td> 379        </td><td>51          </td><td>1           </td><td>1           </td><td> 9          </td><td> 3          </td><td>  169       </td><td> 40         </td><td> 1100       </td><td>5.937536    </td><td>5.129899    </td><td> 7.003066   </td><td> 81         </td><td>  9         </td><td>23.668638   </td><td>173.56530557</td><td> 23.2862358 </td></tr>\n",
       "\t<tr><td> 651        </td><td>55          </td><td>1           </td><td>0           </td><td>22          </td><td>22          </td><td> 1100       </td><td>-54         </td><td> 1000       </td><td>6.478509    </td><td>7.003066    </td><td> 6.907755   </td><td>484         </td><td>484         </td><td>-4.909091   </td><td>  0.03042185</td><td>200.9141428 </td></tr>\n",
       "\t<tr><td> 497        </td><td>44          </td><td>1           </td><td>1           </td><td> 8          </td><td> 6          </td><td>  351       </td><td> 28         </td><td>  387       </td><td>6.208590    </td><td>5.860786    </td><td> 5.958425   </td><td> 64         </td><td> 36         </td><td> 7.977208   </td><td>200.91414278</td><td>  3.3327474 </td></tr>\n",
       "\t<tr><td>1067        </td><td>64          </td><td>1           </td><td>1           </td><td> 7          </td><td> 7          </td><td>19000       </td><td>614         </td><td> 3900       </td><td>6.972606    </td><td>9.852194    </td><td> 8.268732   </td><td> 49         </td><td> 49         </td><td> 3.231579   </td><td>230.26297999</td><td>  0.6815846 </td></tr>\n",
       "</tbody>\n",
       "</table>\n"
      ],
      "text/latex": [
       "\\begin{tabular}{r|lllllllllllllllll}\n",
       " salary & age & college & grad & comten & ceoten & sales & profits & mktval & lsalary & lsales & lmktval & comtensq & ceotensq & profmarg & d\\_comten\\_sq & d\\_ceoten\\_sq\\\\\n",
       "\\hline\n",
       "\t 1161         & 49           & 1            & 1            &  9           &  2           &  6200        & 966          & 23200        & 7.057037     & 8.732305     & 10.051908    &  81          &   4          & 15.580646    & 173.56530557 &  33.9373986 \\\\\n",
       "\t  600         & 43           & 1            & 1            & 10           & 10           &   283        &  48          &  1100        & 6.396930     & 5.645447     &  7.003066    & 100          & 100          & 16.961130    & 148.21646836 &   4.7280963 \\\\\n",
       "\t  379         & 51           & 1            & 1            &  9           &  3           &   169        &  40          &  1100        & 5.937536     & 5.129899     &  7.003066    &  81          &   9          & 23.668638    & 173.56530557 &  23.2862358 \\\\\n",
       "\t  651         & 55           & 1            & 0            & 22           & 22           &  1100        & -54          &  1000        & 6.478509     & 7.003066     &  6.907755    & 484          & 484          & -4.909091    &   0.03042185 & 200.9141428 \\\\\n",
       "\t  497         & 44           & 1            & 1            &  8           &  6           &   351        &  28          &   387        & 6.208590     & 5.860786     &  5.958425    &  64          &  36          &  7.977208    & 200.91414278 &   3.3327474 \\\\\n",
       "\t 1067         & 64           & 1            & 1            &  7           &  7           & 19000        & 614          &  3900        & 6.972606     & 9.852194     &  8.268732    &  49          &  49          &  3.231579    & 230.26297999 &   0.6815846 \\\\\n",
       "\\end{tabular}\n"
      ],
      "text/markdown": [
       "\n",
       "| salary | age | college | grad | comten | ceoten | sales | profits | mktval | lsalary | lsales | lmktval | comtensq | ceotensq | profmarg | d_comten_sq | d_ceoten_sq |\n",
       "|---|---|---|---|---|---|---|---|---|---|---|---|---|---|---|---|---|\n",
       "| 1161         | 49           | 1            | 1            |  9           |  2           |  6200        | 966          | 23200        | 7.057037     | 8.732305     | 10.051908    |  81          |   4          | 15.580646    | 173.56530557 |  33.9373986  |\n",
       "|  600         | 43           | 1            | 1            | 10           | 10           |   283        |  48          |  1100        | 6.396930     | 5.645447     |  7.003066    | 100          | 100          | 16.961130    | 148.21646836 |   4.7280963  |\n",
       "|  379         | 51           | 1            | 1            |  9           |  3           |   169        |  40          |  1100        | 5.937536     | 5.129899     |  7.003066    |  81          |   9          | 23.668638    | 173.56530557 |  23.2862358  |\n",
       "|  651         | 55           | 1            | 0            | 22           | 22           |  1100        | -54          |  1000        | 6.478509     | 7.003066     |  6.907755    | 484          | 484          | -4.909091    |   0.03042185 | 200.9141428  |\n",
       "|  497         | 44           | 1            | 1            |  8           |  6           |   351        |  28          |   387        | 6.208590     | 5.860786     |  5.958425    |  64          |  36          |  7.977208    | 200.91414278 |   3.3327474  |\n",
       "| 1067         | 64           | 1            | 1            |  7           |  7           | 19000        | 614          |  3900        | 6.972606     | 9.852194     |  8.268732    |  49          |  49          |  3.231579    | 230.26297999 |   0.6815846  |\n",
       "\n"
      ],
      "text/plain": [
       "  salary age college grad comten ceoten sales profits mktval lsalary  lsales  \n",
       "1 1161   49  1       1     9      2      6200 966     23200  7.057037 8.732305\n",
       "2  600   43  1       1    10     10       283  48      1100  6.396930 5.645447\n",
       "3  379   51  1       1     9      3       169  40      1100  5.937536 5.129899\n",
       "4  651   55  1       0    22     22      1100 -54      1000  6.478509 7.003066\n",
       "5  497   44  1       1     8      6       351  28       387  6.208590 5.860786\n",
       "6 1067   64  1       1     7      7     19000 614      3900  6.972606 9.852194\n",
       "  lmktval   comtensq ceotensq profmarg  d_comten_sq  d_ceoten_sq\n",
       "1 10.051908  81        4      15.580646 173.56530557  33.9373986\n",
       "2  7.003066 100      100      16.961130 148.21646836   4.7280963\n",
       "3  7.003066  81        9      23.668638 173.56530557  23.2862358\n",
       "4  6.907755 484      484      -4.909091   0.03042185 200.9141428\n",
       "5  5.958425  64       36       7.977208 200.91414278   3.3327474\n",
       "6  8.268732  49       49       3.231579 230.26297999   0.6815846"
      ]
     },
     "metadata": {},
     "output_type": "display_data"
    }
   ],
   "source": [
    "# define variables as square of difference between corresponding values and mean\n",
    "\n",
    "# create d_comten_sq and d_ceoten_sq variables\n",
    "ceo_salary$d_comten_sq <- rep(NA, nrow(ceo_salary))\n",
    "ceo_salary$d_ceoten_sq <- rep(NA, nrow(ceo_salary))\n",
    "\n",
    "# define loop through all observations\n",
    "for(i in 1:nrow(ceo_salary)) {\n",
    "    # get value in comten and ceoten row\n",
    "    comten_i <- ceo_salary$comten[i]\n",
    "    ceoten_i <- ceo_salary$ceoten[i]\n",
    "    \n",
    "    # subtract value and previously calculated mean\n",
    "    comten_i <- comten_i - comten_college1\n",
    "    ceoten_i <- ceoten_i - ceoten_college1\n",
    "    \n",
    "    # square the difference and add to dataset\n",
    "    ceo_salary$d_comten_sq[i] <- comten_i^2\n",
    "    ceo_salary$d_ceoten_sq[i] <- ceoten_i^2\n",
    "}\n",
    "\n",
    "head(ceo_salary)\n"
   ]
  },
  {
   "cell_type": "markdown",
   "metadata": {},
   "source": [
    "#### <font color='red'>Comments:</font> \n",
    "\n",
    "As mentioned in the suggested answer, it is important to use vectorized functions instead of loops. In this case, the function ```case_when()``` from ```dplyr``` is a good choice. Also, I do not see where you are using the values *comten_college0* and *ceoten_college0* to define the variables."
   ]
  },
  {
   "cell_type": "markdown",
   "metadata": {},
   "source": [
    "5. Print the sample median of ```d_comten_sq``` and ```d_ceoten_sq```."
   ]
  },
  {
   "cell_type": "code",
   "execution_count": 7,
   "metadata": {},
   "outputs": [
    {
     "data": {
      "text/html": [
       "117.193"
      ],
      "text/latex": [
       "117.193"
      ],
      "text/markdown": [
       "117.193"
      ],
      "text/plain": [
       "[1] 117.193"
      ]
     },
     "metadata": {},
     "output_type": "display_data"
    },
    {
     "data": {
      "text/html": [
       "23.286"
      ],
      "text/latex": [
       "23.286"
      ],
      "text/markdown": [
       "23.286"
      ],
      "text/plain": [
       "[1] 23.286"
      ]
     },
     "metadata": {},
     "output_type": "display_data"
    }
   ],
   "source": [
    "round(median(ceo_salary$d_comten_sq),3)\n",
    "round(median(ceo_salary$d_ceoten_sq),3)"
   ]
  },
  {
   "cell_type": "markdown",
   "metadata": {},
   "source": [
    "6. Using this [online post](https://wilkelab.org/classes/SDS348/2016_spring/projects/project1/project1_hints.html) proceed to divide the data set into three evenly-sized groups corresponding to *small*, *medium*, and *large* sized firms in term of ```lsales```, and add dummy variables ```small```, ```medium```, and ```large``` to your data set."
   ]
  },
  {
   "cell_type": "code",
   "execution_count": 8,
   "metadata": {},
   "outputs": [
    {
     "data": {
      "text/html": [
       "<table>\n",
       "<thead><tr><th scope=col>salary</th><th scope=col>age</th><th scope=col>college</th><th scope=col>grad</th><th scope=col>comten</th><th scope=col>ceoten</th><th scope=col>sales</th><th scope=col>profits</th><th scope=col>mktval</th><th scope=col>lsalary</th><th scope=col>lsales</th><th scope=col>lmktval</th><th scope=col>comtensq</th><th scope=col>ceotensq</th><th scope=col>profmarg</th><th scope=col>d_comten_sq</th><th scope=col>d_ceoten_sq</th><th scope=col>small</th><th scope=col>medium</th><th scope=col>large</th></tr></thead>\n",
       "<tbody>\n",
       "\t<tr><td>1161        </td><td>49          </td><td>1           </td><td>1           </td><td> 9          </td><td> 2          </td><td> 6200       </td><td>966         </td><td>23200       </td><td>7.057037    </td><td>8.732305    </td><td>10.051908   </td><td> 81         </td><td>  4         </td><td>15.580646   </td><td>173.56530557</td><td> 33.9373986 </td><td>0           </td><td>0           </td><td>1           </td></tr>\n",
       "\t<tr><td> 600        </td><td>43          </td><td>1           </td><td>1           </td><td>10          </td><td>10          </td><td>  283       </td><td> 48         </td><td> 1100       </td><td>6.396930    </td><td>5.645447    </td><td> 7.003066   </td><td>100         </td><td>100         </td><td>16.961130   </td><td>148.21646836</td><td>  4.7280963 </td><td>1           </td><td>0           </td><td>0           </td></tr>\n",
       "\t<tr><td> 379        </td><td>51          </td><td>1           </td><td>1           </td><td> 9          </td><td> 3          </td><td>  169       </td><td> 40         </td><td> 1100       </td><td>5.937536    </td><td>5.129899    </td><td> 7.003066   </td><td> 81         </td><td>  9         </td><td>23.668638   </td><td>173.56530557</td><td> 23.2862358 </td><td>1           </td><td>0           </td><td>0           </td></tr>\n",
       "\t<tr><td> 651        </td><td>55          </td><td>1           </td><td>0           </td><td>22          </td><td>22          </td><td> 1100       </td><td>-54         </td><td> 1000       </td><td>6.478509    </td><td>7.003066    </td><td> 6.907755   </td><td>484         </td><td>484         </td><td>-4.909091   </td><td>  0.03042185</td><td>200.9141428 </td><td>0           </td><td>1           </td><td>0           </td></tr>\n",
       "\t<tr><td> 497        </td><td>44          </td><td>1           </td><td>1           </td><td> 8          </td><td> 6          </td><td>  351       </td><td> 28         </td><td>  387       </td><td>6.208590    </td><td>5.860786    </td><td> 5.958425   </td><td> 64         </td><td> 36         </td><td> 7.977208   </td><td>200.91414278</td><td>  3.3327474 </td><td>1           </td><td>0           </td><td>0           </td></tr>\n",
       "\t<tr><td>1067        </td><td>64          </td><td>1           </td><td>1           </td><td> 7          </td><td> 7          </td><td>19000       </td><td>614         </td><td> 3900       </td><td>6.972606    </td><td>9.852194    </td><td> 8.268732   </td><td> 49         </td><td> 49         </td><td> 3.231579   </td><td>230.26297999</td><td>  0.6815846 </td><td>0           </td><td>0           </td><td>1           </td></tr>\n",
       "</tbody>\n",
       "</table>\n"
      ],
      "text/latex": [
       "\\begin{tabular}{r|llllllllllllllllllll}\n",
       " salary & age & college & grad & comten & ceoten & sales & profits & mktval & lsalary & lsales & lmktval & comtensq & ceotensq & profmarg & d\\_comten\\_sq & d\\_ceoten\\_sq & small & medium & large\\\\\n",
       "\\hline\n",
       "\t 1161         & 49           & 1            & 1            &  9           &  2           &  6200        & 966          & 23200        & 7.057037     & 8.732305     & 10.051908    &  81          &   4          & 15.580646    & 173.56530557 &  33.9373986  & 0            & 0            & 1           \\\\\n",
       "\t  600         & 43           & 1            & 1            & 10           & 10           &   283        &  48          &  1100        & 6.396930     & 5.645447     &  7.003066    & 100          & 100          & 16.961130    & 148.21646836 &   4.7280963  & 1            & 0            & 0           \\\\\n",
       "\t  379         & 51           & 1            & 1            &  9           &  3           &   169        &  40          &  1100        & 5.937536     & 5.129899     &  7.003066    &  81          &   9          & 23.668638    & 173.56530557 &  23.2862358  & 1            & 0            & 0           \\\\\n",
       "\t  651         & 55           & 1            & 0            & 22           & 22           &  1100        & -54          &  1000        & 6.478509     & 7.003066     &  6.907755    & 484          & 484          & -4.909091    &   0.03042185 & 200.9141428  & 0            & 1            & 0           \\\\\n",
       "\t  497         & 44           & 1            & 1            &  8           &  6           &   351        &  28          &   387        & 6.208590     & 5.860786     &  5.958425    &  64          &  36          &  7.977208    & 200.91414278 &   3.3327474  & 1            & 0            & 0           \\\\\n",
       "\t 1067         & 64           & 1            & 1            &  7           &  7           & 19000        & 614          &  3900        & 6.972606     & 9.852194     &  8.268732    &  49          &  49          &  3.231579    & 230.26297999 &   0.6815846  & 0            & 0            & 1           \\\\\n",
       "\\end{tabular}\n"
      ],
      "text/markdown": [
       "\n",
       "| salary | age | college | grad | comten | ceoten | sales | profits | mktval | lsalary | lsales | lmktval | comtensq | ceotensq | profmarg | d_comten_sq | d_ceoten_sq | small | medium | large |\n",
       "|---|---|---|---|---|---|---|---|---|---|---|---|---|---|---|---|---|---|---|---|\n",
       "| 1161         | 49           | 1            | 1            |  9           |  2           |  6200        | 966          | 23200        | 7.057037     | 8.732305     | 10.051908    |  81          |   4          | 15.580646    | 173.56530557 |  33.9373986  | 0            | 0            | 1            |\n",
       "|  600         | 43           | 1            | 1            | 10           | 10           |   283        |  48          |  1100        | 6.396930     | 5.645447     |  7.003066    | 100          | 100          | 16.961130    | 148.21646836 |   4.7280963  | 1            | 0            | 0            |\n",
       "|  379         | 51           | 1            | 1            |  9           |  3           |   169        |  40          |  1100        | 5.937536     | 5.129899     |  7.003066    |  81          |   9          | 23.668638    | 173.56530557 |  23.2862358  | 1            | 0            | 0            |\n",
       "|  651         | 55           | 1            | 0            | 22           | 22           |  1100        | -54          |  1000        | 6.478509     | 7.003066     |  6.907755    | 484          | 484          | -4.909091    |   0.03042185 | 200.9141428  | 0            | 1            | 0            |\n",
       "|  497         | 44           | 1            | 1            |  8           |  6           |   351        |  28          |   387        | 6.208590     | 5.860786     |  5.958425    |  64          |  36          |  7.977208    | 200.91414278 |   3.3327474  | 1            | 0            | 0            |\n",
       "| 1067         | 64           | 1            | 1            |  7           |  7           | 19000        | 614          |  3900        | 6.972606     | 9.852194     |  8.268732    |  49          |  49          |  3.231579    | 230.26297999 |   0.6815846  | 0            | 0            | 1            |\n",
       "\n"
      ],
      "text/plain": [
       "  salary age college grad comten ceoten sales profits mktval lsalary  lsales  \n",
       "1 1161   49  1       1     9      2      6200 966     23200  7.057037 8.732305\n",
       "2  600   43  1       1    10     10       283  48      1100  6.396930 5.645447\n",
       "3  379   51  1       1     9      3       169  40      1100  5.937536 5.129899\n",
       "4  651   55  1       0    22     22      1100 -54      1000  6.478509 7.003066\n",
       "5  497   44  1       1     8      6       351  28       387  6.208590 5.860786\n",
       "6 1067   64  1       1     7      7     19000 614      3900  6.972606 9.852194\n",
       "  lmktval   comtensq ceotensq profmarg  d_comten_sq  d_ceoten_sq small medium\n",
       "1 10.051908  81        4      15.580646 173.56530557  33.9373986 0     0     \n",
       "2  7.003066 100      100      16.961130 148.21646836   4.7280963 1     0     \n",
       "3  7.003066  81        9      23.668638 173.56530557  23.2862358 1     0     \n",
       "4  6.907755 484      484      -4.909091   0.03042185 200.9141428 0     1     \n",
       "5  5.958425  64       36       7.977208 200.91414278   3.3327474 1     0     \n",
       "6  8.268732  49       49       3.231579 230.26297999   0.6815846 0     0     \n",
       "  large\n",
       "1 1    \n",
       "2 0    \n",
       "3 0    \n",
       "4 0    \n",
       "5 0    \n",
       "6 1    "
      ]
     },
     "metadata": {},
     "output_type": "display_data"
    }
   ],
   "source": [
    "# divide data into three evenly-sized groups corresponding to small, medium and large sized firms (terms of lsales)\n",
    "ceo_salary <- ceo_salary %>% mutate(three_groups = ntile(lsales,3))\n",
    "\n",
    "# add dummy variables small, medium, large to data set\n",
    "# create dummy variables\n",
    "ceo_salary$small <- rep(0,nrow(ceo_salary))\n",
    "ceo_salary$medium <- rep(0, nrow(ceo_salary))\n",
    "ceo_salary$large <- rep(0, nrow(ceo_salary))\n",
    "\n",
    "# create for loop for observations\n",
    "for(i in 1:nrow(ceo_salary)) {\n",
    "    # create if else statements to put 1's in\n",
    "    if(ceo_salary$three_groups[i] == 1)\n",
    "        ceo_salary$small[i] <- 1\n",
    "    \n",
    "    else if (ceo_salary$three_groups[i] == 2)\n",
    "        ceo_salary$medium[i] <- 1\n",
    "        \n",
    "    else if (ceo_salary$three_groups[i] == 3)\n",
    "        ceo_salary$large[i] <- 1\n",
    "}\n",
    "  \n",
    "# remove three_groups column\n",
    "ceo_salary <- subset(ceo_salary, select = -(three_groups))\n",
    "\n",
    "# show dataset\n",
    "head(ceo_salary)"
   ]
  },
  {
   "cell_type": "markdown",
   "metadata": {},
   "source": [
    "#### <font color='red'>Comments:</font> \n",
    "\n",
    "Again, it is a good practice to try to avoid loops. In this case I use the ```model.matrix``` function along with the ```factor``` option to avoid the loop. "
   ]
  },
  {
   "cell_type": "markdown",
   "metadata": {},
   "source": [
    "7. Estimate $E[\\texttt{salary}|\\texttt{small}=1]$, $E[\\texttt{salary}|\\texttt{medium}=1]$, and $E[\\texttt{salary}|\\texttt{large}=1]$, and print these values."
   ]
  },
  {
   "cell_type": "code",
   "execution_count": 9,
   "metadata": {},
   "outputs": [
    {
     "data": {
      "text/html": [
       "617.237"
      ],
      "text/latex": [
       "617.237"
      ],
      "text/markdown": [
       "617.237"
      ],
      "text/plain": [
       "[1] 617.237"
      ]
     },
     "metadata": {},
     "output_type": "display_data"
    },
    {
     "data": {
      "text/html": [
       "836.441"
      ],
      "text/latex": [
       "836.441"
      ],
      "text/markdown": [
       "836.441"
      ],
      "text/plain": [
       "[1] 836.441"
      ]
     },
     "metadata": {},
     "output_type": "display_data"
    },
    {
     "data": {
      "text/html": [
       "1143.915"
      ],
      "text/latex": [
       "1143.915"
      ],
      "text/markdown": [
       "1143.915"
      ],
      "text/plain": [
       "[1] 1143.915"
      ]
     },
     "metadata": {},
     "output_type": "display_data"
    }
   ],
   "source": [
    "# estimate E[salary|small=1]\n",
    "round(mean((filter(ceo_salary, small==1))$salary),3)\n",
    "\n",
    "# estimate E[salary|medium=1]\n",
    "round(mean((filter(ceo_salary, medium==1))$salary),3)\n",
    "\n",
    "# estimate E[salary|large=1]\n",
    "round(mean((filter(ceo_salary, large==1))$salary),3)\n"
   ]
  },
  {
   "cell_type": "markdown",
   "metadata": {},
   "source": [
    "8. Now consider the following model\n",
    "\n",
    "$$\n",
    "\\texttt{lsalary}=\\beta_0+\\beta_1\\texttt{grad}+\\beta_2\\texttt{medium}+\\beta_3\\texttt{large}+\\beta_4\\texttt{lmktval}+\\beta_5\\texttt{comten}+\\beta_6\\texttt{ceoten}+\\beta_7\\texttt{d}\\_\\texttt{comten}\\_\\texttt{sq}+\\beta_8\\texttt{d}\\_\\texttt{ceoten}\\_\\texttt{sq}+e\\text{.}\n",
    "$$\n",
    "\n",
    "Is there perfect multicollinearity?"
   ]
  },
  {
   "cell_type": "code",
   "execution_count": 18,
   "metadata": {},
   "outputs": [
    {
     "name": "stderr",
     "output_type": "stream",
     "text": [
      "Warning message in if (rank == dimension) {:\n",
      "\"the condition has length > 1 and only the first element will be used\""
     ]
    },
    {
     "name": "stdout",
     "output_type": "stream",
     "text": [
      "[1] \"There is no perfect multicollinearity\"\n"
     ]
    }
   ],
   "source": [
    "# add log salary to ceo_salary dataset\n",
    "ceo_salary$lsalary <- log(ceo_salary$salary)\n",
    "\n",
    "# specify the model\n",
    "model <- as.formula(paste(\"lsalary\", \n",
    "            paste(c(\"grad\",\"medium\",\"large\",\"lmktval\",\"comten\",\"ceoten\",\"d_comten_sq\",\"d_ceoten_sq\"), collapse= \" + \"),\n",
    "            sep = \" ~ \" ))\n",
    "\n",
    "# create the design matrix\n",
    "matrix <- model.matrix(model, data=ceo_salary)\n",
    "\n",
    "# calculate & print E[xx']\n",
    "X <- t(matrix) %*% matrix/nrow(matrix)\n",
    "\n",
    "# get rank and dimensions of E[xx']\n",
    "dimension <- dim(X)\n",
    "rank <- qr(X)$rank\n",
    "\n",
    "# check if the dimensions of X match rank\n",
    "if(rank == dimension) {\n",
    "    print(\"There is no perfect multicollinearity\")\n",
    "    } else {\n",
    "    print(\"There is perfect collinearity\") }"
   ]
  },
  {
   "cell_type": "markdown",
   "metadata": {},
   "source": [
    "#### <font color='red'>Comments:</font> \n",
    "\n",
    "All here is correct. One small comment: note that ```length(dimension)``` is two and ```length(rank)```. The warning message is saying that it only the first element will be used. In this case it does not matter what dimension to use because the matrix $\\mathbf{X}^{\\prime}\\mathbf{X}$ is symmetric but it may be important in other situations. Because the minimum dimension is used to calculate whether a matrix is complete rank, a good practice would be to use ```min(dimension[1],dimension[2])``` in the ```if``` statement."
   ]
  },
  {
   "cell_type": "markdown",
   "metadata": {},
   "source": [
    "9. You are told that a *better* model would be one where *each* dummy variable in the previous specification is interacted with the remaining features. Print the dimensions of the corresponding **design matrix**, $\\mathbf{X}$, for this case and check that $\\mathbf{X}^{\\prime}\\mathbf{X}$ is invertible for this model."
   ]
  },
  {
   "cell_type": "code",
   "execution_count": 20,
   "metadata": {
    "scrolled": false
   },
   "outputs": [
    {
     "data": {
      "text/html": [
       "<table>\n",
       "<thead><tr><th></th><th scope=col>(Intercept)</th><th scope=col>medium:lmktval</th><th scope=col>lmktval:large</th><th scope=col>lmktval:grad</th><th scope=col>medium:comten</th><th scope=col>large:comten</th><th scope=col>grad:comten</th><th scope=col>medium:ceoten</th><th scope=col>large:ceoten</th><th scope=col>grad:ceoten</th><th scope=col>medium:d_comten_sq</th><th scope=col>large:d_comten_sq</th><th scope=col>grad:d_comten_sq</th><th scope=col>medium:d_ceoten_sq</th><th scope=col>large:d_ceoten_sq</th><th scope=col>grad:d_ceoten_sq</th></tr></thead>\n",
       "<tbody>\n",
       "\t<tr><th scope=row>(Intercept)</th><td> 1.000000  </td><td>  2.353654 </td><td>  2.854037 </td><td>  4.014300 </td><td>   8.073446</td><td>   8.163842</td><td>  10.55367 </td><td>  2.881356 </td><td>  2.446328 </td><td>  3.858757 </td><td>  39.85931 </td><td>   47.3080 </td><td>   72.17303</td><td>   24.22063</td><td>  13.89373 </td><td>  20.01011 </td></tr>\n",
       "\t<tr><th scope=row>medium:lmktval</th><td> 2.353654  </td><td> 16.764356 </td><td>  0.000000 </td><td>  7.033834 </td><td>  56.760826</td><td>   0.000000</td><td>  21.39939 </td><td> 20.212002 </td><td>  0.000000 </td><td>  6.941588 </td><td> 281.77013 </td><td>    0.0000 </td><td>   90.67924</td><td>  167.09806</td><td>   0.00000 </td><td>  39.88466 </td></tr>\n",
       "\t<tr><th scope=row>lmktval:large</th><td> 2.854037  </td><td>  0.000000 </td><td> 24.754021 </td><td> 16.612440 </td><td>   0.000000</td><td>  70.179258</td><td>  44.51939 </td><td>  0.000000 </td><td> 21.101470 </td><td> 14.312509 </td><td>   0.00000 </td><td>  406.1669 </td><td>  265.45725</td><td>    0.00000</td><td> 122.90254 </td><td>  77.11512 </td></tr>\n",
       "\t<tr><th scope=row>lmktval:grad</th><td> 4.014300  </td><td>  7.033834 </td><td> 16.612440 </td><td> 31.134387 </td><td>  21.399392</td><td>  44.519386</td><td>  81.59230 </td><td>  6.941588 </td><td> 14.312509 </td><td> 29.141589 </td><td>  90.67924 </td><td>  265.4572 </td><td>  540.56235</td><td>   39.88466</td><td>  77.11512 </td><td> 153.89059 </td></tr>\n",
       "\t<tr><th scope=row>medium:comten</th><td> 8.073446  </td><td> 56.760826 </td><td>  0.000000 </td><td> 21.399392 </td><td> 234.005650</td><td>   0.000000</td><td>  79.94915 </td><td> 77.084746 </td><td>  0.000000 </td><td> 23.649718 </td><td>1075.84592 </td><td>    0.0000 </td><td>  251.29002</td><td>  795.39605</td><td>   0.00000 </td><td> 141.63504 </td></tr>\n",
       "\t<tr><th scope=row>large:comten</th><td> 8.163842  </td><td>  0.000000 </td><td> 70.179258 </td><td> 44.519386 </td><td>   0.000000</td><td> 245.463277</td><td> 148.94915 </td><td>  0.000000 </td><td> 67.011299 </td><td> 42.124294 </td><td>   0.00000 </td><td> 1062.1501 </td><td>  609.74255</td><td>    0.00000</td><td> 408.60994 </td><td> 236.65334 </td></tr>\n",
       "\t<tr><th scope=row>grad:comten</th><td>10.553672  </td><td> 21.399392 </td><td> 44.519386 </td><td> 81.592298 </td><td>  79.949153</td><td> 148.949153</td><td> 279.08475 </td><td> 23.649718 </td><td> 42.124294 </td><td> 86.587571 </td><td> 251.29002 </td><td>  609.7426 </td><td> 1126.15131</td><td>  141.63504</td><td> 236.65334 </td><td> 476.53155 </td></tr>\n",
       "\t<tr><th scope=row>medium:ceoten</th><td> 2.881356  </td><td> 20.212002 </td><td>  0.000000 </td><td>  6.941588 </td><td>  77.084746</td><td>   0.000000</td><td>  23.64972 </td><td> 48.903955 </td><td>  0.000000 </td><td> 12.937853 </td><td> 398.83578 </td><td>    0.0000 </td><td>   71.81485</td><td>  615.52426</td><td>   0.00000 </td><td>  72.26841 </td></tr>\n",
       "\t<tr><th scope=row>large:ceoten</th><td> 2.446328  </td><td>  0.000000 </td><td> 21.101470 </td><td> 14.312509 </td><td>   0.000000</td><td>  67.011299</td><td>  42.12429 </td><td>  0.000000 </td><td> 31.768362 </td><td> 20.802260 </td><td>   0.00000 </td><td>  341.1731 </td><td>  189.76770</td><td>    0.00000</td><td> 207.38594 </td><td> 129.13231 </td></tr>\n",
       "\t<tr><th scope=row>grad:ceoten</th><td> 3.858757  </td><td>  6.941588 </td><td> 14.312509 </td><td> 29.141589 </td><td>  23.649718</td><td>  42.124294</td><td>  86.58757 </td><td> 12.937853 </td><td> 20.802260 </td><td> 47.881356 </td><td>  71.81485 </td><td>  189.7677 </td><td>  406.06851</td><td>   72.26841</td><td> 129.13231 </td><td> 270.73518 </td></tr>\n",
       "\t<tr><th scope=row>medium:d_comten_sq</th><td>39.859306  </td><td>281.770126 </td><td>  0.000000 </td><td> 90.679245 </td><td>1075.845925</td><td>   0.000000</td><td> 251.29002 </td><td>398.835784 </td><td>  0.000000 </td><td> 71.814853 </td><td>8938.53221 </td><td>    0.0000 </td><td> 2488.00654</td><td> 4994.18142</td><td>   0.00000 </td><td> 500.82293 </td></tr>\n",
       "\t<tr><th scope=row>large:d_comten_sq</th><td>47.307999  </td><td>  0.000000 </td><td>406.166934 </td><td>265.457246 </td><td>   0.000000</td><td>1062.150080</td><td> 609.74255 </td><td>  0.000000 </td><td>341.173095 </td><td>189.767702 </td><td>   0.00000 </td><td>12070.6617 </td><td> 7409.07024</td><td>    0.00000</td><td>2317.83377 </td><td>1052.84913 </td></tr>\n",
       "\t<tr><th scope=row>grad:d_comten_sq</th><td>72.173034  </td><td> 90.679245 </td><td>265.457246 </td><td>540.562349 </td><td> 251.290017</td><td> 609.742551</td><td>1126.15131 </td><td> 71.814853 </td><td>189.767702 </td><td>406.068514 </td><td>2488.00654 </td><td> 7409.0702 </td><td>16854.02446</td><td>  500.82293</td><td>1052.84913 </td><td>2159.99140 </td></tr>\n",
       "\t<tr><th scope=row>medium:d_ceoten_sq</th><td>24.220625  </td><td>167.098058 </td><td>  0.000000 </td><td> 39.884662 </td><td> 795.396049</td><td>   0.000000</td><td> 141.63504 </td><td>615.524261 </td><td>  0.000000 </td><td> 72.268407 </td><td>4994.18142 </td><td>    0.0000 </td><td>  500.82293</td><td>11938.40957</td><td>   0.00000 </td><td> 659.58027 </td></tr>\n",
       "\t<tr><th scope=row>large:d_ceoten_sq</th><td>13.893730  </td><td>  0.000000 </td><td>122.902544 </td><td> 77.115124 </td><td>   0.000000</td><td> 408.609941</td><td> 236.65334 </td><td>  0.000000 </td><td>207.385945 </td><td>129.132305 </td><td>   0.00000 </td><td> 2317.8338 </td><td> 1052.84913</td><td>    0.00000</td><td>2215.71045 </td><td>1333.69198 </td></tr>\n",
       "\t<tr><th scope=row>grad:d_ceoten_sq</th><td>20.010112  </td><td> 39.884662 </td><td> 77.115124 </td><td>153.890594 </td><td> 141.635044</td><td> 236.653338</td><td> 476.53155 </td><td> 72.268407 </td><td>129.132305 </td><td>270.735181 </td><td> 500.82293 </td><td> 1052.8491 </td><td> 2159.99140</td><td>  659.58027</td><td>1333.69198 </td><td>2576.03852 </td></tr>\n",
       "</tbody>\n",
       "</table>\n"
      ],
      "text/latex": [
       "\\begin{tabular}{r|llllllllllllllll}\n",
       "  & (Intercept) & medium:lmktval & lmktval:large & lmktval:grad & medium:comten & large:comten & grad:comten & medium:ceoten & large:ceoten & grad:ceoten & medium:d\\_comten\\_sq & large:d\\_comten\\_sq & grad:d\\_comten\\_sq & medium:d\\_ceoten\\_sq & large:d\\_ceoten\\_sq & grad:d\\_ceoten\\_sq\\\\\n",
       "\\hline\n",
       "\t(Intercept) &  1.000000   &   2.353654  &   2.854037  &   4.014300  &    8.073446 &    8.163842 &   10.55367  &   2.881356  &   2.446328  &   3.858757  &   39.85931  &    47.3080  &    72.17303 &    24.22063 &   13.89373  &   20.01011 \\\\\n",
       "\tmedium:lmktval &  2.353654   &  16.764356  &   0.000000  &   7.033834  &   56.760826 &    0.000000 &   21.39939  &  20.212002  &   0.000000  &   6.941588  &  281.77013  &     0.0000  &    90.67924 &   167.09806 &    0.00000  &   39.88466 \\\\\n",
       "\tlmktval:large &  2.854037   &   0.000000  &  24.754021  &  16.612440  &    0.000000 &   70.179258 &   44.51939  &   0.000000  &  21.101470  &  14.312509  &    0.00000  &   406.1669  &   265.45725 &     0.00000 &  122.90254  &   77.11512 \\\\\n",
       "\tlmktval:grad &  4.014300   &   7.033834  &  16.612440  &  31.134387  &   21.399392 &   44.519386 &   81.59230  &   6.941588  &  14.312509  &  29.141589  &   90.67924  &   265.4572  &   540.56235 &    39.88466 &   77.11512  &  153.89059 \\\\\n",
       "\tmedium:comten &  8.073446   &  56.760826  &   0.000000  &  21.399392  &  234.005650 &    0.000000 &   79.94915  &  77.084746  &   0.000000  &  23.649718  & 1075.84592  &     0.0000  &   251.29002 &   795.39605 &    0.00000  &  141.63504 \\\\\n",
       "\tlarge:comten &  8.163842   &   0.000000  &  70.179258  &  44.519386  &    0.000000 &  245.463277 &  148.94915  &   0.000000  &  67.011299  &  42.124294  &    0.00000  &  1062.1501  &   609.74255 &     0.00000 &  408.60994  &  236.65334 \\\\\n",
       "\tgrad:comten & 10.553672   &  21.399392  &  44.519386  &  81.592298  &   79.949153 &  148.949153 &  279.08475  &  23.649718  &  42.124294  &  86.587571  &  251.29002  &   609.7426  &  1126.15131 &   141.63504 &  236.65334  &  476.53155 \\\\\n",
       "\tmedium:ceoten &  2.881356   &  20.212002  &   0.000000  &   6.941588  &   77.084746 &    0.000000 &   23.64972  &  48.903955  &   0.000000  &  12.937853  &  398.83578  &     0.0000  &    71.81485 &   615.52426 &    0.00000  &   72.26841 \\\\\n",
       "\tlarge:ceoten &  2.446328   &   0.000000  &  21.101470  &  14.312509  &    0.000000 &   67.011299 &   42.12429  &   0.000000  &  31.768362  &  20.802260  &    0.00000  &   341.1731  &   189.76770 &     0.00000 &  207.38594  &  129.13231 \\\\\n",
       "\tgrad:ceoten &  3.858757   &   6.941588  &  14.312509  &  29.141589  &   23.649718 &   42.124294 &   86.58757  &  12.937853  &  20.802260  &  47.881356  &   71.81485  &   189.7677  &   406.06851 &    72.26841 &  129.13231  &  270.73518 \\\\\n",
       "\tmedium:d\\_comten\\_sq & 39.859306   & 281.770126  &   0.000000  &  90.679245  & 1075.845925 &    0.000000 &  251.29002  & 398.835784  &   0.000000  &  71.814853  & 8938.53221  &     0.0000  &  2488.00654 &  4994.18142 &    0.00000  &  500.82293 \\\\\n",
       "\tlarge:d\\_comten\\_sq & 47.307999   &   0.000000  & 406.166934  & 265.457246  &    0.000000 & 1062.150080 &  609.74255  &   0.000000  & 341.173095  & 189.767702  &    0.00000  & 12070.6617  &  7409.07024 &     0.00000 & 2317.83377  & 1052.84913 \\\\\n",
       "\tgrad:d\\_comten\\_sq & 72.173034   &  90.679245  & 265.457246  & 540.562349  &  251.290017 &  609.742551 & 1126.15131  &  71.814853  & 189.767702  & 406.068514  & 2488.00654  &  7409.0702  & 16854.02446 &   500.82293 & 1052.84913  & 2159.99140 \\\\\n",
       "\tmedium:d\\_ceoten\\_sq & 24.220625   & 167.098058  &   0.000000  &  39.884662  &  795.396049 &    0.000000 &  141.63504  & 615.524261  &   0.000000  &  72.268407  & 4994.18142  &     0.0000  &   500.82293 & 11938.40957 &    0.00000  &  659.58027 \\\\\n",
       "\tlarge:d\\_ceoten\\_sq & 13.893730   &   0.000000  & 122.902544  &  77.115124  &    0.000000 &  408.609941 &  236.65334  &   0.000000  & 207.385945  & 129.132305  &    0.00000  &  2317.8338  &  1052.84913 &     0.00000 & 2215.71045  & 1333.69198 \\\\\n",
       "\tgrad:d\\_ceoten\\_sq & 20.010112   &  39.884662  &  77.115124  & 153.890594  &  141.635044 &  236.653338 &  476.53155  &  72.268407  & 129.132305  & 270.735181  &  500.82293  &  1052.8491  &  2159.99140 &   659.58027 & 1333.69198  & 2576.03852 \\\\\n",
       "\\end{tabular}\n"
      ],
      "text/markdown": [
       "\n",
       "| <!--/--> | (Intercept) | medium:lmktval | lmktval:large | lmktval:grad | medium:comten | large:comten | grad:comten | medium:ceoten | large:ceoten | grad:ceoten | medium:d_comten_sq | large:d_comten_sq | grad:d_comten_sq | medium:d_ceoten_sq | large:d_ceoten_sq | grad:d_ceoten_sq |\n",
       "|---|---|---|---|---|---|---|---|---|---|---|---|---|---|---|---|---|\n",
       "| (Intercept) |  1.000000   |   2.353654  |   2.854037  |   4.014300  |    8.073446 |    8.163842 |   10.55367  |   2.881356  |   2.446328  |   3.858757  |   39.85931  |    47.3080  |    72.17303 |    24.22063 |   13.89373  |   20.01011  |\n",
       "| medium:lmktval |  2.353654   |  16.764356  |   0.000000  |   7.033834  |   56.760826 |    0.000000 |   21.39939  |  20.212002  |   0.000000  |   6.941588  |  281.77013  |     0.0000  |    90.67924 |   167.09806 |    0.00000  |   39.88466  |\n",
       "| lmktval:large |  2.854037   |   0.000000  |  24.754021  |  16.612440  |    0.000000 |   70.179258 |   44.51939  |   0.000000  |  21.101470  |  14.312509  |    0.00000  |   406.1669  |   265.45725 |     0.00000 |  122.90254  |   77.11512  |\n",
       "| lmktval:grad |  4.014300   |   7.033834  |  16.612440  |  31.134387  |   21.399392 |   44.519386 |   81.59230  |   6.941588  |  14.312509  |  29.141589  |   90.67924  |   265.4572  |   540.56235 |    39.88466 |   77.11512  |  153.89059  |\n",
       "| medium:comten |  8.073446   |  56.760826  |   0.000000  |  21.399392  |  234.005650 |    0.000000 |   79.94915  |  77.084746  |   0.000000  |  23.649718  | 1075.84592  |     0.0000  |   251.29002 |   795.39605 |    0.00000  |  141.63504  |\n",
       "| large:comten |  8.163842   |   0.000000  |  70.179258  |  44.519386  |    0.000000 |  245.463277 |  148.94915  |   0.000000  |  67.011299  |  42.124294  |    0.00000  |  1062.1501  |   609.74255 |     0.00000 |  408.60994  |  236.65334  |\n",
       "| grad:comten | 10.553672   |  21.399392  |  44.519386  |  81.592298  |   79.949153 |  148.949153 |  279.08475  |  23.649718  |  42.124294  |  86.587571  |  251.29002  |   609.7426  |  1126.15131 |   141.63504 |  236.65334  |  476.53155  |\n",
       "| medium:ceoten |  2.881356   |  20.212002  |   0.000000  |   6.941588  |   77.084746 |    0.000000 |   23.64972  |  48.903955  |   0.000000  |  12.937853  |  398.83578  |     0.0000  |    71.81485 |   615.52426 |    0.00000  |   72.26841  |\n",
       "| large:ceoten |  2.446328   |   0.000000  |  21.101470  |  14.312509  |    0.000000 |   67.011299 |   42.12429  |   0.000000  |  31.768362  |  20.802260  |    0.00000  |   341.1731  |   189.76770 |     0.00000 |  207.38594  |  129.13231  |\n",
       "| grad:ceoten |  3.858757   |   6.941588  |  14.312509  |  29.141589  |   23.649718 |   42.124294 |   86.58757  |  12.937853  |  20.802260  |  47.881356  |   71.81485  |   189.7677  |   406.06851 |    72.26841 |  129.13231  |  270.73518  |\n",
       "| medium:d_comten_sq | 39.859306   | 281.770126  |   0.000000  |  90.679245  | 1075.845925 |    0.000000 |  251.29002  | 398.835784  |   0.000000  |  71.814853  | 8938.53221  |     0.0000  |  2488.00654 |  4994.18142 |    0.00000  |  500.82293  |\n",
       "| large:d_comten_sq | 47.307999   |   0.000000  | 406.166934  | 265.457246  |    0.000000 | 1062.150080 |  609.74255  |   0.000000  | 341.173095  | 189.767702  |    0.00000  | 12070.6617  |  7409.07024 |     0.00000 | 2317.83377  | 1052.84913  |\n",
       "| grad:d_comten_sq | 72.173034   |  90.679245  | 265.457246  | 540.562349  |  251.290017 |  609.742551 | 1126.15131  |  71.814853  | 189.767702  | 406.068514  | 2488.00654  |  7409.0702  | 16854.02446 |   500.82293 | 1052.84913  | 2159.99140  |\n",
       "| medium:d_ceoten_sq | 24.220625   | 167.098058  |   0.000000  |  39.884662  |  795.396049 |    0.000000 |  141.63504  | 615.524261  |   0.000000  |  72.268407  | 4994.18142  |     0.0000  |   500.82293 | 11938.40957 |    0.00000  |  659.58027  |\n",
       "| large:d_ceoten_sq | 13.893730   |   0.000000  | 122.902544  |  77.115124  |    0.000000 |  408.609941 |  236.65334  |   0.000000  | 207.385945  | 129.132305  |    0.00000  |  2317.8338  |  1052.84913 |     0.00000 | 2215.71045  | 1333.69198  |\n",
       "| grad:d_ceoten_sq | 20.010112   |  39.884662  |  77.115124  | 153.890594  |  141.635044 |  236.653338 |  476.53155  |  72.268407  | 129.132305  | 270.735181  |  500.82293  |  1052.8491  |  2159.99140 |   659.58027 | 1333.69198  | 2576.03852  |\n",
       "\n"
      ],
      "text/plain": [
       "                   (Intercept) medium:lmktval lmktval:large lmktval:grad\n",
       "(Intercept)         1.000000     2.353654       2.854037      4.014300  \n",
       "medium:lmktval      2.353654    16.764356       0.000000      7.033834  \n",
       "lmktval:large       2.854037     0.000000      24.754021     16.612440  \n",
       "lmktval:grad        4.014300     7.033834      16.612440     31.134387  \n",
       "medium:comten       8.073446    56.760826       0.000000     21.399392  \n",
       "large:comten        8.163842     0.000000      70.179258     44.519386  \n",
       "grad:comten        10.553672    21.399392      44.519386     81.592298  \n",
       "medium:ceoten       2.881356    20.212002       0.000000      6.941588  \n",
       "large:ceoten        2.446328     0.000000      21.101470     14.312509  \n",
       "grad:ceoten         3.858757     6.941588      14.312509     29.141589  \n",
       "medium:d_comten_sq 39.859306   281.770126       0.000000     90.679245  \n",
       "large:d_comten_sq  47.307999     0.000000     406.166934    265.457246  \n",
       "grad:d_comten_sq   72.173034    90.679245     265.457246    540.562349  \n",
       "medium:d_ceoten_sq 24.220625   167.098058       0.000000     39.884662  \n",
       "large:d_ceoten_sq  13.893730     0.000000     122.902544     77.115124  \n",
       "grad:d_ceoten_sq   20.010112    39.884662      77.115124    153.890594  \n",
       "                   medium:comten large:comten grad:comten medium:ceoten\n",
       "(Intercept)           8.073446      8.163842    10.55367    2.881356   \n",
       "medium:lmktval       56.760826      0.000000    21.39939   20.212002   \n",
       "lmktval:large         0.000000     70.179258    44.51939    0.000000   \n",
       "lmktval:grad         21.399392     44.519386    81.59230    6.941588   \n",
       "medium:comten       234.005650      0.000000    79.94915   77.084746   \n",
       "large:comten          0.000000    245.463277   148.94915    0.000000   \n",
       "grad:comten          79.949153    148.949153   279.08475   23.649718   \n",
       "medium:ceoten        77.084746      0.000000    23.64972   48.903955   \n",
       "large:ceoten          0.000000     67.011299    42.12429    0.000000   \n",
       "grad:ceoten          23.649718     42.124294    86.58757   12.937853   \n",
       "medium:d_comten_sq 1075.845925      0.000000   251.29002  398.835784   \n",
       "large:d_comten_sq     0.000000   1062.150080   609.74255    0.000000   \n",
       "grad:d_comten_sq    251.290017    609.742551  1126.15131   71.814853   \n",
       "medium:d_ceoten_sq  795.396049      0.000000   141.63504  615.524261   \n",
       "large:d_ceoten_sq     0.000000    408.609941   236.65334    0.000000   \n",
       "grad:d_ceoten_sq    141.635044    236.653338   476.53155   72.268407   \n",
       "                   large:ceoten grad:ceoten medium:d_comten_sq\n",
       "(Intercept)          2.446328     3.858757    39.85931        \n",
       "medium:lmktval       0.000000     6.941588   281.77013        \n",
       "lmktval:large       21.101470    14.312509     0.00000        \n",
       "lmktval:grad        14.312509    29.141589    90.67924        \n",
       "medium:comten        0.000000    23.649718  1075.84592        \n",
       "large:comten        67.011299    42.124294     0.00000        \n",
       "grad:comten         42.124294    86.587571   251.29002        \n",
       "medium:ceoten        0.000000    12.937853   398.83578        \n",
       "large:ceoten        31.768362    20.802260     0.00000        \n",
       "grad:ceoten         20.802260    47.881356    71.81485        \n",
       "medium:d_comten_sq   0.000000    71.814853  8938.53221        \n",
       "large:d_comten_sq  341.173095   189.767702     0.00000        \n",
       "grad:d_comten_sq   189.767702   406.068514  2488.00654        \n",
       "medium:d_ceoten_sq   0.000000    72.268407  4994.18142        \n",
       "large:d_ceoten_sq  207.385945   129.132305     0.00000        \n",
       "grad:d_ceoten_sq   129.132305   270.735181   500.82293        \n",
       "                   large:d_comten_sq grad:d_comten_sq medium:d_ceoten_sq\n",
       "(Intercept)           47.3080           72.17303         24.22063       \n",
       "medium:lmktval         0.0000           90.67924        167.09806       \n",
       "lmktval:large        406.1669          265.45725          0.00000       \n",
       "lmktval:grad         265.4572          540.56235         39.88466       \n",
       "medium:comten          0.0000          251.29002        795.39605       \n",
       "large:comten        1062.1501          609.74255          0.00000       \n",
       "grad:comten          609.7426         1126.15131        141.63504       \n",
       "medium:ceoten          0.0000           71.81485        615.52426       \n",
       "large:ceoten         341.1731          189.76770          0.00000       \n",
       "grad:ceoten          189.7677          406.06851         72.26841       \n",
       "medium:d_comten_sq     0.0000         2488.00654       4994.18142       \n",
       "large:d_comten_sq  12070.6617         7409.07024          0.00000       \n",
       "grad:d_comten_sq    7409.0702        16854.02446        500.82293       \n",
       "medium:d_ceoten_sq     0.0000          500.82293      11938.40957       \n",
       "large:d_ceoten_sq   2317.8338         1052.84913          0.00000       \n",
       "grad:d_ceoten_sq    1052.8491         2159.99140        659.58027       \n",
       "                   large:d_ceoten_sq grad:d_ceoten_sq\n",
       "(Intercept)          13.89373          20.01011      \n",
       "medium:lmktval        0.00000          39.88466      \n",
       "lmktval:large       122.90254          77.11512      \n",
       "lmktval:grad         77.11512         153.89059      \n",
       "medium:comten         0.00000         141.63504      \n",
       "large:comten        408.60994         236.65334      \n",
       "grad:comten         236.65334         476.53155      \n",
       "medium:ceoten         0.00000          72.26841      \n",
       "large:ceoten        207.38594         129.13231      \n",
       "grad:ceoten         129.13231         270.73518      \n",
       "medium:d_comten_sq    0.00000         500.82293      \n",
       "large:d_comten_sq  2317.83377        1052.84913      \n",
       "grad:d_comten_sq   1052.84913        2159.99140      \n",
       "medium:d_ceoten_sq    0.00000         659.58027      \n",
       "large:d_ceoten_sq  2215.71045        1333.69198      \n",
       "grad:d_ceoten_sq   1333.69198        2576.03852      "
      ]
     },
     "metadata": {},
     "output_type": "display_data"
    },
    {
     "data": {
      "text/html": [
       "<table>\n",
       "<thead><tr><th></th><th scope=col>(Intercept)</th><th scope=col>medium:lmktval</th><th scope=col>lmktval:large</th><th scope=col>lmktval:grad</th><th scope=col>medium:comten</th><th scope=col>large:comten</th><th scope=col>grad:comten</th><th scope=col>medium:ceoten</th><th scope=col>large:ceoten</th><th scope=col>grad:ceoten</th><th scope=col>medium:d_comten_sq</th><th scope=col>large:d_comten_sq</th><th scope=col>grad:d_comten_sq</th><th scope=col>medium:d_ceoten_sq</th><th scope=col>large:d_ceoten_sq</th><th scope=col>grad:d_ceoten_sq</th></tr></thead>\n",
       "<tbody>\n",
       "\t<tr><th scope=row>(Intercept)</th><td> 4.094726398 </td><td>-0.380202945 </td><td>-0.211252299 </td><td>-0.223046910 </td><td>-4.111030e-02</td><td>-6.132961e-02</td><td> 5.073638e-02</td><td> 2.502488e-02</td><td> 7.558256e-02</td><td>-0.1205747639</td><td> 1.151399e-03</td><td> 1.801023e-03</td><td>-5.072908e-03</td><td>-1.249124e-03</td><td>-3.271602e-03</td><td> 5.725806e-03</td></tr>\n",
       "\t<tr><th scope=row>medium:lmktval</th><td>-0.380202945 </td><td> 0.621387356 </td><td> 0.151057984 </td><td>-0.206307393 </td><td>-9.227714e-02</td><td>-1.411182e-02</td><td> 2.564707e-02</td><td>-1.662643e-01</td><td>-3.924641e-02</td><td> 0.0824149098</td><td>-4.034064e-03</td><td>-1.279868e-03</td><td> 3.127186e-03</td><td> 8.447704e-03</td><td> 2.070207e-03</td><td>-3.818704e-03</td></tr>\n",
       "\t<tr><th scope=row>lmktval:large</th><td>-0.211252299 </td><td> 0.151057984 </td><td> 0.514564088 </td><td>-0.285885071 </td><td>-1.883021e-02</td><td>-9.727132e-02</td><td> 5.121579e-02</td><td>-3.179136e-02</td><td>-7.328151e-02</td><td> 0.0494121005</td><td>-1.018034e-03</td><td>-6.397592e-03</td><td> 4.286872e-03</td><td> 1.691304e-03</td><td> 5.893618e-03</td><td>-3.419846e-03</td></tr>\n",
       "\t<tr><th scope=row>lmktval:grad</th><td>-0.223046910 </td><td>-0.206307393 </td><td>-0.285885071 </td><td> 0.541721149 </td><td> 3.731700e-02</td><td> 6.026788e-02</td><td>-9.500642e-02</td><td> 6.119194e-02</td><td> 2.431977e-02</td><td>-0.0839916131</td><td> 1.833650e-03</td><td> 3.600393e-03</td><td>-7.797259e-03</td><td>-3.116940e-03</td><td>-2.204217e-03</td><td> 3.650154e-03</td></tr>\n",
       "\t<tr><th scope=row>medium:comten</th><td>-0.041110304 </td><td>-0.092277143 </td><td>-0.018830208 </td><td> 0.037317001 </td><td> 3.325497e-02</td><td> 7.658727e-03</td><td>-1.158903e-02</td><td> 2.665429e-03</td><td>-5.641017e-04</td><td>-0.0009787850</td><td>-6.762061e-04</td><td>-1.656230e-05</td><td>-9.971302e-05</td><td>-6.839580e-04</td><td>-1.240538e-04</td><td> 2.118337e-04</td></tr>\n",
       "\t<tr><th scope=row>large:comten</th><td>-0.061329613 </td><td>-0.014111816 </td><td>-0.097271315 </td><td> 0.060267877 </td><td> 7.658727e-03</td><td> 3.793683e-02</td><td>-2.059646e-02</td><td>-1.843347e-03</td><td>-1.715514e-02</td><td> 0.0081006701</td><td>-8.284892e-05</td><td> 6.099753e-04</td><td>-4.394115e-04</td><td>-7.322740e-05</td><td>-7.037140e-04</td><td> 4.888636e-04</td></tr>\n",
       "\t<tr><th scope=row>grad:comten</th><td> 0.050736377 </td><td> 0.025647068 </td><td> 0.051215793 </td><td>-0.095006424 </td><td>-1.158903e-02</td><td>-2.059646e-02</td><td> 3.249523e-02</td><td> 1.454230e-03</td><td> 9.489883e-03</td><td>-0.0096440424</td><td> 8.891578e-05</td><td>-4.029479e-04</td><td> 9.542546e-04</td><td> 1.798088e-04</td><td> 4.606319e-04</td><td>-5.708075e-04</td></tr>\n",
       "\t<tr><th scope=row>medium:ceoten</th><td> 0.025024880 </td><td>-0.166264335 </td><td>-0.031791359 </td><td> 0.061191936 </td><td> 2.665429e-03</td><td>-1.843347e-03</td><td> 1.454230e-03</td><td> 1.675035e-01</td><td> 4.088812e-02</td><td>-0.0697459320</td><td> 1.065015e-03</td><td>-2.571991e-05</td><td>-4.345818e-04</td><td>-6.915146e-03</td><td>-1.512109e-03</td><td> 2.732399e-03</td></tr>\n",
       "\t<tr><th scope=row>large:ceoten</th><td> 0.075582561 </td><td>-0.039246407 </td><td>-0.073281512 </td><td> 0.024319765 </td><td>-5.641017e-04</td><td>-1.715514e-02</td><td> 9.489883e-03</td><td> 4.088812e-02</td><td> 1.999418e-01</td><td>-0.0897074304</td><td>-5.141330e-05</td><td> 3.092659e-04</td><td>-3.214892e-05</td><td>-1.607567e-03</td><td>-1.222330e-02</td><td> 5.521673e-03</td></tr>\n",
       "\t<tr><th scope=row>grad:ceoten</th><td>-0.120574764 </td><td> 0.082414910 </td><td> 0.049412100 </td><td>-0.083991613 </td><td>-9.787850e-04</td><td> 8.100670e-03</td><td>-9.644042e-03</td><td>-6.974593e-02</td><td>-8.970743e-02</td><td> 0.1501049654</td><td>-2.186917e-04</td><td>-2.005113e-04</td><td> 9.232463e-04</td><td> 2.800358e-03</td><td> 5.438931e-03</td><td>-9.212066e-03</td></tr>\n",
       "\t<tr><th scope=row>medium:d_comten_sq</th><td> 0.001151399 </td><td>-0.004034064 </td><td>-0.001018034 </td><td> 0.001833650 </td><td>-6.762061e-04</td><td>-8.284892e-05</td><td> 8.891578e-05</td><td> 1.065015e-03</td><td>-5.141330e-05</td><td>-0.0002186917</td><td> 3.244752e-04</td><td> 5.182002e-05</td><td>-8.693775e-05</td><td>-9.476224e-05</td><td>-1.594038e-05</td><td> 1.962541e-05</td></tr>\n",
       "\t<tr><th scope=row>large:d_comten_sq</th><td> 0.001801023 </td><td>-0.001279868 </td><td>-0.006397592 </td><td> 0.003600393 </td><td>-1.656230e-05</td><td> 6.099753e-04</td><td>-4.029479e-04</td><td>-2.571991e-05</td><td> 3.092659e-04</td><td>-0.0002005113</td><td> 5.182002e-05</td><td> 2.791197e-04</td><td>-1.400582e-04</td><td>-9.339924e-06</td><td>-1.395608e-04</td><td> 7.589322e-05</td></tr>\n",
       "\t<tr><th scope=row>grad:d_comten_sq</th><td>-0.005072908 </td><td> 0.003127186 </td><td> 0.004286872 </td><td>-0.007797259 </td><td>-9.971302e-05</td><td>-4.394115e-04</td><td> 9.542546e-04</td><td>-4.345818e-04</td><td>-3.214892e-05</td><td> 0.0009232463</td><td>-8.693775e-05</td><td>-1.400582e-04</td><td> 2.587383e-04</td><td> 3.390741e-05</td><td> 5.739400e-05</td><td>-6.664354e-05</td></tr>\n",
       "\t<tr><th scope=row>medium:d_ceoten_sq</th><td>-0.001249124 </td><td> 0.008447704 </td><td> 0.001691304 </td><td>-0.003116940 </td><td>-6.839580e-04</td><td>-7.322740e-05</td><td> 1.798088e-04</td><td>-6.915146e-03</td><td>-1.607567e-03</td><td> 0.0028003583</td><td>-9.476224e-05</td><td>-9.339924e-06</td><td> 3.390741e-05</td><td> 4.080269e-04</td><td> 8.835807e-05</td><td>-1.505858e-04</td></tr>\n",
       "\t<tr><th scope=row>large:d_ceoten_sq</th><td>-0.003271602 </td><td> 0.002070207 </td><td> 0.005893618 </td><td>-0.002204217 </td><td>-1.240538e-04</td><td>-7.037140e-04</td><td> 4.606319e-04</td><td>-1.512109e-03</td><td>-1.222330e-02</td><td> 0.0054389309</td><td>-1.594038e-05</td><td>-1.395608e-04</td><td> 5.739400e-05</td><td> 8.835807e-05</td><td> 1.806222e-03</td><td>-9.273405e-04</td></tr>\n",
       "\t<tr><th scope=row>grad:d_ceoten_sq</th><td> 0.005725806 </td><td>-0.003818704 </td><td>-0.003419846 </td><td> 0.003650154 </td><td> 2.118337e-04</td><td> 4.888636e-04</td><td>-5.708075e-04</td><td> 2.732399e-03</td><td> 5.521673e-03</td><td>-0.0092120661</td><td> 1.962541e-05</td><td> 7.589322e-05</td><td>-6.664354e-05</td><td>-1.505858e-04</td><td>-9.273405e-04</td><td> 1.490626e-03</td></tr>\n",
       "</tbody>\n",
       "</table>\n"
      ],
      "text/latex": [
       "\\begin{tabular}{r|llllllllllllllll}\n",
       "  & (Intercept) & medium:lmktval & lmktval:large & lmktval:grad & medium:comten & large:comten & grad:comten & medium:ceoten & large:ceoten & grad:ceoten & medium:d\\_comten\\_sq & large:d\\_comten\\_sq & grad:d\\_comten\\_sq & medium:d\\_ceoten\\_sq & large:d\\_ceoten\\_sq & grad:d\\_ceoten\\_sq\\\\\n",
       "\\hline\n",
       "\t(Intercept) &  4.094726398  & -0.380202945  & -0.211252299  & -0.223046910  & -4.111030e-02 & -6.132961e-02 &  5.073638e-02 &  2.502488e-02 &  7.558256e-02 & -0.1205747639 &  1.151399e-03 &  1.801023e-03 & -5.072908e-03 & -1.249124e-03 & -3.271602e-03 &  5.725806e-03\\\\\n",
       "\tmedium:lmktval & -0.380202945  &  0.621387356  &  0.151057984  & -0.206307393  & -9.227714e-02 & -1.411182e-02 &  2.564707e-02 & -1.662643e-01 & -3.924641e-02 &  0.0824149098 & -4.034064e-03 & -1.279868e-03 &  3.127186e-03 &  8.447704e-03 &  2.070207e-03 & -3.818704e-03\\\\\n",
       "\tlmktval:large & -0.211252299  &  0.151057984  &  0.514564088  & -0.285885071  & -1.883021e-02 & -9.727132e-02 &  5.121579e-02 & -3.179136e-02 & -7.328151e-02 &  0.0494121005 & -1.018034e-03 & -6.397592e-03 &  4.286872e-03 &  1.691304e-03 &  5.893618e-03 & -3.419846e-03\\\\\n",
       "\tlmktval:grad & -0.223046910  & -0.206307393  & -0.285885071  &  0.541721149  &  3.731700e-02 &  6.026788e-02 & -9.500642e-02 &  6.119194e-02 &  2.431977e-02 & -0.0839916131 &  1.833650e-03 &  3.600393e-03 & -7.797259e-03 & -3.116940e-03 & -2.204217e-03 &  3.650154e-03\\\\\n",
       "\tmedium:comten & -0.041110304  & -0.092277143  & -0.018830208  &  0.037317001  &  3.325497e-02 &  7.658727e-03 & -1.158903e-02 &  2.665429e-03 & -5.641017e-04 & -0.0009787850 & -6.762061e-04 & -1.656230e-05 & -9.971302e-05 & -6.839580e-04 & -1.240538e-04 &  2.118337e-04\\\\\n",
       "\tlarge:comten & -0.061329613  & -0.014111816  & -0.097271315  &  0.060267877  &  7.658727e-03 &  3.793683e-02 & -2.059646e-02 & -1.843347e-03 & -1.715514e-02 &  0.0081006701 & -8.284892e-05 &  6.099753e-04 & -4.394115e-04 & -7.322740e-05 & -7.037140e-04 &  4.888636e-04\\\\\n",
       "\tgrad:comten &  0.050736377  &  0.025647068  &  0.051215793  & -0.095006424  & -1.158903e-02 & -2.059646e-02 &  3.249523e-02 &  1.454230e-03 &  9.489883e-03 & -0.0096440424 &  8.891578e-05 & -4.029479e-04 &  9.542546e-04 &  1.798088e-04 &  4.606319e-04 & -5.708075e-04\\\\\n",
       "\tmedium:ceoten &  0.025024880  & -0.166264335  & -0.031791359  &  0.061191936  &  2.665429e-03 & -1.843347e-03 &  1.454230e-03 &  1.675035e-01 &  4.088812e-02 & -0.0697459320 &  1.065015e-03 & -2.571991e-05 & -4.345818e-04 & -6.915146e-03 & -1.512109e-03 &  2.732399e-03\\\\\n",
       "\tlarge:ceoten &  0.075582561  & -0.039246407  & -0.073281512  &  0.024319765  & -5.641017e-04 & -1.715514e-02 &  9.489883e-03 &  4.088812e-02 &  1.999418e-01 & -0.0897074304 & -5.141330e-05 &  3.092659e-04 & -3.214892e-05 & -1.607567e-03 & -1.222330e-02 &  5.521673e-03\\\\\n",
       "\tgrad:ceoten & -0.120574764  &  0.082414910  &  0.049412100  & -0.083991613  & -9.787850e-04 &  8.100670e-03 & -9.644042e-03 & -6.974593e-02 & -8.970743e-02 &  0.1501049654 & -2.186917e-04 & -2.005113e-04 &  9.232463e-04 &  2.800358e-03 &  5.438931e-03 & -9.212066e-03\\\\\n",
       "\tmedium:d\\_comten\\_sq &  0.001151399  & -0.004034064  & -0.001018034  &  0.001833650  & -6.762061e-04 & -8.284892e-05 &  8.891578e-05 &  1.065015e-03 & -5.141330e-05 & -0.0002186917 &  3.244752e-04 &  5.182002e-05 & -8.693775e-05 & -9.476224e-05 & -1.594038e-05 &  1.962541e-05\\\\\n",
       "\tlarge:d\\_comten\\_sq &  0.001801023  & -0.001279868  & -0.006397592  &  0.003600393  & -1.656230e-05 &  6.099753e-04 & -4.029479e-04 & -2.571991e-05 &  3.092659e-04 & -0.0002005113 &  5.182002e-05 &  2.791197e-04 & -1.400582e-04 & -9.339924e-06 & -1.395608e-04 &  7.589322e-05\\\\\n",
       "\tgrad:d\\_comten\\_sq & -0.005072908  &  0.003127186  &  0.004286872  & -0.007797259  & -9.971302e-05 & -4.394115e-04 &  9.542546e-04 & -4.345818e-04 & -3.214892e-05 &  0.0009232463 & -8.693775e-05 & -1.400582e-04 &  2.587383e-04 &  3.390741e-05 &  5.739400e-05 & -6.664354e-05\\\\\n",
       "\tmedium:d\\_ceoten\\_sq & -0.001249124  &  0.008447704  &  0.001691304  & -0.003116940  & -6.839580e-04 & -7.322740e-05 &  1.798088e-04 & -6.915146e-03 & -1.607567e-03 &  0.0028003583 & -9.476224e-05 & -9.339924e-06 &  3.390741e-05 &  4.080269e-04 &  8.835807e-05 & -1.505858e-04\\\\\n",
       "\tlarge:d\\_ceoten\\_sq & -0.003271602  &  0.002070207  &  0.005893618  & -0.002204217  & -1.240538e-04 & -7.037140e-04 &  4.606319e-04 & -1.512109e-03 & -1.222330e-02 &  0.0054389309 & -1.594038e-05 & -1.395608e-04 &  5.739400e-05 &  8.835807e-05 &  1.806222e-03 & -9.273405e-04\\\\\n",
       "\tgrad:d\\_ceoten\\_sq &  0.005725806  & -0.003818704  & -0.003419846  &  0.003650154  &  2.118337e-04 &  4.888636e-04 & -5.708075e-04 &  2.732399e-03 &  5.521673e-03 & -0.0092120661 &  1.962541e-05 &  7.589322e-05 & -6.664354e-05 & -1.505858e-04 & -9.273405e-04 &  1.490626e-03\\\\\n",
       "\\end{tabular}\n"
      ],
      "text/markdown": [
       "\n",
       "| <!--/--> | (Intercept) | medium:lmktval | lmktval:large | lmktval:grad | medium:comten | large:comten | grad:comten | medium:ceoten | large:ceoten | grad:ceoten | medium:d_comten_sq | large:d_comten_sq | grad:d_comten_sq | medium:d_ceoten_sq | large:d_ceoten_sq | grad:d_ceoten_sq |\n",
       "|---|---|---|---|---|---|---|---|---|---|---|---|---|---|---|---|---|\n",
       "| (Intercept) |  4.094726398  | -0.380202945  | -0.211252299  | -0.223046910  | -4.111030e-02 | -6.132961e-02 |  5.073638e-02 |  2.502488e-02 |  7.558256e-02 | -0.1205747639 |  1.151399e-03 |  1.801023e-03 | -5.072908e-03 | -1.249124e-03 | -3.271602e-03 |  5.725806e-03 |\n",
       "| medium:lmktval | -0.380202945  |  0.621387356  |  0.151057984  | -0.206307393  | -9.227714e-02 | -1.411182e-02 |  2.564707e-02 | -1.662643e-01 | -3.924641e-02 |  0.0824149098 | -4.034064e-03 | -1.279868e-03 |  3.127186e-03 |  8.447704e-03 |  2.070207e-03 | -3.818704e-03 |\n",
       "| lmktval:large | -0.211252299  |  0.151057984  |  0.514564088  | -0.285885071  | -1.883021e-02 | -9.727132e-02 |  5.121579e-02 | -3.179136e-02 | -7.328151e-02 |  0.0494121005 | -1.018034e-03 | -6.397592e-03 |  4.286872e-03 |  1.691304e-03 |  5.893618e-03 | -3.419846e-03 |\n",
       "| lmktval:grad | -0.223046910  | -0.206307393  | -0.285885071  |  0.541721149  |  3.731700e-02 |  6.026788e-02 | -9.500642e-02 |  6.119194e-02 |  2.431977e-02 | -0.0839916131 |  1.833650e-03 |  3.600393e-03 | -7.797259e-03 | -3.116940e-03 | -2.204217e-03 |  3.650154e-03 |\n",
       "| medium:comten | -0.041110304  | -0.092277143  | -0.018830208  |  0.037317001  |  3.325497e-02 |  7.658727e-03 | -1.158903e-02 |  2.665429e-03 | -5.641017e-04 | -0.0009787850 | -6.762061e-04 | -1.656230e-05 | -9.971302e-05 | -6.839580e-04 | -1.240538e-04 |  2.118337e-04 |\n",
       "| large:comten | -0.061329613  | -0.014111816  | -0.097271315  |  0.060267877  |  7.658727e-03 |  3.793683e-02 | -2.059646e-02 | -1.843347e-03 | -1.715514e-02 |  0.0081006701 | -8.284892e-05 |  6.099753e-04 | -4.394115e-04 | -7.322740e-05 | -7.037140e-04 |  4.888636e-04 |\n",
       "| grad:comten |  0.050736377  |  0.025647068  |  0.051215793  | -0.095006424  | -1.158903e-02 | -2.059646e-02 |  3.249523e-02 |  1.454230e-03 |  9.489883e-03 | -0.0096440424 |  8.891578e-05 | -4.029479e-04 |  9.542546e-04 |  1.798088e-04 |  4.606319e-04 | -5.708075e-04 |\n",
       "| medium:ceoten |  0.025024880  | -0.166264335  | -0.031791359  |  0.061191936  |  2.665429e-03 | -1.843347e-03 |  1.454230e-03 |  1.675035e-01 |  4.088812e-02 | -0.0697459320 |  1.065015e-03 | -2.571991e-05 | -4.345818e-04 | -6.915146e-03 | -1.512109e-03 |  2.732399e-03 |\n",
       "| large:ceoten |  0.075582561  | -0.039246407  | -0.073281512  |  0.024319765  | -5.641017e-04 | -1.715514e-02 |  9.489883e-03 |  4.088812e-02 |  1.999418e-01 | -0.0897074304 | -5.141330e-05 |  3.092659e-04 | -3.214892e-05 | -1.607567e-03 | -1.222330e-02 |  5.521673e-03 |\n",
       "| grad:ceoten | -0.120574764  |  0.082414910  |  0.049412100  | -0.083991613  | -9.787850e-04 |  8.100670e-03 | -9.644042e-03 | -6.974593e-02 | -8.970743e-02 |  0.1501049654 | -2.186917e-04 | -2.005113e-04 |  9.232463e-04 |  2.800358e-03 |  5.438931e-03 | -9.212066e-03 |\n",
       "| medium:d_comten_sq |  0.001151399  | -0.004034064  | -0.001018034  |  0.001833650  | -6.762061e-04 | -8.284892e-05 |  8.891578e-05 |  1.065015e-03 | -5.141330e-05 | -0.0002186917 |  3.244752e-04 |  5.182002e-05 | -8.693775e-05 | -9.476224e-05 | -1.594038e-05 |  1.962541e-05 |\n",
       "| large:d_comten_sq |  0.001801023  | -0.001279868  | -0.006397592  |  0.003600393  | -1.656230e-05 |  6.099753e-04 | -4.029479e-04 | -2.571991e-05 |  3.092659e-04 | -0.0002005113 |  5.182002e-05 |  2.791197e-04 | -1.400582e-04 | -9.339924e-06 | -1.395608e-04 |  7.589322e-05 |\n",
       "| grad:d_comten_sq | -0.005072908  |  0.003127186  |  0.004286872  | -0.007797259  | -9.971302e-05 | -4.394115e-04 |  9.542546e-04 | -4.345818e-04 | -3.214892e-05 |  0.0009232463 | -8.693775e-05 | -1.400582e-04 |  2.587383e-04 |  3.390741e-05 |  5.739400e-05 | -6.664354e-05 |\n",
       "| medium:d_ceoten_sq | -0.001249124  |  0.008447704  |  0.001691304  | -0.003116940  | -6.839580e-04 | -7.322740e-05 |  1.798088e-04 | -6.915146e-03 | -1.607567e-03 |  0.0028003583 | -9.476224e-05 | -9.339924e-06 |  3.390741e-05 |  4.080269e-04 |  8.835807e-05 | -1.505858e-04 |\n",
       "| large:d_ceoten_sq | -0.003271602  |  0.002070207  |  0.005893618  | -0.002204217  | -1.240538e-04 | -7.037140e-04 |  4.606319e-04 | -1.512109e-03 | -1.222330e-02 |  0.0054389309 | -1.594038e-05 | -1.395608e-04 |  5.739400e-05 |  8.835807e-05 |  1.806222e-03 | -9.273405e-04 |\n",
       "| grad:d_ceoten_sq |  0.005725806  | -0.003818704  | -0.003419846  |  0.003650154  |  2.118337e-04 |  4.888636e-04 | -5.708075e-04 |  2.732399e-03 |  5.521673e-03 | -0.0092120661 |  1.962541e-05 |  7.589322e-05 | -6.664354e-05 | -1.505858e-04 | -9.273405e-04 |  1.490626e-03 |\n",
       "\n"
      ],
      "text/plain": [
       "                   (Intercept)  medium:lmktval lmktval:large lmktval:grad\n",
       "(Intercept)         4.094726398 -0.380202945   -0.211252299  -0.223046910\n",
       "medium:lmktval     -0.380202945  0.621387356    0.151057984  -0.206307393\n",
       "lmktval:large      -0.211252299  0.151057984    0.514564088  -0.285885071\n",
       "lmktval:grad       -0.223046910 -0.206307393   -0.285885071   0.541721149\n",
       "medium:comten      -0.041110304 -0.092277143   -0.018830208   0.037317001\n",
       "large:comten       -0.061329613 -0.014111816   -0.097271315   0.060267877\n",
       "grad:comten         0.050736377  0.025647068    0.051215793  -0.095006424\n",
       "medium:ceoten       0.025024880 -0.166264335   -0.031791359   0.061191936\n",
       "large:ceoten        0.075582561 -0.039246407   -0.073281512   0.024319765\n",
       "grad:ceoten        -0.120574764  0.082414910    0.049412100  -0.083991613\n",
       "medium:d_comten_sq  0.001151399 -0.004034064   -0.001018034   0.001833650\n",
       "large:d_comten_sq   0.001801023 -0.001279868   -0.006397592   0.003600393\n",
       "grad:d_comten_sq   -0.005072908  0.003127186    0.004286872  -0.007797259\n",
       "medium:d_ceoten_sq -0.001249124  0.008447704    0.001691304  -0.003116940\n",
       "large:d_ceoten_sq  -0.003271602  0.002070207    0.005893618  -0.002204217\n",
       "grad:d_ceoten_sq    0.005725806 -0.003818704   -0.003419846   0.003650154\n",
       "                   medium:comten large:comten  grad:comten   medium:ceoten\n",
       "(Intercept)        -4.111030e-02 -6.132961e-02  5.073638e-02  2.502488e-02\n",
       "medium:lmktval     -9.227714e-02 -1.411182e-02  2.564707e-02 -1.662643e-01\n",
       "lmktval:large      -1.883021e-02 -9.727132e-02  5.121579e-02 -3.179136e-02\n",
       "lmktval:grad        3.731700e-02  6.026788e-02 -9.500642e-02  6.119194e-02\n",
       "medium:comten       3.325497e-02  7.658727e-03 -1.158903e-02  2.665429e-03\n",
       "large:comten        7.658727e-03  3.793683e-02 -2.059646e-02 -1.843347e-03\n",
       "grad:comten        -1.158903e-02 -2.059646e-02  3.249523e-02  1.454230e-03\n",
       "medium:ceoten       2.665429e-03 -1.843347e-03  1.454230e-03  1.675035e-01\n",
       "large:ceoten       -5.641017e-04 -1.715514e-02  9.489883e-03  4.088812e-02\n",
       "grad:ceoten        -9.787850e-04  8.100670e-03 -9.644042e-03 -6.974593e-02\n",
       "medium:d_comten_sq -6.762061e-04 -8.284892e-05  8.891578e-05  1.065015e-03\n",
       "large:d_comten_sq  -1.656230e-05  6.099753e-04 -4.029479e-04 -2.571991e-05\n",
       "grad:d_comten_sq   -9.971302e-05 -4.394115e-04  9.542546e-04 -4.345818e-04\n",
       "medium:d_ceoten_sq -6.839580e-04 -7.322740e-05  1.798088e-04 -6.915146e-03\n",
       "large:d_ceoten_sq  -1.240538e-04 -7.037140e-04  4.606319e-04 -1.512109e-03\n",
       "grad:d_ceoten_sq    2.118337e-04  4.888636e-04 -5.708075e-04  2.732399e-03\n",
       "                   large:ceoten  grad:ceoten   medium:d_comten_sq\n",
       "(Intercept)         7.558256e-02 -0.1205747639  1.151399e-03     \n",
       "medium:lmktval     -3.924641e-02  0.0824149098 -4.034064e-03     \n",
       "lmktval:large      -7.328151e-02  0.0494121005 -1.018034e-03     \n",
       "lmktval:grad        2.431977e-02 -0.0839916131  1.833650e-03     \n",
       "medium:comten      -5.641017e-04 -0.0009787850 -6.762061e-04     \n",
       "large:comten       -1.715514e-02  0.0081006701 -8.284892e-05     \n",
       "grad:comten         9.489883e-03 -0.0096440424  8.891578e-05     \n",
       "medium:ceoten       4.088812e-02 -0.0697459320  1.065015e-03     \n",
       "large:ceoten        1.999418e-01 -0.0897074304 -5.141330e-05     \n",
       "grad:ceoten        -8.970743e-02  0.1501049654 -2.186917e-04     \n",
       "medium:d_comten_sq -5.141330e-05 -0.0002186917  3.244752e-04     \n",
       "large:d_comten_sq   3.092659e-04 -0.0002005113  5.182002e-05     \n",
       "grad:d_comten_sq   -3.214892e-05  0.0009232463 -8.693775e-05     \n",
       "medium:d_ceoten_sq -1.607567e-03  0.0028003583 -9.476224e-05     \n",
       "large:d_ceoten_sq  -1.222330e-02  0.0054389309 -1.594038e-05     \n",
       "grad:d_ceoten_sq    5.521673e-03 -0.0092120661  1.962541e-05     \n",
       "                   large:d_comten_sq grad:d_comten_sq medium:d_ceoten_sq\n",
       "(Intercept)         1.801023e-03     -5.072908e-03    -1.249124e-03     \n",
       "medium:lmktval     -1.279868e-03      3.127186e-03     8.447704e-03     \n",
       "lmktval:large      -6.397592e-03      4.286872e-03     1.691304e-03     \n",
       "lmktval:grad        3.600393e-03     -7.797259e-03    -3.116940e-03     \n",
       "medium:comten      -1.656230e-05     -9.971302e-05    -6.839580e-04     \n",
       "large:comten        6.099753e-04     -4.394115e-04    -7.322740e-05     \n",
       "grad:comten        -4.029479e-04      9.542546e-04     1.798088e-04     \n",
       "medium:ceoten      -2.571991e-05     -4.345818e-04    -6.915146e-03     \n",
       "large:ceoten        3.092659e-04     -3.214892e-05    -1.607567e-03     \n",
       "grad:ceoten        -2.005113e-04      9.232463e-04     2.800358e-03     \n",
       "medium:d_comten_sq  5.182002e-05     -8.693775e-05    -9.476224e-05     \n",
       "large:d_comten_sq   2.791197e-04     -1.400582e-04    -9.339924e-06     \n",
       "grad:d_comten_sq   -1.400582e-04      2.587383e-04     3.390741e-05     \n",
       "medium:d_ceoten_sq -9.339924e-06      3.390741e-05     4.080269e-04     \n",
       "large:d_ceoten_sq  -1.395608e-04      5.739400e-05     8.835807e-05     \n",
       "grad:d_ceoten_sq    7.589322e-05     -6.664354e-05    -1.505858e-04     \n",
       "                   large:d_ceoten_sq grad:d_ceoten_sq\n",
       "(Intercept)        -3.271602e-03      5.725806e-03   \n",
       "medium:lmktval      2.070207e-03     -3.818704e-03   \n",
       "lmktval:large       5.893618e-03     -3.419846e-03   \n",
       "lmktval:grad       -2.204217e-03      3.650154e-03   \n",
       "medium:comten      -1.240538e-04      2.118337e-04   \n",
       "large:comten       -7.037140e-04      4.888636e-04   \n",
       "grad:comten         4.606319e-04     -5.708075e-04   \n",
       "medium:ceoten      -1.512109e-03      2.732399e-03   \n",
       "large:ceoten       -1.222330e-02      5.521673e-03   \n",
       "grad:ceoten         5.438931e-03     -9.212066e-03   \n",
       "medium:d_comten_sq -1.594038e-05      1.962541e-05   \n",
       "large:d_comten_sq  -1.395608e-04      7.589322e-05   \n",
       "grad:d_comten_sq    5.739400e-05     -6.664354e-05   \n",
       "medium:d_ceoten_sq  8.835807e-05     -1.505858e-04   \n",
       "large:d_ceoten_sq   1.806222e-03     -9.273405e-04   \n",
       "grad:d_ceoten_sq   -9.273405e-04      1.490626e-03   "
      ]
     },
     "metadata": {},
     "output_type": "display_data"
    }
   ],
   "source": [
    "# create character vectors of terms needed\n",
    "dummies <- c(\"medium\", \"large\", \"grad\")\n",
    "predictors <- c(\"lmktval\",\"comten\",\"ceoten\",\"d_comten_sq\",\"d_ceoten_sq\")\n",
    "\n",
    "# create new formula\n",
    "f <- as.formula(paste(\"lsalary\", paste(outer(dummies, predictors, FUN= \"paste\", sep=\":\"), collapse = \" + \"), sep=\" ~ \"))\n",
    "\n",
    "# create matrix\n",
    "interact_matrix <- model.matrix(f, data=ceo_salary)\n",
    "\n",
    "# check X'X is invertible\n",
    "# regular matrix\n",
    "t(interact_matrix) %*% interact_matrix/nrow(interact_matrix)\n",
    "\n",
    "# invertible matrix\n",
    "solve(t(interact_matrix) %*% interact_matrix/nrow(interact_matrix))\n"
   ]
  },
  {
   "cell_type": "markdown",
   "metadata": {},
   "source": [
    "#### <font color='red'>Comments:</font> \n",
    "\n",
    "In this exercise you have to consider the base regression from question 8 and add the interaction between dummies and the remaining features. See Wooldridge chapter 7 for a good explanation of why you need both the base regression and the interactions in your design matrix. You did not print the dimensions of the design matrix, with all the required variables the dimension should be $117 \\times 24$."
   ]
  },
  {
   "cell_type": "markdown",
   "metadata": {},
   "source": [
    "10. Estimate the model in (9) above by OLS and report standard errors that are robust to the presence of heteroskedasticity of unknown form."
   ]
  },
  {
   "cell_type": "code",
   "execution_count": 51,
   "metadata": {},
   "outputs": [
    {
     "data": {
      "text/plain": [
       "\n",
       "Call:\n",
       "lm(formula = f, data = ceo_salary)\n",
       "\n",
       "Coefficients:\n",
       "       (Intercept)      medium:lmktval       lmktval:large        lmktval:grad  \n",
       "         6.2470238           0.0291468           0.0923940           0.0136383  \n",
       "     medium:comten        large:comten         grad:comten       medium:ceoten  \n",
       "        -0.0067311          -0.0063486          -0.0046799           0.0391360  \n",
       "      large:ceoten         grad:ceoten  medium:d_comten_sq   large:d_comten_sq  \n",
       "         0.0348888          -0.0059647           0.0006429           0.0007033  \n",
       "  grad:d_comten_sq  medium:d_ceoten_sq   large:d_ceoten_sq    grad:d_ceoten_sq  \n",
       "        -0.0004954          -0.0013247          -0.0062971           0.0012830  \n"
      ]
     },
     "metadata": {},
     "output_type": "display_data"
    },
    {
     "data": {
      "text/html": [
       "<table>\n",
       "<caption>A data.frame: 16 × 1</caption>\n",
       "<thead>\n",
       "\t<tr><th></th><th scope=col>HC1</th></tr>\n",
       "\t<tr><th></th><th scope=col>&lt;dbl&gt;</th></tr>\n",
       "</thead>\n",
       "<tbody>\n",
       "\t<tr><th scope=row>(Intercept)</th><td>0.086771</td></tr>\n",
       "\t<tr><th scope=row>medium:lmktval</th><td>0.040208</td></tr>\n",
       "\t<tr><th scope=row>lmktval:large</th><td>0.024272</td></tr>\n",
       "\t<tr><th scope=row>lmktval:grad</th><td>0.025321</td></tr>\n",
       "\t<tr><th scope=row>medium:comten</th><td>0.006918</td></tr>\n",
       "\t<tr><th scope=row>large:comten</th><td>0.006892</td></tr>\n",
       "\t<tr><th scope=row>grad:comten</th><td>0.006345</td></tr>\n",
       "\t<tr><th scope=row>medium:ceoten</th><td>0.018686</td></tr>\n",
       "\t<tr><th scope=row>large:ceoten</th><td>0.015221</td></tr>\n",
       "\t<tr><th scope=row>grad:ceoten</th><td>0.014564</td></tr>\n",
       "\t<tr><th scope=row>medium:d_comten_sq</th><td>0.000986</td></tr>\n",
       "\t<tr><th scope=row>large:d_comten_sq</th><td>0.000704</td></tr>\n",
       "\t<tr><th scope=row>grad:d_comten_sq</th><td>0.000677</td></tr>\n",
       "\t<tr><th scope=row>medium:d_ceoten_sq</th><td>0.001008</td></tr>\n",
       "\t<tr><th scope=row>large:d_ceoten_sq</th><td>0.001742</td></tr>\n",
       "\t<tr><th scope=row>grad:d_ceoten_sq</th><td>0.001417</td></tr>\n",
       "</tbody>\n",
       "</table>\n"
      ],
      "text/latex": [
       "A data.frame: 16 × 1\n",
       "\\begin{tabular}{r|l}\n",
       "  & HC1\\\\\n",
       "  & <dbl>\\\\\n",
       "\\hline\n",
       "\t(Intercept) & 0.086771\\\\\n",
       "\tmedium:lmktval & 0.040208\\\\\n",
       "\tlmktval:large & 0.024272\\\\\n",
       "\tlmktval:grad & 0.025321\\\\\n",
       "\tmedium:comten & 0.006918\\\\\n",
       "\tlarge:comten & 0.006892\\\\\n",
       "\tgrad:comten & 0.006345\\\\\n",
       "\tmedium:ceoten & 0.018686\\\\\n",
       "\tlarge:ceoten & 0.015221\\\\\n",
       "\tgrad:ceoten & 0.014564\\\\\n",
       "\tmedium:d\\_comten\\_sq & 0.000986\\\\\n",
       "\tlarge:d\\_comten\\_sq & 0.000704\\\\\n",
       "\tgrad:d\\_comten\\_sq & 0.000677\\\\\n",
       "\tmedium:d\\_ceoten\\_sq & 0.001008\\\\\n",
       "\tlarge:d\\_ceoten\\_sq & 0.001742\\\\\n",
       "\tgrad:d\\_ceoten\\_sq & 0.001417\\\\\n",
       "\\end{tabular}\n"
      ],
      "text/markdown": [
       "\n",
       "A data.frame: 16 × 1\n",
       "\n",
       "| <!--/--> | HC1 &lt;dbl&gt; |\n",
       "|---|---|\n",
       "| (Intercept) | 0.086771 |\n",
       "| medium:lmktval | 0.040208 |\n",
       "| lmktval:large | 0.024272 |\n",
       "| lmktval:grad | 0.025321 |\n",
       "| medium:comten | 0.006918 |\n",
       "| large:comten | 0.006892 |\n",
       "| grad:comten | 0.006345 |\n",
       "| medium:ceoten | 0.018686 |\n",
       "| large:ceoten | 0.015221 |\n",
       "| grad:ceoten | 0.014564 |\n",
       "| medium:d_comten_sq | 0.000986 |\n",
       "| large:d_comten_sq | 0.000704 |\n",
       "| grad:d_comten_sq | 0.000677 |\n",
       "| medium:d_ceoten_sq | 0.001008 |\n",
       "| large:d_ceoten_sq | 0.001742 |\n",
       "| grad:d_ceoten_sq | 0.001417 |\n",
       "\n"
      ],
      "text/plain": [
       "                   HC1     \n",
       "(Intercept)        0.086771\n",
       "medium:lmktval     0.040208\n",
       "lmktval:large      0.024272\n",
       "lmktval:grad       0.025321\n",
       "medium:comten      0.006918\n",
       "large:comten       0.006892\n",
       "grad:comten        0.006345\n",
       "medium:ceoten      0.018686\n",
       "large:ceoten       0.015221\n",
       "grad:ceoten        0.014564\n",
       "medium:d_comten_sq 0.000986\n",
       "large:d_comten_sq  0.000704\n",
       "grad:d_comten_sq   0.000677\n",
       "medium:d_ceoten_sq 0.001008\n",
       "large:d_ceoten_sq  0.001742\n",
       "grad:d_ceoten_sq   0.001417"
      ]
     },
     "metadata": {},
     "output_type": "display_data"
    }
   ],
   "source": [
    "# estimate model\n",
    "(reg <- lm(f, data=ceo_salary))\n",
    "\n",
    "# install and load sandwich package\n",
    "if(!require(sandwich)) install.packages(\"sandwich\")\n",
    "library(sandwich)\n",
    "\n",
    "# report robust standard errors\n",
    "data.frame(\"HC1\" = round(sqrt(diag(vcovHC(reg, type=\"HC1\"))),6))"
   ]
  },
  {
   "cell_type": "markdown",
   "metadata": {},
   "source": [
    "#### <font color='red'>Comments:</font> \n",
    "\n",
    "Again, in this exercise you needed to include the 24 required explanatory variables in the regression."
   ]
  }
 ],
 "metadata": {
  "kernelspec": {
   "display_name": "R",
   "language": "R",
   "name": "ir"
  },
  "language_info": {
   "codemirror_mode": "r",
   "file_extension": ".r",
   "mimetype": "text/x-r-source",
   "name": "R",
   "pygments_lexer": "r",
   "version": "3.6.1"
  },
  "latex_envs": {
   "LaTeX_envs_menu_present": true,
   "autoclose": false,
   "autocomplete": true,
   "bibliofile": "biblio.bib",
   "cite_by": "apalike",
   "current_citInitial": 1,
   "eqLabelWithNumbers": true,
   "eqNumInitial": 1,
   "hotkeys": {
    "equation": "Ctrl-E",
    "itemize": "Ctrl-I"
   },
   "labels_anchors": false,
   "latex_user_defs": false,
   "report_style_numbering": false,
   "user_envs_cfg": false
  }
 },
 "nbformat": 4,
 "nbformat_minor": 2
}
