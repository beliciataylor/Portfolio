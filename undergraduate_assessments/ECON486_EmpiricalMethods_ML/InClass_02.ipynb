{
 "cells": [
  {
   "cell_type": "markdown",
   "metadata": {},
   "source": [
    "<center><h1> EC485: In-Class Case Study</h1></center>\n",
    "\n",
    "**Author(s):**\n",
    "1. Belicia Rodriguez (belicia.rodriguez@emory.edu)\n",
    "\n",
    "**Objectives**: This <ins>case study</ins> aims at\n",
    " 1. Familiarize you with *real* requests in any entry-level data analyst job;\n",
    " 2. Use *GitHub* to retrieve and submit computer code for *reference*, *version control*, and *future collaboration*.\n",
    "\n",
    "**Instructions**:\n",
    " 1. Please write down your Python code and <ins>execute</ins> it in the cell below each question.\n",
    " \n",
    "**Data Source**: [Introductory Econometrics: A Modern Approach](https://cran.r-project.org/web/packages/wooldridge/index.html) by Jeffrey Wooldridge\n",
    "\n",
    "**Data Description**: \n",
    "\n",
    "```\n",
    "Contains data from hprice1.dta\n",
    "  obs:            88                          \n",
    " vars:            10                          17 Mar 2002 12:21\n",
    " size:         3,168 (99.5% of memory free)\n",
    "-------------------------------------------------------------------------------\n",
    "              storage  display     value\n",
    "variable name   type   format      label      variable label\n",
    "-------------------------------------------------------------------------------\n",
    "price           float  %9.0g                  house price, $1000s\n",
    "assess          float  %9.0g                  assessed value, $1000s\n",
    "bdrms           byte   %9.0g                  number of bdrms\n",
    "lotsize         float  %9.0g                  size of lot in square feet\n",
    "sqrft           int    %9.0g                  size of house in square feet\n",
    "colonial        byte   %9.0g                  =1 if home is colonial style\n",
    "lprice          float  %9.0g                  log(price)\n",
    "lassess         float  %9.0g                  log(assess\n",
    "llotsize        float  %9.0g                  log(lotsize)\n",
    "lsqrft          float  %9.0g                  log(sqrft)\n",
    "-------------------------------------------------------------------------------\n",
    "Sorted by:  \n",
    " ```\n",
    "\n",
    "<center><h2> Questions</h2></center>"
   ]
  },
  {
   "cell_type": "markdown",
   "metadata": {},
   "source": [
    "1. [10 points] Using the ```read_stata``` function from the ```pandas``` library in Python, download the ```ceosal2``` used in Assignment 1 using the address ```http://fmwww.bc.edu/ec-p/data/wooldridge/hprice1.dta```. **Note:** You need a working connection to the internet."
   ]
  },
  {
   "cell_type": "code",
   "execution_count": 4,
   "metadata": {},
   "outputs": [],
   "source": [
    "import pandas as pd\n",
    "\n",
    "hprice1 = pd.read_stata('http://fmwww.bc.edu/ec-p/data/wooldridge/hprice1.dta')"
   ]
  },
  {
   "cell_type": "markdown",
   "metadata": {},
   "source": [
    "2. [40 points] Use the ```patsy``` library in Python to create the corresponding vectors of features and design matrices for the following _nested_ models\n",
    "\n",
    "$$\n",
    "\\begin{aligned}\n",
    "\\texttt{lprice} &= \\beta_{0} + \\beta_{1}\\texttt{llotsize} +  \\beta_{2}\\texttt{lsqrft} +\\beta_{3}\\texttt{colonial}+\\beta_{4}\\texttt{bdrms} + e_1,\\\\\n",
    "\\texttt{lprice} &= \\beta_{0} + \\beta_{1}\\texttt{llotsize} +  \\beta_{2}\\texttt{lsqrft} +\\beta_{3}\\texttt{colonial}+\\beta_{4}\\texttt{bdrms}\\\\\n",
    "&+ \\beta_{5}\\texttt{colonial}\\times\\texttt{llotsize}+ \\beta_{6}\\texttt{colonial}\\times\\texttt{lsqrft}++ \\beta_{7}\\texttt{colonial}\\times\\texttt{bdrms}+ e_2\n",
    "\\end{aligned}\n",
    "$$"
   ]
  },
  {
   "cell_type": "code",
   "execution_count": 6,
   "metadata": {},
   "outputs": [],
   "source": [
    "import patsy\n",
    "\n",
    "eq1 = 'lprice ~ llotsize + lsqrft + colonial + bdrms'\n",
    "eq2 = 'lprice ~ llotsize + lsqrft + colonial + bdrms + colonial:llotsize + colonial:lsqrft + colonial:bdrms'\n",
    "\n",
    "y1,X1 = patsy.dmatrices(eq1, data=hprice1, return_type = 'dataframe')\n",
    "y2,X2 = patsy.dmatrices(eq2, data=hprice1, return_type = 'dataframe')"
   ]
  },
  {
   "cell_type": "markdown",
   "metadata": {},
   "source": [
    "Comment: Notice that the code you wrote calls the ```ceosal2``` instead of the ```hprice1``` pandas data frame you defined above. Imade the correction so I can run it."
   ]
  },
  {
   "cell_type": "markdown",
   "metadata": {},
   "source": [
    "3. [50 points] On the internet you found out that there is an _alternative_ measure of fit, $\\widetilde{R}^2$, defined as\n",
    "\n",
    "$$\n",
    "\\widetilde{R}^{2}=1-\\frac{\\sum_{i=1}^{n} \\widetilde{e}_{i}^{2}}{\\sum_{i=1}^{n}\\left(y_{i}-\\bar{y}\\right)^{2}},\n",
    "$$\n",
    "\n",
    "where $\\{\\widetilde{e}_i;i=1,\\dots,n\\}$ are the _prediction errors_ previously discussed, and $\\{y_i;i=1,\\dots,n\\}$ represents the elements $\\{\\texttt{lprice} _i;i=1,\\dots,n\\}$ in the data set. $\\widetilde{R}^2$ estimates the percentage of the forecast variance which is explained by the regression forecast. Proceed to calculate this quantity for both specifications above and use it to select a specification."
   ]
  },
  {
   "cell_type": "code",
   "execution_count": 7,
   "metadata": {},
   "outputs": [
    {
     "name": "stdout",
     "output_type": "stream",
     "text": "R2 for first model specification:  0.588301\nR2 for second model specification: 0.452847\nI would select the second model specification.\nModel two has a lower R2 value, meaning there is less forecast variance in the regression forecast.\nThe model with a lower variance is preferred.\n"
    }
   ],
   "source": [
    "from statsmodels.regression.linear_model import OLS\n",
    "\n",
    "# for first specification\n",
    "model1 = OLS(y1, X1).fit()\n",
    "\n",
    "predict_errors = ((model1.resid/(1 - model1.get_influence().hat_matrix_diag))**2).sum()\n",
    "\n",
    "sum_of_squares = (model1.centered_tss).sum()\n",
    "\n",
    "R2_1 = 1 - (predict_errors/sum_of_squares)\n",
    "\n",
    "print('R2 for first model specification: ', round(R2_1,6))\n",
    "\n",
    "# for second specification\n",
    "model2 = OLS(y2, X2).fit()\n",
    "\n",
    "predict_errors = ((model2.resid/(1 - model2.get_influence().hat_matrix_diag))**2).sum()\n",
    "\n",
    "sum_of_squares = (model2.centered_tss).sum()\n",
    "\n",
    "R2_2 = 1 - (predict_errors/sum_of_squares)\n",
    "\n",
    "print('R2 for second model specification:', round(R2_2,6))\n",
    "\n",
    "# select preferred specification\n",
    "print('I would select the second model specification.')\n",
    "print('Model two has a lower R2 value, meaning there is less forecast variance in the regression forecast.')\n",
    "print('The model with a lower variance is preferred.')\n",
    "\n",
    "\n"
   ]
  },
  {
   "cell_type": "markdown",
   "metadata": {},
   "source": [
    "Comment: Your answer is now correct after I changed the data set. Please read the jupyter notebook user manual. In order to include text like this one, you simply need to press ```esc``` followed by ```m``` and the cell turns into a ```markdown``` type."
   ]
  },
  {
   "cell_type": "code",
   "execution_count": null,
   "metadata": {},
   "outputs": [],
   "source": []
  }
 ],
 "metadata": {
  "hide_input": false,
  "kernelspec": {
   "display_name": "Python 3",
   "language": "python",
   "name": "python3"
  },
  "language_info": {
   "codemirror_mode": {
    "name": "ipython",
    "version": 3
   },
   "file_extension": ".py",
   "mimetype": "text/x-python",
   "name": "python",
   "nbconvert_exporter": "python",
   "pygments_lexer": "ipython3",
   "version": "3.7.6-final"
  },
  "latex_envs": {
   "LaTeX_envs_menu_present": true,
   "autoclose": false,
   "autocomplete": true,
   "bibliofile": "biblio.bib",
   "cite_by": "apalike",
   "current_citInitial": 1,
   "eqLabelWithNumbers": true,
   "eqNumInitial": 1,
   "hotkeys": {
    "equation": "Ctrl-E",
    "itemize": "Ctrl-I"
   },
   "labels_anchors": false,
   "latex_user_defs": false,
   "report_style_numbering": false,
   "user_envs_cfg": false
  }
 },
 "nbformat": 4,
 "nbformat_minor": 2
}