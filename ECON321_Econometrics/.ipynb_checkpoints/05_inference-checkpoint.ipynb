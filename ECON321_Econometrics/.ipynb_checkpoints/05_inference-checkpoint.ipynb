{
 "cells": [
  {
   "cell_type": "markdown",
   "metadata": {},
   "source": [
    "# Inference\n",
    "_Assignment 5 from Econometrics_\n",
    "\n",
    "date: 2019-11-25"
   ]
  },
  {
   "cell_type": "code",
   "execution_count": 6,
   "metadata": {},
   "outputs": [],
   "source": [
    "defaultW <- getOption(\"warn\")\n",
    "options(warn = -1)\n",
    "\n",
    "suppressMessages(library(tidyverse))\n",
    "suppressMessages(library(estimatr))\n",
    "library(stargazer)\n",
    "library(wooldridge)\n",
    "library(lmtest)\n",
    "library(car)\n",
    "suppressMessages(library(texreg))\n",
    "# load data\n",
    "data(htv, package = 'wooldridge')"
   ]
  },
  {
   "cell_type": "markdown",
   "metadata": {},
   "source": [
    "# htv Dataset\n",
    "\n",
    "1. Estimate the regression model\n",
    "\n",
    "$$ educ = \\beta_0 + \\beta_1 *motheduc + \\beta_2 *fatheduc + \\beta_3 *abil + \\beta_4 *abil^2 + u$$\n",
    "by OLS take a look at the results in the usual form but report the results using stargazer. \n",
    "\n",
    "2. Test the null hypothesis that educ is linearly related to abil against the alternative that the relationship is quadratic. Show the tstat and the pvalue associated with that test. Do you reject the null hypothesis? what does that mean? EXPLAIN\n",
    "\n",
    "Since the t-value is greater than the p-value, you can reject the null hypothesis. Rejecting the null hypothesis means that the coefficient does not equal 0, and therefore has a relationship with the dependent variable and is relevant to the model. The p-value is the smallest critical value that will reject the null hypothesis for a particular coefficient. If the t-value is greater than the p-value, then the null hypothesis can be rejected. In this case, because p-value is zero and t-value is 6.0934, then you can reject the null hypothesis.\n",
    "\n",
    "3. Test the null hypothesis that the effect of mothereduc is bigger 0.3. "
   ]
  },
  {
   "cell_type": "code",
   "execution_count": 8,
   "metadata": {},
   "outputs": [
    {
     "name": "stdout",
     "output_type": "stream",
     "text": [
      "\n",
      "===============================================\n",
      "                        Dependent variable:    \n",
      "                    ---------------------------\n",
      "                               educ            \n",
      "-----------------------------------------------\n",
      "motheduc                     0.190***          \n",
      "                              (0.028)          \n",
      "                                               \n",
      "fatheduc                     0.109***          \n",
      "                              (0.020)          \n",
      "                                               \n",
      "abil                         0.401***          \n",
      "                              (0.030)          \n",
      "                                               \n",
      "I(abil2)                     0.051***          \n",
      "                              (0.008)          \n",
      "                                               \n",
      "Constant                     8.240***          \n",
      "                              (0.287)          \n",
      "                                               \n",
      "-----------------------------------------------\n",
      "Observations                   1,230           \n",
      "R2                             0.444           \n",
      "Adjusted R2                    0.443           \n",
      "Residual Std. Error      1.758 (df = 1225)     \n",
      "F Statistic          244.906*** (df = 4; 1225) \n",
      "===============================================\n",
      "Note:               *p<0.1; **p<0.05; ***p<0.01\n"
     ]
    }
   ],
   "source": [
    "# to include the term ability squared you can create a separate variable or even easier \n",
    "# use the I(function) in the lm command to add the term abil2<-htv$abil^2 this will create\n",
    "# the variable separate, but better to use I(abil^2)\n",
    "\n",
    "# create model object for regression\n",
    "model <- lm(educ ~ motheduc + fatheduc + abil + I(abil^2), data = htv)\n",
    "\n",
    "# stargazer table\n",
    "stargazer(model, type = \"text\")"
   ]
  },
  {
   "cell_type": "code",
   "execution_count": 9,
   "metadata": {},
   "outputs": [
    {
     "name": "stdout",
     "output_type": "stream",
     "text": [
      "[1] \"T-test for linear vs quadratic relation on ability\"\n"
     ]
    },
    {
     "data": {
      "text/html": [
       "6.09340004930877"
      ],
      "text/latex": [
       "6.09340004930877"
      ],
      "text/markdown": [
       "6.09340004930877"
      ],
      "text/plain": [
       "[1] 6.0934"
      ]
     },
     "metadata": {},
     "output_type": "display_data"
    },
    {
     "name": "stdout",
     "output_type": "stream",
     "text": [
      "[1] \"pvalue = 0\"\n",
      "[1] \"T-test for mother educ > 0.3\"\n"
     ]
    },
    {
     "data": {
      "text/html": [
       "-3.91070023982074"
      ],
      "text/latex": [
       "-3.91070023982074"
      ],
      "text/markdown": [
       "-3.91070023982074"
      ],
      "text/plain": [
       "[1] -3.9107"
      ]
     },
     "metadata": {},
     "output_type": "display_data"
    },
    {
     "name": "stdout",
     "output_type": "stream",
     "text": [
      "[1] \"pvalue = 0.999951\"\n"
     ]
    }
   ],
   "source": [
    "# Reproduce t statistic\n",
    "# When parenthesis are added the object is printed\n",
    "\n",
    "## collect betas and sd for model\n",
    "coef_model <- coef(model)\n",
    "sd_model <- summary(model)$coefficient[,2]\n",
    "\n",
    "## Test the null hypothesis that educ is linearly related to abil against the alternative that the relationship is quadratic\n",
    "print(\"T-test for linear vs quadratic relation on ability\")\n",
    "as.numeric(tstat <- (coef_model[\"I(abil^2)\"] - 0) / sd_model[\"I(abil^2)\"])\n",
    "\n",
    "# Reproduce p value\n",
    "df <- nrow(htv) - 5 - 1\n",
    "print(paste(\"pvalue =\", round(pt(-abs(tstat), df),5)))\n",
    "\n",
    "# Reproduce t statistic\n",
    "# When parenthesis are added the object is printed\n",
    "# Is the same as doing bhat / se but it allows you to see where to add the value if different than zero \n",
    "\n",
    "## Test the null hypothesis that the effect of mothereduc is bigger 0.3.\n",
    "print(\"T-test for mother educ > 0.3\")\n",
    "as.numeric(tstat <- (coef_model[\"motheduc\"] - 0.3) / sd_model[\"motheduc\"])\n",
    "\n",
    "# Reproduce p value\n",
    "df <- nrow(htv) - 5 - 1\n",
    "print(paste(\"pvalue =\", round(pt(abs(tstat), df),6)))"
   ]
  },
  {
   "cell_type": "markdown",
   "metadata": {},
   "source": [
    "4. Using the equation in part (2), test $H_0: \\beta_1=\\beta_2$ against a two-sided alternative. What is the p-value of the test? \n",
    "\n",
    "This requires creating a new regression with a $\\theta_1=\\beta_1-\\beta_2$ and then test for $H_0: \\theta_1=0$\n",
    "\n",
    "Change the regression to create $\\theta_1=\\beta_1-\\beta_2$ \n",
    "\n",
    "Add and subtract $\\beta_2 motheduc$ and create a variable $parentedu=motheduc+fatheduc$:\n",
    "\n",
    "$$ educ = \\beta_0 + \\beta_1 motheduc - \\beta_2 motheduc + \\beta_2 motheduc+ \\beta_2 fatheduc + \\beta_3 abil + \\beta_4 abil^2 + u$$\n",
    "\n",
    "$$ educ = \\beta_0 + (\\beta_1 - \\beta_2)   motheduc + \\beta_2  (motheduc+fatheduc) + \\beta_3 abil + \\beta_4 abil^2 + u$$\n",
    "$$ educ = \\beta_0 + \\theta_1   motheduc + \\beta_2  (parentedu) + \\beta_3 abil + \\beta_4 abil^2 + u$$\n",
    "\n",
    "By testing the null hypothesis that $H_0:\\theta_1=0$ with $alpha=0.05$ we are testing $H_0: \\beta_1=\\beta_2$. Run the regression that has $\\theta_1$ as a regressor and look at the t-test for $\\theta_1$"
   ]
  },
  {
   "cell_type": "code",
   "execution_count": 10,
   "metadata": {},
   "outputs": [
    {
     "name": "stdout",
     "output_type": "stream",
     "text": [
      "[1] \"critical values for alpha 5% and 1% 2 tails\"\n"
     ]
    },
    {
     "data": {
      "text/html": [
       "<style>\n",
       ".list-inline {list-style: none; margin:0; padding: 0}\n",
       ".list-inline>li {display: inline-block}\n",
       ".list-inline>li:not(:last-child)::after {content: \"\\00b7\"; padding: 0 .5ex}\n",
       "</style>\n",
       "<ol class=list-inline><li>-1.96190241475626</li><li>-2.57984870579272</li></ol>\n"
      ],
      "text/latex": [
       "\\begin{enumerate*}\n",
       "\\item -1.96190241475626\n",
       "\\item -2.57984870579272\n",
       "\\end{enumerate*}\n"
      ],
      "text/markdown": [
       "1. -1.96190241475626\n",
       "2. -2.57984870579272\n",
       "\n",
       "\n"
      ],
      "text/plain": [
       "[1] -1.961902 -2.579849"
      ]
     },
     "metadata": {},
     "output_type": "display_data"
    }
   ],
   "source": [
    "# Critival Values for alpha=5% and 1% for 1225 degrees of freedom \n",
    "print(\"critical values for alpha 5% and 1% 2 tails\")\n",
    "alpha_2 <- c(0.025, 0.005)\n",
    "qt(alpha_2, 1225)\n",
    "\n",
    "# create parenteduc\n",
    "htv <- htv %>% mutate(parenteduc = motheduc + fatheduc)\n",
    "\n",
    "# regression with theta1\n",
    "theta1reg <- lm(educ ~ motheduc + parenteduc + abil + I(abil^2), data=htv)"
   ]
  },
  {
   "cell_type": "code",
   "execution_count": 11,
   "metadata": {},
   "outputs": [
    {
     "name": "stdout",
     "output_type": "stream",
     "text": [
      "\n",
      "===============================================\n",
      "                        Dependent variable:    \n",
      "                    ---------------------------\n",
      "                               educ            \n",
      "-----------------------------------------------\n",
      "motheduc                      0.081*           \n",
      "                              (0.042)          \n",
      "                                               \n",
      "parenteduc                   0.109***          \n",
      "                              (0.020)          \n",
      "                                               \n",
      "abil                         0.401***          \n",
      "                              (0.030)          \n",
      "                                               \n",
      "I(abil2)                     0.051***          \n",
      "                              (0.008)          \n",
      "                                               \n",
      "Constant                     8.240***          \n",
      "                              (0.287)          \n",
      "                                               \n",
      "-----------------------------------------------\n",
      "Observations                   1,230           \n",
      "R2                             0.444           \n",
      "Adjusted R2                    0.443           \n",
      "Residual Std. Error      1.758 (df = 1225)     \n",
      "F Statistic          244.906*** (df = 4; 1225) \n",
      "===============================================\n",
      "Note:               *p<0.1; **p<0.05; ***p<0.01\n"
     ]
    }
   ],
   "source": [
    "# stargazer table\n",
    "stargazer(theta1reg, type = \"text\")"
   ]
  },
  {
   "cell_type": "markdown",
   "metadata": {},
   "source": [
    "The value of $\\theta_1$ is equal to `r round(summary(theta1reg)$coefficients[\"motheduc\",\"Estimate\"],3) ` with a t-stat of `r round(as.numeric(tstat <- (as.numeric(coef(theta1reg)[\"motheduc\"])) / summary(theta1reg)$coefficients[2,2]),4) ` and a p-value of `r round(summary(theta1reg)$coefficients[\"motheduc\",\"Pr(>|t|)\"],4) ` this means that we fail to reject the null hypothesis that  $H_0:\\theta_1=0$ at the 1% and 5% significance level which means that $\\beta_1$ = $\\beta_2$ therefore the level of education of mother's and father's education has the same magnitute.\n",
    "\n",
    "\n",
    "5. Add the two college tuition variables to the regression from part (2) and determine whether they are jointly statistically significant. \n",
    "\n",
    "First do the F-test step-by-step"
   ]
  },
  {
   "cell_type": "code",
   "execution_count": 12,
   "metadata": {},
   "outputs": [
    {
     "data": {
      "text/html": [
       "4.62255443008626"
      ],
      "text/latex": [
       "4.62255443008626"
      ],
      "text/markdown": [
       "4.62255443008626"
      ],
      "text/plain": [
       "[1] 4.622554"
      ]
     },
     "metadata": {},
     "output_type": "display_data"
    },
    {
     "name": "stdout",
     "output_type": "stream",
     "text": [
      "[1] \"$R^2$ unrestricted= 0.445111711014271\"\n",
      "[1] \"$R^2$ restricted= 0.444350085890875\"\n",
      "[1] \"F-stat= 0.839328874300021\"\n",
      "[1] \"p-value= 0.432\"\n"
     ]
    }
   ],
   "source": [
    "# CV for alpha=1% using the F distribution with 1223 degrees of fredom d.f. :\n",
    "alpha <- 0.01\n",
    "df <- 1223\n",
    "qf(1-alpha, 2, df)\n",
    "\n",
    "## F test step by step\n",
    "# Unrestricted OLS regression:  \n",
    "unrestricted <- lm(educ ~ motheduc + fatheduc + abil + I(abil^2) + tuit17 + tuit18, data = htv)\n",
    "\n",
    "# Restricted OLS regression:\n",
    "restricted <- lm(educ ~ motheduc + fatheduc + abil + I(abil^2), data = htv)\n",
    "\n",
    "# R2:\n",
    "r2.ur <- summary(unrestricted)$r.squared # R squared unrestricted\n",
    "r2.r <- summary(restricted)$r.squared # R squared restricted \n",
    "print(paste(\"$R^2$ unrestricted=\", r2.ur))\n",
    "print(paste(\"$R^2$ restricted=\", r2.r))\n",
    "# F statistic:\n",
    "F <- (r2.ur-r2.r) / (1-r2.ur) * unrestricted$df/2\n",
    "print(paste(\"F-stat=\", F))\n",
    "# p value = 1-cdf of the appropriate F distribution:\n",
    "print(paste(\"p-value=\", round(1-pf(F, 2, unrestricted$df),3)))"
   ]
  },
  {
   "cell_type": "markdown",
   "metadata": {},
   "source": [
    "Then use any of the other methods."
   ]
  },
  {
   "cell_type": "code",
   "execution_count": 13,
   "metadata": {},
   "outputs": [
    {
     "data": {
      "text/html": [
       "<table>\n",
       "<caption>A anova: 2 × 6</caption>\n",
       "<thead>\n",
       "\t<tr><th></th><th scope=col>Res.Df</th><th scope=col>RSS</th><th scope=col>Df</th><th scope=col>Sum of Sq</th><th scope=col>F</th><th scope=col>Pr(&gt;F)</th></tr>\n",
       "\t<tr><th></th><th scope=col>&lt;dbl&gt;</th><th scope=col>&lt;dbl&gt;</th><th scope=col>&lt;dbl&gt;</th><th scope=col>&lt;dbl&gt;</th><th scope=col>&lt;dbl&gt;</th><th scope=col>&lt;dbl&gt;</th></tr>\n",
       "</thead>\n",
       "<tbody>\n",
       "\t<tr><th scope=row>1</th><td>1225</td><td>3785.243</td><td>NA</td><td>      NA</td><td>       NA</td><td>      NA</td></tr>\n",
       "\t<tr><th scope=row>2</th><td>1223</td><td>3780.054</td><td> 2</td><td>5.188403</td><td>0.8393289</td><td>0.432249</td></tr>\n",
       "</tbody>\n",
       "</table>\n"
      ],
      "text/latex": [
       "A anova: 2 × 6\n",
       "\\begin{tabular}{r|llllll}\n",
       "  & Res.Df & RSS & Df & Sum of Sq & F & Pr(>F)\\\\\n",
       "  & <dbl> & <dbl> & <dbl> & <dbl> & <dbl> & <dbl>\\\\\n",
       "\\hline\n",
       "\t1 & 1225 & 3785.243 & NA &       NA &        NA &       NA\\\\\n",
       "\t2 & 1223 & 3780.054 &  2 & 5.188403 & 0.8393289 & 0.432249\\\\\n",
       "\\end{tabular}\n"
      ],
      "text/markdown": [
       "\n",
       "A anova: 2 × 6\n",
       "\n",
       "| <!--/--> | Res.Df &lt;dbl&gt; | RSS &lt;dbl&gt; | Df &lt;dbl&gt; | Sum of Sq &lt;dbl&gt; | F &lt;dbl&gt; | Pr(&gt;F) &lt;dbl&gt; |\n",
       "|---|---|---|---|---|---|---|\n",
       "| 1 | 1225 | 3785.243 | NA |       NA |        NA |       NA |\n",
       "| 2 | 1223 | 3780.054 |  2 | 5.188403 | 0.8393289 | 0.432249 |\n",
       "\n"
      ],
      "text/plain": [
       "  Res.Df RSS      Df Sum of Sq F         Pr(>F)  \n",
       "1 1225   3785.243 NA       NA         NA       NA\n",
       "2 1223   3780.054  2 5.188403  0.8393289 0.432249"
      ]
     },
     "metadata": {},
     "output_type": "display_data"
    }
   ],
   "source": [
    "# F test \n",
    "linearHypothesis(unrestricted, c(\"tuit17\", \"tuit18\")) # not showing full output"
   ]
  },
  {
   "cell_type": "markdown",
   "metadata": {},
   "source": [
    "This shows that in this case we **do not reject the null hypothesis** that the coefficients are jointly zero. \n",
    "\n",
    "6. Use function `confint()` to find the confidence intervals of all the parameters in the unsrestricted model from (4) What do you conclude? EXPLAIN this results in the light of the significance of your coefficients"
   ]
  },
  {
   "cell_type": "code",
   "execution_count": 14,
   "metadata": {},
   "outputs": [
    {
     "data": {
      "text/html": [
       "<table>\n",
       "<caption>A matrix: 7 × 2 of type dbl</caption>\n",
       "<thead>\n",
       "\t<tr><th></th><th scope=col>2.5 %</th><th scope=col>97.5 %</th></tr>\n",
       "</thead>\n",
       "<tbody>\n",
       "\t<tr><th scope=row>(Intercept)</th><td> 7.46824247</td><td>8.69548699</td></tr>\n",
       "\t<tr><th scope=row>motheduc</th><td> 0.13760516</td><td>0.24817975</td></tr>\n",
       "\t<tr><th scope=row>fatheduc</th><td> 0.06995406</td><td>0.14693142</td></tr>\n",
       "\t<tr><th scope=row>abil</th><td> 0.33950019</td><td>0.45858498</td></tr>\n",
       "\t<tr><th scope=row>I(abil^2)</th><td> 0.03424592</td><td>0.06686302</td></tr>\n",
       "\t<tr><th scope=row>tuit17</th><td>-0.10686603</td><td>0.13838359</td></tr>\n",
       "\t<tr><th scope=row>tuit18</th><td>-0.12481046</td><td>0.12493111</td></tr>\n",
       "</tbody>\n",
       "</table>\n"
      ],
      "text/latex": [
       "A matrix: 7 × 2 of type dbl\n",
       "\\begin{tabular}{r|ll}\n",
       "  & 2.5 \\% & 97.5 \\%\\\\\n",
       "\\hline\n",
       "\t(Intercept) &  7.46824247 & 8.69548699\\\\\n",
       "\tmotheduc &  0.13760516 & 0.24817975\\\\\n",
       "\tfatheduc &  0.06995406 & 0.14693142\\\\\n",
       "\tabil &  0.33950019 & 0.45858498\\\\\n",
       "\tI(abil\\textasciicircum{}2) &  0.03424592 & 0.06686302\\\\\n",
       "\ttuit17 & -0.10686603 & 0.13838359\\\\\n",
       "\ttuit18 & -0.12481046 & 0.12493111\\\\\n",
       "\\end{tabular}\n"
      ],
      "text/markdown": [
       "\n",
       "A matrix: 7 × 2 of type dbl\n",
       "\n",
       "| <!--/--> | 2.5 % | 97.5 % |\n",
       "|---|---|---|\n",
       "| (Intercept) |  7.46824247 | 8.69548699 |\n",
       "| motheduc |  0.13760516 | 0.24817975 |\n",
       "| fatheduc |  0.06995406 | 0.14693142 |\n",
       "| abil |  0.33950019 | 0.45858498 |\n",
       "| I(abil^2) |  0.03424592 | 0.06686302 |\n",
       "| tuit17 | -0.10686603 | 0.13838359 |\n",
       "| tuit18 | -0.12481046 | 0.12493111 |\n",
       "\n"
      ],
      "text/plain": [
       "            2.5 %       97.5 %    \n",
       "(Intercept)  7.46824247 8.69548699\n",
       "motheduc     0.13760516 0.24817975\n",
       "fatheduc     0.06995406 0.14693142\n",
       "abil         0.33950019 0.45858498\n",
       "I(abil^2)    0.03424592 0.06686302\n",
       "tuit17      -0.10686603 0.13838359\n",
       "tuit18      -0.12481046 0.12493111"
      ]
     },
     "metadata": {},
     "output_type": "display_data"
    }
   ],
   "source": [
    "confint(unrestricted)"
   ]
  },
  {
   "cell_type": "markdown",
   "metadata": {},
   "source": [
    "The confidence interval for tuit17 and tuit18 includes zero, whereas the other intervals do not. Therefore, the confidence interval supports the F test conclusion that the coefficients for tuit17 and tuit18 are jointly zero.\n",
    "\n",
    "\n",
    "7. Using the Breush-Pagan test, test for heteroskedasticity in your model  \n",
    "$$ educ = \\beta_0 + \\beta_1 *motheduc + \\beta_2 *fatheduc + \\beta_3 *abil + \\beta_4 *abil^2 + u$$ \n",
    "then estimate the model with robust standard errors (correcting for the heteroskedasticy problem), and the present both ( OLS and robust) the results in a table using `screenreg()`. \n",
    "\n",
    "Do the significance of your results change after the correction? What about the standard errors?\n",
    "\n",
    "The significance of the results do not change; however, the standard errors have all increased."
   ]
  },
  {
   "cell_type": "code",
   "execution_count": 19,
   "metadata": {},
   "outputs": [
    {
     "data": {
      "text/plain": [
       "\n",
       "\tstudentized Breusch-Pagan test\n",
       "\n",
       "data:  model\n",
       "BP = 18.576, df = 4, p-value = 0.0009518\n"
      ]
     },
     "metadata": {},
     "output_type": "display_data"
    }
   ],
   "source": [
    "bptest(model)\n",
    "model_hccm <- lm_robust(\n",
    "    educ ~ motheduc + fatheduc + abil + I(abil^2), data = htv) %>% \n",
    "extract.lm_robust(include.ci = FALSE)\n",
    "# output not readable in jupyter notebook\n",
    "# screenreg(list(model, model_hccm), digits = 3)"
   ]
  },
  {
   "cell_type": "code",
   "execution_count": null,
   "metadata": {},
   "outputs": [],
   "source": []
  }
 ],
 "metadata": {
  "kernelspec": {
   "display_name": "R",
   "language": "R",
   "name": "ir"
  },
  "language_info": {
   "codemirror_mode": "r",
   "file_extension": ".r",
   "mimetype": "text/x-r-source",
   "name": "R",
   "pygments_lexer": "r",
   "version": "4.0.2"
  },
  "latex_envs": {
   "LaTeX_envs_menu_present": true,
   "autoclose": false,
   "autocomplete": true,
   "bibliofile": "biblio.bib",
   "cite_by": "apalike",
   "current_citInitial": 1,
   "eqLabelWithNumbers": true,
   "eqNumInitial": 1,
   "hotkeys": {
    "equation": "Ctrl-E",
    "itemize": "Ctrl-I"
   },
   "labels_anchors": false,
   "latex_user_defs": false,
   "report_style_numbering": false,
   "user_envs_cfg": false
  }
 },
 "nbformat": 4,
 "nbformat_minor": 4
}
