{
 "cells": [
  {
   "cell_type": "markdown",
   "metadata": {},
   "source": [
    "<center><h1> Empirical Assignment 4</h1></center>\n",
    "\n",
    "**Author(s):**\n",
    "1. Belicia Rodriguez (belicia.rodriguez@emory.edu)\n",
    "\n",
    "**Objectives**: This <ins>assignment</ins> aims at\n",
    " 1. Learning how to adapt other people's code to one needs;\n",
    " 2. Use *GitHub* to retrieve and submit computer code.\n",
    "\n",
    "**Instructions**:\n",
    " 1. Please write down your Python code and <ins>execute</ins> it in the cell below each question.\n",
    " \n",
    " **Data Source**: [Introductory Econometrics: A Modern Approach](https://cran.r-project.org/web/packages/wooldridge/index.html) by Jeffrey Wooldridge\n",
    "\n",
    "**Data Description**: ```http://fmwww.bc.edu/ec-p/data/wooldridge/hprice1.dta```\n",
    "\n",
    "```\n",
    "Contains data from hprice1.dta\n",
    "  obs:            88                          \n",
    " vars:            10                          17 Mar 2002 12:21\n",
    " size:         3,168 (99.5% of memory free)\n",
    "-------------------------------------------------------------------------------\n",
    "              storage  display     value\n",
    "variable name   type   format      label      variable label\n",
    "-------------------------------------------------------------------------------\n",
    "price           float  %9.0g                  house price, $1000s\n",
    "assess          float  %9.0g                  assessed value, $1000s\n",
    "bdrms           byte   %9.0g                  number of bdrms\n",
    "lotsize         float  %9.0g                  size of lot in square feet\n",
    "sqrft           int    %9.0g                  size of house in square feet\n",
    "colonial        byte   %9.0g                  =1 if home is colonial style\n",
    "lprice          float  %9.0g                  log(price)\n",
    "lassess         float  %9.0g                  log(assess\n",
    "llotsize        float  %9.0g                  log(lotsize)\n",
    "lsqrft          float  %9.0g                  log(sqrft)\n",
    "-------------------------------------------------------------------------------\n",
    "Sorted by:  \n",
    " ```\n",
    " \n",
    " **Background**: Consider the general model\n",
    " \n",
    " $$\n",
    "\\begin{aligned}\n",
    "\\texttt{lprice} &= \\beta_{0} + \\beta_{1}\\texttt{llotsize} +  \\beta_{2}\\texttt{lsqrft} +\\beta_{3}\\texttt{colonial}+\\beta_{4}\\texttt{bdrms}\\\\\n",
    "&+ \\beta_{5}\\texttt{colonial}\\times\\texttt{llotsize}+ \\beta_{6}\\texttt{colonial}\\times\\texttt{lsqrft}++ \\beta_{7}\\texttt{colonial}\\times\\texttt{bdrms}+ e.\n",
    "\\end{aligned}\n",
    "$$\n",
    "\n",
    "You now know that a relatively unknown _alternative_ measure of fit, $\\widetilde{R}^2$, is defined as\n",
    "\n",
    "$$\n",
    "\\widetilde{R}^{2}=1-\\frac{\\sum_{i=1}^{n} \\widetilde{e}_{i}^{2}}{\\sum_{i=1}^{n}\\left(y_{i}-\\bar{y}\\right)^{2}},\n",
    "$$\n",
    "\n",
    "where $\\{\\widetilde{e}_i;i=1,\\dots,n\\}$ are the _prediction errors_ previously discussed in class, and $\\{y_i;i=1,\\dots,n\\}$ represents the elements $\\{\\texttt{lprice} _i;i=1,\\dots,n\\}$ in the ```hprice1``` data set. Recall that $\\widetilde{R}^2$ estimates the percentage of the forecast variance which is explained by the regression forecast. You think this is a better measure of _fitness_ than the $RSS$ or the classical $R^2$.\n",
    " \n",
    "<center><h2> Questions</h2></center>"
   ]
  },
  {
   "cell_type": "markdown",
   "metadata": {},
   "source": [
    "1. [15 points] Proceed to modify the previously defined ```processSubset``` Python function so it returns this new quantity $\\widetilde{R}^2$ instead of the $RSS$ (called ```ssr``` by the ```statsmodels``` library)."
   ]
  },
  {
   "cell_type": "code",
   "execution_count": 2,
   "metadata": {},
   "outputs": [],
   "source": [
    "import pandas as pd\n",
    "import numpy as np\n",
    "import patsy\n",
    "import itertools\n",
    "import statsmodels.api as sm\n",
    "from statsmodels.regression.linear_model import OLS\n",
    "\n",
    "# redefine processSubset to calculate new R^2\n",
    "def processSubset(feature_set):\n",
    "    # fit model on feature_set\n",
    "    model = OLS(y,X[list(feature_set)])\n",
    "    reg = model.fit()\n",
    "    \n",
    "    # calculate new R^2\n",
    "    predict_errors = ((reg.resid/(1 - reg.get_influence().hat_matrix_diag))**2).sum()\n",
    "    sum_of_squares = (reg.centered_tss)\n",
    "    R2 = 1 - (predict_errors/sum_of_squares)\n",
    "    \n",
    "    return {'model':reg, 'new R2':R2}"
   ]
  },
  {
   "cell_type": "markdown",
   "metadata": {},
   "source": [
    "2. [35 points] Using the entire set of 88 observations proceed to find out all the best 7 specifications using the **Best Subset Selection** algorithm discussed in class that utilizes the proposed $\\widetilde{R}^2$ measure of fit instead. *Note*: All these 7 specifications must contain an intercept per our discussion in class."
   ]
  },
  {
   "cell_type": "code",
   "execution_count": 3,
   "metadata": {},
   "outputs": [
    {
     "name": "stderr",
     "output_type": "stream",
     "text": [
      "/opt/anaconda3/lib/python3.7/site-packages/ipykernel_launcher.py:25: FutureWarning: \n",
      "The current behaviour of 'Series.argmax' is deprecated, use 'idxmax'\n",
      "instead.\n",
      "The behavior of 'argmax' will be corrected to return the positional\n",
      "maximum in the future. For now, use 'series.values.argmax' or\n",
      "'np.argmax(np.array(values))' to get the position of the maximum\n",
      "row.\n"
     ]
    },
    {
     "name": "stdout",
     "output_type": "stream",
     "text": [
      "                                               model    new R2\n",
      "1  <statsmodels.regression.linear_model.Regressio...  0.538504\n",
      "2  <statsmodels.regression.linear_model.Regressio...  0.613883\n",
      "3  <statsmodels.regression.linear_model.Regressio...  0.613524\n",
      "4  <statsmodels.regression.linear_model.Regressio...  0.607329\n",
      "5  <statsmodels.regression.linear_model.Regressio...  0.590002\n",
      "6  <statsmodels.regression.linear_model.Regressio...  0.564622\n",
      "7  <statsmodels.regression.linear_model.Regressio...  0.471542\n"
     ]
    }
   ],
   "source": [
    "# import hprice1 dataset\n",
    "hprice1 = pd.read_stata('http://fmwww.bc.edu/ec-p/data/wooldridge/hprice1.dta')\n",
    "\n",
    "# create design matrix of specification\n",
    "f = 'lprice ~ llotsize + lsqrft + colonial + bdrms + colonial:llotsize + colonial:lsqrft + colonial:bdrms'\n",
    "y,X = patsy.dmatrices(f, data=hprice1, return_type='dataframe')\n",
    "\n",
    "# demean outcome and features: subtract sample mean from each observation\n",
    "y = y.sub(y.mean())\n",
    "X = X.sub(X.mean()).drop('Intercept', axis=1)\n",
    "\n",
    "# define getBest function\n",
    "def getBest(p):\n",
    "    # create empty array to store results\n",
    "    results = []\n",
    "    \n",
    "    # \n",
    "    for combo in itertools.combinations(X.columns,p):\n",
    "        results.append(processSubset(combo))\n",
    "\n",
    "    # put results in dataframe\n",
    "    models = pd.DataFrame(results)\n",
    "    \n",
    "    # choose model with lowest new R^2\n",
    "    best_model = models.loc[models['new R2'].argmax()]\n",
    "    return best_model\n",
    "\n",
    "# collect the best models using a loop\n",
    "models_best = pd.DataFrame(columns=['model','new R2'])\n",
    "\n",
    "for i in range(1,8):\n",
    "    models_best.loc[i] = getBest(i)\n",
    "    \n",
    "print(models_best)"
   ]
  },
  {
   "cell_type": "markdown",
   "metadata": {},
   "source": [
    "**Comment:** pay attention to the warning and use idxmax instead of argmax"
   ]
  },
  {
   "cell_type": "markdown",
   "metadata": {},
   "source": [
    "3. [50 points] For each of the best 7 specifications you found to maximize the forecast variance that is explained by the regression forecast in the previous question, proceed to calculate the cross-validated errors in a $10$-fold (using a seed equal to $42$). For example, let's assume that the best model that includes just one regressor using the entire sample of 88 observations and the $\\widetilde{R}^2$ is the model that regresses ```lprice``` on ```colonial```. Using the partition of the first fold, proceed to use the 90% of the observations to fit this model and then predict the ```lprice``` in the remaining 10% in this fold, and modified *again* your ```processSubset``` function to return the RSS, see, e.g., the Python code in the lecture notes. Save this value and then do the same for the next fold, save this value, and continue doing it till you have 10 RSS values corresponding to the $10$-fold. Average these 10 values and save it. Then do the same with the best model you found that contains 2 regressors, then the best that contains 3 regressors, and so on till you do the same for the complete model with 7 features. Plot these average values and proceed to report the model with the *smallest* cross-validated error. Then fit (```.summary()```) this *best* model using the entire sample."
   ]
  },
  {
   "cell_type": "code",
   "execution_count": 53,
   "metadata": {
    "scrolled": false
   },
   "outputs": [
    {
     "data": {
      "image/png": "[encoded data removed]",
      "text/plain": [
       "<Figure size 432x288 with 1 Axes>"
      ]
     },
     "metadata": {
      "needs_background": "light"
     },
     "output_type": "display_data"
    },
    {
     "name": "stderr",
     "output_type": "stream",
     "text": [
      "/opt/anaconda3/lib/python3.7/site-packages/ipykernel_launcher.py:61: FutureWarning: \n",
      "The current behaviour of 'Series.argmin' is deprecated, use 'idxmin'\n",
      "instead.\n",
      "The behavior of 'argmin' will be corrected to return the positional\n",
      "minimum in the future. For now, use 'series.values.argmin' or\n",
      "'np.argmin(np.array(values))' to get the position of the minimum\n",
      "row.\n"
     ]
    },
    {
     "data": {
      "text/html": [
       "<table class=\"simpletable\">\n",
       "<caption>OLS Regression Results</caption>\n",
       "<tr>\n",
       "  <th>Dep. Variable:</th>         <td>lprice</td>      <th>  R-squared (uncentered):</th>      <td>   0.651</td>\n",
       "</tr>\n",
       "<tr>\n",
       "  <th>Model:</th>                   <td>OLS</td>       <th>  Adj. R-squared (uncentered):</th> <td>   0.639</td>\n",
       "</tr>\n",
       "<tr>\n",
       "  <th>Method:</th>             <td>Least Squares</td>  <th>  F-statistic:       </th>          <td>   52.94</td>\n",
       "</tr>\n",
       "<tr>\n",
       "  <th>Date:</th>             <td>Thu, 05 Mar 2020</td> <th>  Prob (F-statistic):</th>          <td>2.13e-19</td>\n",
       "</tr>\n",
       "<tr>\n",
       "  <th>Time:</th>                 <td>11:50:23</td>     <th>  Log-Likelihood:    </th>          <td>  26.912</td>\n",
       "</tr>\n",
       "<tr>\n",
       "  <th>No. Observations:</th>      <td>    88</td>      <th>  AIC:               </th>          <td>  -47.82</td>\n",
       "</tr>\n",
       "<tr>\n",
       "  <th>Df Residuals:</th>          <td>    85</td>      <th>  BIC:               </th>          <td>  -40.39</td>\n",
       "</tr>\n",
       "<tr>\n",
       "  <th>Df Model:</th>              <td>     3</td>      <th>                     </th>              <td> </td>   \n",
       "</tr>\n",
       "<tr>\n",
       "  <th>Covariance Type:</th>      <td>nonrobust</td>    <th>                     </th>              <td> </td>   \n",
       "</tr>\n",
       "</table>\n",
       "<table class=\"simpletable\">\n",
       "<tr>\n",
       "         <td></td>           <th>coef</th>     <th>std err</th>      <th>t</th>      <th>P>|t|</th>  <th>[0.025</th>    <th>0.975]</th>  \n",
       "</tr>\n",
       "<tr>\n",
       "  <th>llotsize</th>       <td>    0.1663</td> <td>    0.038</td> <td>    4.422</td> <td> 0.000</td> <td>    0.092</td> <td>    0.241</td>\n",
       "</tr>\n",
       "<tr>\n",
       "  <th>lsqrft</th>         <td>    0.7287</td> <td>    0.081</td> <td>    9.010</td> <td> 0.000</td> <td>    0.568</td> <td>    0.890</td>\n",
       "</tr>\n",
       "<tr>\n",
       "  <th>colonial:bdrms</th> <td>    0.0212</td> <td>    0.011</td> <td>    1.981</td> <td> 0.051</td> <td>-8.12e-05</td> <td>    0.042</td>\n",
       "</tr>\n",
       "</table>\n",
       "<table class=\"simpletable\">\n",
       "<tr>\n",
       "  <th>Omnibus:</th>       <td>14.054</td> <th>  Durbin-Watson:     </th> <td>   2.064</td>\n",
       "</tr>\n",
       "<tr>\n",
       "  <th>Prob(Omnibus):</th> <td> 0.001</td> <th>  Jarque-Bera (JB):  </th> <td>  53.903</td>\n",
       "</tr>\n",
       "<tr>\n",
       "  <th>Skew:</th>          <td> 0.032</td> <th>  Prob(JB):          </th> <td>1.97e-12</td>\n",
       "</tr>\n",
       "<tr>\n",
       "  <th>Kurtosis:</th>      <td> 6.834</td> <th>  Cond. No.          </th> <td>    7.87</td>\n",
       "</tr>\n",
       "</table><br/><br/>Warnings:<br/>[1] Standard Errors assume that the covariance matrix of the errors is correctly specified."
      ],
      "text/plain": [
       "<class 'statsmodels.iolib.summary.Summary'>\n",
       "\"\"\"\n",
       "                                 OLS Regression Results                                \n",
       "=======================================================================================\n",
       "Dep. Variable:                 lprice   R-squared (uncentered):                   0.651\n",
       "Model:                            OLS   Adj. R-squared (uncentered):              0.639\n",
       "Method:                 Least Squares   F-statistic:                              52.94\n",
       "Date:                Thu, 05 Mar 2020   Prob (F-statistic):                    2.13e-19\n",
       "Time:                        11:50:23   Log-Likelihood:                          26.912\n",
       "No. Observations:                  88   AIC:                                     -47.82\n",
       "Df Residuals:                      85   BIC:                                     -40.39\n",
       "Df Model:                           3                                                  \n",
       "Covariance Type:            nonrobust                                                  \n",
       "==================================================================================\n",
       "                     coef    std err          t      P>|t|      [0.025      0.975]\n",
       "----------------------------------------------------------------------------------\n",
       "llotsize           0.1663      0.038      4.422      0.000       0.092       0.241\n",
       "lsqrft             0.7287      0.081      9.010      0.000       0.568       0.890\n",
       "colonial:bdrms     0.0212      0.011      1.981      0.051   -8.12e-05       0.042\n",
       "==============================================================================\n",
       "Omnibus:                       14.054   Durbin-Watson:                   2.064\n",
       "Prob(Omnibus):                  0.001   Jarque-Bera (JB):               53.903\n",
       "Skew:                           0.032   Prob(JB):                     1.97e-12\n",
       "Kurtosis:                       6.834   Cond. No.                         7.87\n",
       "==============================================================================\n",
       "\n",
       "Warnings:\n",
       "[1] Standard Errors assume that the covariance matrix of the errors is correctly specified.\n",
       "\"\"\""
      ]
     },
     "execution_count": 53,
     "metadata": {},
     "output_type": "execute_result"
    }
   ],
   "source": [
    "from sklearn.model_selection import KFold\n",
    "import matplotlib.pyplot as plt\n",
    "\n",
    "# modify processSubset function to return RSS\n",
    "def processFold(r, X_train, X_test, y_train, y_test):    \n",
    "    # run OLS and fit a regression\n",
    "    model = sm.OLS(y_train, X_train[list(r)])\n",
    "    regr = model.fit()\n",
    "    \n",
    "    # predict test set and calculate RSS\n",
    "    RSS = ((regr.predict(X_test[list(r)]) - y_test.iloc[:,0])**2).sum()\n",
    "\n",
    "    return RSS\n",
    "\n",
    "# run a kFold and get the RSS of each fold, then calculate the average of RSS\n",
    "def runKfold_getavgRSS(i):\n",
    "    # itialize empty array\n",
    "    RSS = []\n",
    "\n",
    "    # split data into 10 folds and collect RSS values\n",
    "    for train_index, test_index in kf.split(hprice1_array):\n",
    "        # divide dataframe into test and train\n",
    "        X_train = X.iloc[train_index]\n",
    "        X_test = X.iloc[test_index]\n",
    "        y_train = y.iloc[train_index]\n",
    "        y_test = y.iloc[test_index]\n",
    "    \n",
    "        # define which regressor(s) to analyze\n",
    "        regressor = models_best['model'][i].model.exog_names\n",
    "    \n",
    "        # send to processFold to get RSS\n",
    "        rss_value = processFold(regressor, X_train, X_test, y_train, y_test)\n",
    "    \n",
    "        # append RSS value to \n",
    "        RSS.append(rss_value)\n",
    "    \n",
    "    # take average of the RSS collected in the kFold\n",
    "    RSS_avg_value = np.mean(RSS)\n",
    "    \n",
    "    return RSS_avg_value\n",
    "\n",
    "# create kfold object\n",
    "kf = KFold(n_splits=10, shuffle=True, random_state=42)\n",
    "\n",
    "# change hprice1 from dataframe to array for kfold \n",
    "hprice1_array = hprice1.to_numpy()\n",
    "\n",
    "# initiate an empty list\n",
    "RSS_avgs = pd.DataFrame(columns=['R2'], index=range(1,8), dtype='float64')\n",
    "\n",
    "# run a loop to go through each best model and collect the RSS averages\n",
    "for i in (range(1,8)):\n",
    "    a = runKfold_getavgRSS(i)\n",
    "    RSS_avgs.loc[i] = a\n",
    "    \n",
    "# create graph of RSS averages\n",
    "plt.plot(RSS_avgs)\n",
    "plt.show()\n",
    "\n",
    "# choose model with lowest error\n",
    "smallest = RSS_avgs['R2'].argmin()\n",
    "\n",
    "# display summary of the model\n",
    "models_best['model'][smallest].summary()"
   ]
  },
  {
   "cell_type": "markdown",
   "metadata": {},
   "source": [
    "**Comment:** again, be careful with the warnings"
   ]
  }
 ],
 "metadata": {
  "kernelspec": {
   "display_name": "Python 3",
   "language": "python",
   "name": "python3"
  },
  "language_info": {
   "codemirror_mode": {
    "name": "ipython",
    "version": 3
   },
   "file_extension": ".py",
   "mimetype": "text/x-python",
   "name": "python",
   "nbconvert_exporter": "python",
   "pygments_lexer": "ipython3",
   "version": "3.6.10"
  },
  "latex_envs": {
   "LaTeX_envs_menu_present": true,
   "autoclose": false,
   "autocomplete": true,
   "bibliofile": "biblio.bib",
   "cite_by": "apalike",
   "current_citInitial": 1,
   "eqLabelWithNumbers": true,
   "eqNumInitial": 1,
   "hotkeys": {
    "equation": "Ctrl-E",
    "itemize": "Ctrl-I"
   },
   "labels_anchors": false,
   "latex_user_defs": false,
   "report_style_numbering": false,
   "user_envs_cfg": false
  }
 },
 "nbformat": 4,
 "nbformat_minor": 2
}
