{
 "cells": [
  {
   "cell_type": "markdown",
   "metadata": {},
   "source": [
    "<center><h1> Empirical Assignment 2</h1></center>\n",
    "\n",
    "**Author(s):**\n",
    "1. Belicia Rodriguez (belicia.rodriguez@emory.edu)\n",
    "\n",
    "**Objectives**: This <ins>assignment</ins> aims at\n",
    " 1. Making students familiar with *data pre-processing* with the ```dplyr``` and ```tidyr``` R packages;\n",
    " 2. Use *GitHub* to retrieve and submit computer code.\n",
    "\n",
    "**Instructions**:\n",
    " 1. Please write down your R code and <ins>execute</ins> it in the cell below each question.\n",
    " \n",
    "<center><h2> Questions</h2></center>"
   ]
  },
  {
   "cell_type": "markdown",
   "metadata": {},
   "source": [
    "1. Using the ```suppressWarnings``` function proceed to load the ```wooldridge```, ```dplyr```, and ```tidyr``` packages."
   ]
  },
  {
   "cell_type": "code",
   "execution_count": 1,
   "metadata": {
    "scrolled": true
   },
   "outputs": [
    {
     "name": "stderr",
     "output_type": "stream",
     "text": [
      "Loading required package: wooldridge\n",
      "Warning message:\n",
      "\"package 'wooldridge' was built under R version 3.6.2\"Loading required package: dplyr\n",
      "Warning message:\n",
      "\"package 'dplyr' was built under R version 3.6.2\"\n",
      "Attaching package: 'dplyr'\n",
      "\n",
      "The following objects are masked from 'package:stats':\n",
      "\n",
      "    filter, lag\n",
      "\n",
      "The following objects are masked from 'package:base':\n",
      "\n",
      "    intersect, setdiff, setequal, union\n",
      "\n",
      "Loading required package: tidyr\n",
      "Warning message:\n",
      "\"package 'tidyr' was built under R version 3.6.2\""
     ]
    }
   ],
   "source": [
    "# download and load wooldridge, dplyr, and tidyr\n",
    "if(!require(wooldridge)) suppressWarnings(install.packages('wooldridge'))\n",
    "if(!require(dplyr)) suppressWarnings(install.packages('dplyr'))\n",
    "if(!require(tidyr)) suppressWarnings(install.packages('tidyr'))\n",
    "suppressWarnings(library(wooldridge))\n",
    "suppressWarnings(library(dplyr))\n",
    "suppressWarnings(library(tidyr))\n"
   ]
  },
  {
   "cell_type": "markdown",
   "metadata": {},
   "source": [
    "**Comments:**\n",
    "\n",
    "1. Note that there are still warnings in the outcome of your code. That is because for the statement ```if(!require(wooldridge))```, R runs the ```require(wooldridge)``` function before ```suppressWarnings```. By changing the order in which you execute the ```suppressWarnings``` you can successfully avoid the warnings (see code below) \n",
    "2. Take a look to the suggested answer to see good practices to load many packages at the same time "
   ]
  },
  {
   "cell_type": "code",
   "execution_count": 1,
   "metadata": {},
   "outputs": [
    {
     "name": "stderr",
     "output_type": "stream",
     "text": [
      "Loading required package: wooldridge\n",
      "Loading required package: dplyr\n",
      "\n",
      "Attaching package: 'dplyr'\n",
      "\n",
      "The following objects are masked from 'package:stats':\n",
      "\n",
      "    filter, lag\n",
      "\n",
      "The following objects are masked from 'package:base':\n",
      "\n",
      "    intersect, setdiff, setequal, union\n",
      "\n",
      "Loading required package: tidyr\n"
     ]
    }
   ],
   "source": [
    "# download and load wooldridge, dplyr, and tidyr\n",
    "suppressWarnings(if(!require(wooldridge)) install.packages('wooldridge'))\n",
    "suppressWarnings(if(!require(dplyr)) install.packages('dplyr'))\n",
    "suppressWarnings(if(!require(tidyr)) install.packages('tidyr'))\n",
    "suppressWarnings(library(wooldridge))\n",
    "suppressWarnings(library(dplyr))\n",
    "suppressWarnings(library(tidyr))"
   ]
  },
  {
   "cell_type": "markdown",
   "metadata": {},
   "source": [
    "2. Use the following data set in the ```wooldridge``` package\n",
    "\n",
    "```\n",
    "LOWBRTH.DES\n",
    "\n",
    "year      lowbrth   infmort   afdcprt   popul     pcinc     physic    afdcprc  \n",
    "d90       lpcinc    cafdcprc  clpcinc   lphysic   clphysic  clowbrth  \n",
    "cinfmort  afdcpay   afdcinc   lafdcpay  clafdcpy  cafdcinc  stateabb  state     beds     \n",
    "bedspc    lbedspc   clbedspc  povrate   cpovrate  afdcpsq   cafdcpsq  \n",
    "physicpc  lphypc    clphypc   lpopul    clpopul   \n",
    "\n",
    "  Obs:   100\n",
    "\n",
    "  1. year                     1987 or 1990\n",
    "  2. lowbrth                  perc. births low weight\n",
    "  3. infmort                  infant mortality rate\n",
    "  4. afdcprt                  # participants in AFDC, 1000s\n",
    "  5. popul                    population, 1000s\n",
    "  6. pcinc                    per capita income, $\n",
    "  7. physic                   Drs. per 100,000 population\n",
    "  8. afdcprc                  percent of pop on AFDC\n",
    "  9. d90                      =1 if year == 1990\n",
    " 10. lpcinc                   log of pcinc\n",
    " 11. cafdcprc                 change in afdcprc\n",
    " 12. clpcinc                  change in lpcinc\n",
    " 13. lphysic                  log of physic\n",
    " 14. clphysic                 change in lphysic\n",
    " 15. clowbrth                 change in lowbrth\n",
    " 16. cinfmort                 change in infmort\n",
    " 17. afdcpay                  avg monthly AFDC payment\n",
    " 18. afdcinc                  afdcpay as % pcinc\n",
    " 19. lafdcpay                 log of afdcpay\n",
    " 20. clafdcpy                 change in lafdcpay\n",
    " 21. cafdcinc                 change in afdcinc\n",
    " 22. stateabb                 state postal code\n",
    " 23. state                    name of state\n",
    " 24. beds                     # hospital beds, 1000s\n",
    " 25. bedspc                   beds per capita\n",
    " 26. lbedspc                  log(bedspc)\n",
    " 27. clbedspc                 change in lbedspc\n",
    " 28. povrate                  % people below poverty line\n",
    " 29. cpovrate                 change in povrate\n",
    " 30. afdcpsq                  afdcper^2\n",
    " 31. cafdcpsq                 change in afdcpsq\n",
    " 32. physicpc                 physicians per capita\n",
    " 33. lphypc                   log(physicpc)\n",
    " 34. clphypc                  change in lphypc\n",
    " 35. lpopul                   log(popul)\n",
    " 36. clpopul                  change in lpopul\n",
    "```\n",
    "\n",
    "Create a set of dummies for each of the 50 states of the union listed in ```stateabb```. **Hint:** Read this post https://stackoverflow.com/questions/49276914/mutating-dummy-variables-in-dplyr?rq=1"
   ]
  },
  {
   "cell_type": "code",
   "execution_count": null,
   "metadata": {},
   "outputs": [],
   "source": [
    "# load lowbrth.des dataset and sjmisc package\n",
    "data(lowbrth, package='wooldridge')\n",
    "                 \n",
    "# create set of dummies for each 50 states of union\n",
    "lowbrth <- lowbrth %>% mutate(var = 1) %>% spread(stateabb, var, fill = 0, sep = \"_\") %>% left_join(lowbrth) %>% select(state, stateabb, everything())\n",
    "\n",
    "# display first six rows of data\n",
    "head(lowbrth)"
   ]
  },
  {
   "cell_type": "markdown",
   "metadata": {},
   "source": [
    "3. Use the following data set in the ```wooldridge``` package\n",
    "\n",
    "```\n",
    "MROZ.DES\n",
    "\n",
    "inlf      hours     kidslt6   kidsge6   age       educ      wage      repwage  \n",
    "hushrs    husage    huseduc   huswage   faminc    mtr       motheduc  \n",
    "fatheduc  unem      city      exper     nwifeinc  lwage     expersq   \n",
    "\n",
    "  Obs:   753\n",
    "\n",
    "  1. inlf                     =1 if in labor force, 1975\n",
    "  2. hours                    hours worked, 1975\n",
    "  3. kidslt6                  # kids < 6 years\n",
    "  4. kidsge6                  # kids 6-18\n",
    "  5. age                      woman's age in yrs\n",
    "  6. educ                     years of schooling\n",
    "  7. wage                     estimated wage from earns., hours\n",
    "  8. repwage                  reported wage at interview in 1976\n",
    "  9. hushrs                   hours worked by husband, 1975\n",
    " 10. husage                   husband's age\n",
    " 11. huseduc                  husband's years of schooling\n",
    " 12. huswage                  husband's hourly wage, 1975\n",
    " 13. faminc                   family income, 1975\n",
    " 14. mtr                      fed. marginal tax rate facing woman\n",
    " 15. motheduc                 mother's years of schooling\n",
    " 16. fatheduc                 father's years of schooling\n",
    " 17. unem                     unem. rate in county of resid.\n",
    " 18. city                     =1 if live in SMSA\n",
    " 19. exper                    actual labor mkt exper\n",
    " 20. nwifeinc                 (faminc - wage*hours)/1000\n",
    " 21. lwage                    log(wage)\n",
    " 22. expersq                  exper^2\n",
    "```\n",
    "\n",
    "Proceed to _impute_ the median value of ```lwage``` for the missing values. **Hint:** Read this post https://towardsdatascience.com/data-cleaning-with-r-and-the-tidyverse-detecting-missing-values-ea23c519bc62\n"
   ]
  },
  {
   "cell_type": "code",
   "execution_count": null,
   "metadata": {},
   "outputs": [],
   "source": [
    "# import dataset\n",
    "data(mroz, package = \"wooldridge\")\n",
    "\n",
    "# impute median values of lwage for missing values\n",
    "mroz_generalmed <- mroz %>% mutate(lwage = replace(lwage, is.na(lwage), median(lwage, na.rm = TRUE)))\n"
   ]
  },
  {
   "cell_type": "markdown",
   "metadata": {},
   "source": [
    "You are told that a better _imputation technique_ would be to impute the average ```lwage``` depending on the variables ```kidslt6``` and ```kidsge6```. For example, individual 429 in the sample is not working for wages, so there is a ```NA``` as her value for ```lwage```. However, this woman reports ```kidslt6=0``` and ```kidsge6=1```. Among the first 428 individuals in the sample there are 91 women with no kids below the age of 6 and just one child age 6 or above. The average ```lwage``` among these 91 women is 1.27520132007507. Therefore you proceed to impute 1.27520132007507 as the value for the missing ```lwage``` for individual 429. Do the same for _all_ the other individuals with ```NA``` as the values for ```lwage```. Print the sample average of the resulting 753 values in ```lwage```. **Note:** If the combination of ```kidslt6``` and ```kidsge6``` among the individuals with missing ```lwage``` does not exist among the 428 complete cases, simply impute the sample average among the 428 complete cases."
   ]
  },
  {
   "cell_type": "code",
   "execution_count": 2,
   "metadata": {},
   "outputs": [
    {
     "data": {
      "text/html": [
       "1.19099549836671"
      ],
      "text/latex": [
       "1.19099549836671"
      ],
      "text/markdown": [
       "1.19099549836671"
      ],
      "text/plain": [
       "[1] 1.190995"
      ]
     },
     "metadata": {},
     "output_type": "display_data"
    }
   ],
   "source": [
    "# number of columns for mean vector based on number of combinations of kidslt6 and kidsge6 values\n",
    "combinations <- (range(mroz$kidslt6)[2] + 1) * (range(mroz$kidsge6)[2] + 1)\n",
    "\n",
    "# store mean in a vector\n",
    "avg_vector <- data.frame(kidslt6 = rep(NA, combinations), kidsge6 = rep(NA, combinations),\n",
    "                            lwage_avg = rep(NA, combinations))\n",
    "\n",
    "# get the average for the lwage of completed cases\n",
    "complete_avg <- mean((mroz %>% filter(!is.na(lwage)))$lwage)\n",
    "\n",
    "\n",
    "# identify row to fill using a counter\n",
    "counter = 1\n",
    "\n",
    "# collect different means using for loops\n",
    "for(i in range(mroz$kidsge6)[1]:range(mroz$kidsge6)[2]) {\n",
    "    for(j in range(mroz$kidsge6)[1]:range(mroz$kidslt6)[2]) {\n",
    "        # put current kidage combo in avg_vector\n",
    "        avg_vector$kidsge6[counter] <- i\n",
    "        avg_vector$kidslt6[counter] <- j\n",
    "        \n",
    "        # add to counter\n",
    "        counter = counter + 1\n",
    "    }\n",
    "}\n",
    "\n",
    "# filter dataset with combinations and calculate mean of lwage\n",
    "for(i in 1:nrow(avg_vector)) {\n",
    "    dt <- mroz %>% filter(kidslt6 == avg_vector$kidslt6[i], kidsge6 == avg_vector$kidsge6[i])\n",
    "    avg_vector$lwage_avg[i] <- mean(dt$lwage, na.rm = TRUE)\n",
    "}\n",
    "\n",
    "# add lwage_avg data to the values of mroz$lwage that are NA\n",
    "for(i in 1:nrow(mroz)) {\n",
    "    # only affect columns where lwage is NA\n",
    "    if(is.na(mroz$lwage[i])) {\n",
    "        # replace NA with calculated average lwage from median vector\n",
    "        mroz$lwage[i] <- (avg_vector %>% filter(kidslt6==mroz$kidslt6[i], kidsge6==mroz$kidsge6[i]))$lwage_avg\n",
    "    }\n",
    "    if(is.na(avg_vector$lwage_avg[i])) {\n",
    "        mroz$lwage[i] <- complete_avg\n",
    "    }\n",
    "}\n",
    "\n",
    "# give sample average\n",
    "mean(mroz$lwage)"
   ]
  },
  {
   "cell_type": "markdown",
   "metadata": {},
   "source": [
    "**Comments:**\n",
    "\n",
    "The algorithm you created does not produce the correct sample average of the resulting 753 values in ```lwage```. It is a good practice to try to avoid loops by using vectorized functions. In this case, the functions ```group_by```, ```mutate``` and ```ungroup``` from dplyr are enough to solve this problem. See suggested solution for details in the implementation. "
   ]
  }
 ],
 "metadata": {
  "kernelspec": {
   "display_name": "R",
   "language": "R",
   "name": "ir"
  },
  "language_info": {
   "codemirror_mode": "r",
   "file_extension": ".r",
   "mimetype": "text/x-r-source",
   "name": "R",
   "pygments_lexer": "r",
   "version": "3.6.1"
  },
  "latex_envs": {
   "LaTeX_envs_menu_present": true,
   "autoclose": false,
   "autocomplete": true,
   "bibliofile": "biblio.bib",
   "cite_by": "apalike",
   "current_citInitial": 1,
   "eqLabelWithNumbers": true,
   "eqNumInitial": 1,
   "hotkeys": {
    "equation": "Ctrl-E",
    "itemize": "Ctrl-I"
   },
   "labels_anchors": false,
   "latex_user_defs": false,
   "report_style_numbering": false,
   "user_envs_cfg": false
  }
 },
 "nbformat": 4,
 "nbformat_minor": 2
}
