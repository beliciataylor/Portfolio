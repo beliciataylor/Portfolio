{
 "cells": [
  {
   "cell_type": "markdown",
   "metadata": {},
   "source": [
    "# Regressions with Qualitative Information\n",
    "_Assignment 4 from Econometrics_\n",
    "\n",
    "Date: 2019-11-18"
   ]
  },
  {
   "cell_type": "code",
   "execution_count": 4,
   "metadata": {},
   "outputs": [],
   "source": [
    "defaultW <- getOption(\"warn\")\n",
    "options(warn = -1)\n",
    "\n",
    "library(wooldridge)\n",
    "library(tidyverse)\n",
    "library(stargazer)\n",
    "library(data.table)\n",
    "library(car)\n",
    "library(knitr)"
   ]
  },
  {
   "cell_type": "markdown",
   "metadata": {},
   "source": [
    "# Regressions with Qualitative Information \n",
    "\n",
    "(1) Using the data wage2 from the wooldridge package, estimate the models: m1, m2, m3, m4 \n",
    "\n",
    "Model 1 $$log(wage) = \\beta_0 + \\beta_1 educ + \\beta_2 exper + \\beta_3tenure + \\beta_4 married + u $$\n",
    "Model 2  $$log(wage) = \\beta_0 + \\beta_1 educ + \\beta_2 exper + \\beta_3tenure + \\beta_4 married + \\beta_5 black + u $$\n",
    "Model 3  $$log(wage) = \\beta_0 + \\beta_1 educ + \\beta_2 exper + \\beta_3tenure + \\beta_4 married + \\beta_5 black + \\beta_6 south + u $$\n",
    "Model 4  $$log(wage) = \\beta_0 + \\beta_1 educ + \\beta_2 exper + \\beta_3tenure + \\beta_4 married + \\beta_5 black + \\beta_6 south + \\beta_7 urban + u$$ \n",
    "\n",
    "(2) Report the results using a stargazer table.\n",
    "  * Holding other factors fixed what is the approximate difference in monthly salary between blacks and non blacks, married vs single, urban vs rural?\n",
    "  * Are these statistically significant?\n",
    "\n",
    "I used model 4 coefficient to interpret the differences in monthly salary.\n",
    "\n",
    "Blacks and nonblacks: Holding other factors fixed, the log wage of a black person is 0.188 less than the log wage of a nonblack person.\n",
    "\n",
    "Married vs single: Holding other factors fixed, the log wage of a married person is 0.199 more than the log wage of a single person.\n",
    "\n",
    "Urban vs rural: Holding other factors fixed, the log wage of an urban worker is 0.184 more than the log wage of a rural worker.\n",
    "\n",
    "All of the coefficients are statistically significant because their t-statistic is higher than the critical value at a significance level of 1%, and this has been calculated in the stargazer table, where all of the coefficients have three stars next to their values."
   ]
  },
  {
   "cell_type": "code",
   "execution_count": 5,
   "metadata": {},
   "outputs": [
    {
     "name": "stdout",
     "output_type": "stream",
     "text": [
      "\n",
      "===================================================================================================================\n",
      "                                                          Dependent variable:                                      \n",
      "                    -----------------------------------------------------------------------------------------------\n",
      "                                                              Log(Salary)                                          \n",
      "                            Model 1                 Model 2                 Model 3                 Model 4        \n",
      "                              (1)                     (2)                     (3)                     (4)          \n",
      "-------------------------------------------------------------------------------------------------------------------\n",
      "Education                  0.075***                0.070***                0.068***                0.065***        \n",
      "                            (0.006)                 (0.006)                 (0.006)                 (0.006)        \n",
      "                                                                                                                   \n",
      "Experience                 0.014***                0.014***                0.014***                0.014***        \n",
      "                            (0.003)                 (0.003)                 (0.003)                 (0.003)        \n",
      "                                                                                                                   \n",
      "Tenure                     0.013***                0.012***                0.011***                0.012***        \n",
      "                            (0.003)                 (0.003)                 (0.003)                 (0.002)        \n",
      "                                                                                                                   \n",
      "Married                    0.199***                0.187***                0.193***                0.199***        \n",
      "                            (0.041)                 (0.040)                 (0.040)                 (0.039)        \n",
      "                                                                                                                   \n",
      "Black                                              -0.197***               -0.161***               -0.188***       \n",
      "                                                    (0.038)                 (0.038)                 (0.038)        \n",
      "                                                                                                                   \n",
      "South                                                                      -0.114***               -0.091***       \n",
      "                                                                            (0.027)                 (0.026)        \n",
      "                                                                                                                   \n",
      "Urban                                                                                              0.184***        \n",
      "                                                                                                    (0.027)        \n",
      "                                                                                                                   \n",
      "Constant                   5.331***                5.451***                5.505***                5.395***        \n",
      "                            (0.114)                 (0.115)                 (0.115)                 (0.113)        \n",
      "                                                                                                                   \n",
      "-------------------------------------------------------------------------------------------------------------------\n",
      "Observations                  935                     935                     935                     935          \n",
      "R2                           0.176                   0.200                   0.215                   0.253         \n",
      "Adjusted R2                  0.173                   0.195                   0.210                   0.247         \n",
      "Residual Std. Error    0.383 (df = 930)        0.378 (df = 929)        0.374 (df = 928)        0.365 (df = 927)    \n",
      "F Statistic         49.729*** (df = 4; 930) 46.354*** (df = 5; 929) 42.369*** (df = 6; 928) 44.747*** (df = 7; 927)\n",
      "===================================================================================================================\n",
      "Note:                                                                                   *p<0.1; **p<0.05; ***p<0.01\n"
     ]
    }
   ],
   "source": [
    "# load data\n",
    "data(\"wage2\", wooldridge)\n",
    "\n",
    "# models\n",
    "model1 <- lm(lwage ~ educ + exper + tenure + married, wage2)\n",
    "model2 <- lm(lwage ~ educ + exper + tenure + married + black, wage2)\n",
    "model3 <- lm(lwage ~ educ + exper + tenure + married + black + south, wage2)\n",
    "model4 <- lm(lwage ~ educ + exper + tenure + married + black + south + urban, wage2)\n",
    "\n",
    "# stargazer table\n",
    "stargazer(\n",
    "    model1, model2, model3, model4, \n",
    "    type = \"text\", \n",
    "    column.labels = c(\"Model 1\", \"Model 2\", \"Model 3\", \"Model 4\"), \n",
    "    dep.var.labels = \"Log(Salary)\", \n",
    "    covariate.labels = c(\"Education\", \"Experience\", \"Tenure\", \"Married\", \"Black\", \"South\", \"Urban\")\n",
    ")"
   ]
  },
  {
   "cell_type": "markdown",
   "metadata": {},
   "source": [
    "(2) Using model 4 add the variables $exper^2$ and $tenure^2$ to the equation and show that they are jointly significant at 20% level\n",
    "\n",
    "The variables are jointly significant at 20% level because the F-statistic is 0.226, which is greater than the critical value 0.2."
   ]
  },
  {
   "cell_type": "code",
   "execution_count": 11,
   "metadata": {},
   "outputs": [
    {
     "data": {
      "text/html": [
       "<table>\n",
       "<caption>A anova: 2 × 6</caption>\n",
       "<thead>\n",
       "\t<tr><th></th><th scope=col>Res.Df</th><th scope=col>RSS</th><th scope=col>Df</th><th scope=col>Sum of Sq</th><th scope=col>F</th><th scope=col>Pr(&gt;F)</th></tr>\n",
       "\t<tr><th></th><th scope=col>&lt;dbl&gt;</th><th scope=col>&lt;dbl&gt;</th><th scope=col>&lt;dbl&gt;</th><th scope=col>&lt;dbl&gt;</th><th scope=col>&lt;dbl&gt;</th><th scope=col>&lt;dbl&gt;</th></tr>\n",
       "</thead>\n",
       "<tbody>\n",
       "\t<tr><th scope=row>1</th><td>927</td><td>123.8185</td><td>NA</td><td>       NA</td><td>      NA</td><td>       NA</td></tr>\n",
       "\t<tr><th scope=row>2</th><td>925</td><td>123.4210</td><td> 2</td><td>0.3975639</td><td>1.489806</td><td>0.2259567</td></tr>\n",
       "</tbody>\n",
       "</table>\n"
      ],
      "text/latex": [
       "A anova: 2 × 6\n",
       "\\begin{tabular}{r|llllll}\n",
       "  & Res.Df & RSS & Df & Sum of Sq & F & Pr(>F)\\\\\n",
       "  & <dbl> & <dbl> & <dbl> & <dbl> & <dbl> & <dbl>\\\\\n",
       "\\hline\n",
       "\t1 & 927 & 123.8185 & NA &        NA &       NA &        NA\\\\\n",
       "\t2 & 925 & 123.4210 &  2 & 0.3975639 & 1.489806 & 0.2259567\\\\\n",
       "\\end{tabular}\n"
      ],
      "text/markdown": [
       "\n",
       "A anova: 2 × 6\n",
       "\n",
       "| <!--/--> | Res.Df &lt;dbl&gt; | RSS &lt;dbl&gt; | Df &lt;dbl&gt; | Sum of Sq &lt;dbl&gt; | F &lt;dbl&gt; | Pr(&gt;F) &lt;dbl&gt; |\n",
       "|---|---|---|---|---|---|---|\n",
       "| 1 | 927 | 123.8185 | NA |        NA |       NA |        NA |\n",
       "| 2 | 925 | 123.4210 |  2 | 0.3975639 | 1.489806 | 0.2259567 |\n",
       "\n"
      ],
      "text/plain": [
       "  Res.Df RSS      Df Sum of Sq F        Pr(>F)   \n",
       "1 927    123.8185 NA        NA       NA        NA\n",
       "2 925    123.4210  2 0.3975639 1.489806 0.2259567"
      ]
     },
     "metadata": {},
     "output_type": "display_data"
    }
   ],
   "source": [
    "model4_2 <- lm(\n",
    "    lwage ~ educ + exper + I(exper^2) + tenure + I(tenure^2) + married + black + south + urban, wage2\n",
    ")\n",
    "linearHypothesis(model4_2, c(\"I(exper^2)\", \"I(tenure^2)\")) # not showing full output"
   ]
  },
  {
   "cell_type": "markdown",
   "metadata": {},
   "source": [
    "(3) Using model 4 add dummy variable for age groups less that or equal to 30, between 30 to 35, older than 35. Do a frequency table using `kable()` showing the distribution of each group.  Make older than 35 the reference group, run a regression, what can you say about the effect of age group on the wages? Put the results in a stargarzer table.\n",
    "\n",
    "First, interpreting the coefficients, we see that holding other factors constant, the log wage of a worker younger than 30 will decrease by 0.080 in reference to a worker older than 35. Also, holding other factors constant, the log wage of a worker between 30 and 35 will decrease by 0.039 in reference to a worker older than 35. Both the coefficients are negative, which means a worker older than 35 is gainig more log wage. Also, the coefficient for a worker younger than 35 is smaller than the coefficient of a worker between 30 and 35. Therefore, the effect of age group on wages shows that as a worker gets older, the worker's log wage will increase. "
   ]
  },
  {
   "cell_type": "code",
   "execution_count": 7,
   "metadata": {},
   "outputs": [
    {
     "data": {
      "text/plain": [
       "\n",
       "\n",
       "|Age group | Freq|\n",
       "|:---------|----:|\n",
       "|(0,30]    |  251|\n",
       "|(30,35]   |  408|\n",
       "|(35,38]   |  276|"
      ]
     },
     "metadata": {},
     "output_type": "display_data"
    },
    {
     "name": "stdout",
     "output_type": "stream",
     "text": [
      "\n",
      "===============================================\n",
      "                        Dependent variable:    \n",
      "                    ---------------------------\n",
      "                             log(wage)         \n",
      "-----------------------------------------------\n",
      "Education                    0.062***          \n",
      "                              (0.006)          \n",
      "                                               \n",
      "Experience                   0.010***          \n",
      "                              (0.004)          \n",
      "                                               \n",
      "Tenure                       0.011***          \n",
      "                              (0.002)          \n",
      "                                               \n",
      "Married                      0.195***          \n",
      "                              (0.039)          \n",
      "                                               \n",
      "Black                        -0.188***         \n",
      "                              (0.038)          \n",
      "                                               \n",
      "South                        -0.092***         \n",
      "                              (0.026)          \n",
      "                                               \n",
      "Urban                        0.183***          \n",
      "                              (0.027)          \n",
      "                                               \n",
      "Younger than 30              -0.080**          \n",
      "                              (0.037)          \n",
      "                                               \n",
      "Between 30-35                 -0.039           \n",
      "                              (0.030)          \n",
      "                                               \n",
      "Constant                     5.533***          \n",
      "                              (0.130)          \n",
      "                                               \n",
      "-----------------------------------------------\n",
      "Observations                    935            \n",
      "R2                             0.256           \n",
      "Adjusted R2                    0.249           \n",
      "Residual Std. Error      0.365 (df = 925)      \n",
      "F Statistic           35.420*** (df = 9; 925)  \n",
      "===============================================\n",
      "Note:               *p<0.1; **p<0.05; ***p<0.01\n"
     ]
    }
   ],
   "source": [
    "# create dummy variables\n",
    "wage2$age_dummy <- cut(wage2$age, c(0,30,35,38))\n",
    "\n",
    "# frequency table using knit\n",
    "table(wage2$age_dummy) %>% kable(col.names=c(\"Age group\", \"Freq\"))\n",
    "\n",
    "# relevel factor variable with \"order than 35\" the reference group\n",
    "wage2$age_dummy <- relevel(wage2$age_dummy, \"(35,38]\")\n",
    "\n",
    "# model with dummy variable\n",
    "model_dummy <- lm(lwage ~ educ + exper + tenure + married + black + south + urban + age_dummy, wage2)\n",
    "\n",
    "# stargazer table\n",
    "stargazer(\n",
    "    model_dummy, \n",
    "    type=\"text\", \n",
    "    covariate.labels = c(\n",
    "        \"Education\", \"Experience\", \"Tenure\", \"Married\", \"Black\", \n",
    "        \"South\", \"Urban\", \"Younger than 30\", \"Between 30-35\"), \n",
    "    dep.var.labels = \"log(wage)\"\n",
    ")"
   ]
  },
  {
   "cell_type": "markdown",
   "metadata": {},
   "source": [
    "(4) Use model 4 but now allow wages to differ accross four groups of people, married and black, married and nonblack, single and black and single and non black. Put the results in a stargarzer table. (Hint: Think about how interactions work, what are all the categories in the interaction and what is the base category.) Do not create the interaction separate. Do it inside the `lm()` directly as learned in class. Interpret your results\n",
    "\n",
    "Holding other factors constant, the log salary of a married-nonblack person will increase by 0.189 in reference to a single-nonblack person.\n",
    "\n",
    "Holding other factors constant, the log salary of a single-black person will decrease by 0.241 in reference to a single-nonblack person.\n",
    "\n",
    "Holding other factors constant, the log salary of a married-black person will increase by 0.061 in reference to a single-nonblack person.\n",
    "\n",
    "Therefore, a married-black individual gains more than a nonblack-single individual, but a married-black individual does not earn more than a married-nonblack individual. This is because both coefficients are positive, but a married-black coefficient is still less than the married-nonblack coefficient. The single-black coefficient is negative, meaning a single-black person earns less log wage than a single-nonblack individual."
   ]
  },
  {
   "cell_type": "code",
   "execution_count": 8,
   "metadata": {},
   "outputs": [
    {
     "name": "stdout",
     "output_type": "stream",
     "text": [
      "\n",
      "===============================================\n",
      "                        Dependent variable:    \n",
      "                    ---------------------------\n",
      "                            Log(Salary)        \n",
      "-----------------------------------------------\n",
      "Education                    0.065***          \n",
      "                              (0.006)          \n",
      "                                               \n",
      "Experience                   0.014***          \n",
      "                              (0.003)          \n",
      "                                               \n",
      "Tenure                       0.012***          \n",
      "                              (0.002)          \n",
      "                                               \n",
      "Married-Non Black            0.189***          \n",
      "                              (0.043)          \n",
      "                                               \n",
      "Single-Black                 -0.241**          \n",
      "                              (0.096)          \n",
      "                                               \n",
      "Married-Black                  0.061           \n",
      "                              (0.103)          \n",
      "                                               \n",
      "South                        -0.092***         \n",
      "                              (0.026)          \n",
      "                                               \n",
      "Urban                        0.184***          \n",
      "                              (0.027)          \n",
      "                                               \n",
      "Constant                     5.404***          \n",
      "                              (0.114)          \n",
      "                                               \n",
      "-----------------------------------------------\n",
      "Observations                    935            \n",
      "R2                             0.253           \n",
      "Adjusted R2                    0.246           \n",
      "Residual Std. Error      0.366 (df = 926)      \n",
      "F Statistic           39.170*** (df = 8; 926)  \n",
      "===============================================\n",
      "Note:               *p<0.1; **p<0.05; ***p<0.01\n"
     ]
    }
   ],
   "source": [
    "# model with interaction\n",
    "model4 <- lm(lwage ~ educ + exper + tenure + married*black + south + urban, wage2)\n",
    "\n",
    "# stargazer table\n",
    "stargazer(\n",
    "    model4, \n",
    "    type=\"text\", \n",
    "    covariate.labels = c(\"Education\", \"Experience\", \"Tenure\", \"Married-Non Black\", \n",
    "                         \"Single-Black\", \"Married-Black\", \"South\", \"Urban\"), \n",
    "    dep.var.labels = c(\"Log(Salary)\"), \n",
    "    order=c(1,2,3,4,5,8,6,7,9)\n",
    ")"
   ]
  },
  {
   "cell_type": "code",
   "execution_count": null,
   "metadata": {},
   "outputs": [],
   "source": []
  }
 ],
 "metadata": {
  "kernelspec": {
   "display_name": "R",
   "language": "R",
   "name": "ir"
  },
  "language_info": {
   "codemirror_mode": "r",
   "file_extension": ".r",
   "mimetype": "text/x-r-source",
   "name": "R",
   "pygments_lexer": "r",
   "version": "4.0.2"
  },
  "latex_envs": {
   "LaTeX_envs_menu_present": true,
   "autoclose": false,
   "autocomplete": true,
   "bibliofile": "biblio.bib",
   "cite_by": "apalike",
   "current_citInitial": 1,
   "eqLabelWithNumbers": true,
   "eqNumInitial": 1,
   "hotkeys": {
    "equation": "Ctrl-E",
    "itemize": "Ctrl-I"
   },
   "labels_anchors": false,
   "latex_user_defs": false,
   "report_style_numbering": false,
   "user_envs_cfg": false
  }
 },
 "nbformat": 4,
 "nbformat_minor": 4
}
