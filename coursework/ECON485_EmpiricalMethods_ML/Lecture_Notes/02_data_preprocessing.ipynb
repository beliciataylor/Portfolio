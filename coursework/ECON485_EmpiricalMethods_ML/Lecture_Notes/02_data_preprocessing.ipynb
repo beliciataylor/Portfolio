{
 "nbformat": 4,
 "nbformat_minor": 2,
 "metadata": {
  "language_info": {
   "name": "python",
   "codemirror_mode": {
    "name": "ipython",
    "version": 3
   },
   "version": "3.7.4-final"
  },
  "orig_nbformat": 2,
  "file_extension": ".py",
  "mimetype": "text/x-python",
  "name": "python",
  "npconvert_exporter": "python",
  "pygments_lexer": "ipython3",
  "version": 3,
  "kernelspec": {
   "name": "python3",
   "display_name": "Python 3"
  }
 },
 "cells": [
  {
   "cell_type": "markdown",
   "metadata": {},
   "source": [
    "# Data Pre-Processing\n",
    "### dealing with missing data\n",
    "when dealing with missing data, you are either taught to do one of the following:\n",
    "\n",
    "(1) erase corresponding rows with missing cells\n",
    "\n",
    "(2) impute (or fill) sample average of each column into missing cells\n",
    "\n",
    "* second option has stronger assumptions than the first, so for bigger datasets especially, the first option is harmless\n"
   ]
  },
  {
   "cell_type": "code",
   "execution_count": 83,
   "metadata": {},
   "outputs": [
    {
     "data": {
      "text/html": "<div>\n<style scoped>\n    .dataframe tbody tr th:only-of-type {\n        vertical-align: middle;\n    }\n\n    .dataframe tbody tr th {\n        vertical-align: top;\n    }\n\n    .dataframe thead th {\n        text-align: right;\n    }\n</style>\n<table border=\"1\" class=\"dataframe\">\n  <thead>\n    <tr style=\"text-align: right;\">\n      <th></th>\n      <th>year</th>\n      <th>age</th>\n      <th>agesq</th>\n      <th>nbh</th>\n      <th>cbd</th>\n      <th>inst</th>\n      <th>linst</th>\n      <th>price</th>\n      <th>rooms</th>\n      <th>area</th>\n      <th>land</th>\n      <th>baths</th>\n      <th>dist</th>\n      <th>ldist</th>\n      <th>lprice</th>\n      <th>y81</th>\n      <th>larea</th>\n      <th>lland</th>\n      <th>linstsq</th>\n    </tr>\n  </thead>\n  <tbody>\n    <tr>\n      <td>0</td>\n      <td>1978.0</td>\n      <td>48.0</td>\n      <td>2304.0</td>\n      <td>4.0</td>\n      <td>3000.0</td>\n      <td>1000.0</td>\n      <td>6.9078</td>\n      <td>60000.0</td>\n      <td>7.0</td>\n      <td>1660.0</td>\n      <td>4578.0</td>\n      <td>1.0</td>\n      <td>10700.0</td>\n      <td>9.277999</td>\n      <td>11.00210</td>\n      <td>0.0</td>\n      <td>7.414573</td>\n      <td>8.429017</td>\n      <td>47.717701</td>\n    </tr>\n    <tr>\n      <td>1</td>\n      <td>1978.0</td>\n      <td>83.0</td>\n      <td>6889.0</td>\n      <td>4.0</td>\n      <td>4000.0</td>\n      <td>1000.0</td>\n      <td>6.9078</td>\n      <td>40000.0</td>\n      <td>6.0</td>\n      <td>2612.0</td>\n      <td>8370.0</td>\n      <td>2.0</td>\n      <td>11000.0</td>\n      <td>9.305651</td>\n      <td>10.59663</td>\n      <td>0.0</td>\n      <td>7.867871</td>\n      <td>9.032409</td>\n      <td>47.717701</td>\n    </tr>\n    <tr>\n      <td>2</td>\n      <td>1978.0</td>\n      <td>58.0</td>\n      <td>3364.0</td>\n      <td>4.0</td>\n      <td>4000.0</td>\n      <td>1000.0</td>\n      <td>6.9078</td>\n      <td>34000.0</td>\n      <td>6.0</td>\n      <td>1144.0</td>\n      <td>5000.0</td>\n      <td>1.0</td>\n      <td>11500.0</td>\n      <td>9.350102</td>\n      <td>10.43412</td>\n      <td>0.0</td>\n      <td>7.042286</td>\n      <td>8.517193</td>\n      <td>47.717701</td>\n    </tr>\n    <tr>\n      <td>3</td>\n      <td>1978.0</td>\n      <td>11.0</td>\n      <td>121.0</td>\n      <td>4.0</td>\n      <td>4000.0</td>\n      <td>1000.0</td>\n      <td>6.9078</td>\n      <td>63900.0</td>\n      <td>5.0</td>\n      <td>1136.0</td>\n      <td>10000.0</td>\n      <td>1.0</td>\n      <td>11900.0</td>\n      <td>9.384294</td>\n      <td>11.06507</td>\n      <td>0.0</td>\n      <td>7.035269</td>\n      <td>9.210340</td>\n      <td>47.717701</td>\n    </tr>\n    <tr>\n      <td>4</td>\n      <td>1978.0</td>\n      <td>48.0</td>\n      <td>2304.0</td>\n      <td>4.0</td>\n      <td>4000.0</td>\n      <td>2000.0</td>\n      <td>7.6009</td>\n      <td>44000.0</td>\n      <td>5.0</td>\n      <td>1868.0</td>\n      <td>10000.0</td>\n      <td>1.0</td>\n      <td>12100.0</td>\n      <td>9.400961</td>\n      <td>10.69195</td>\n      <td>0.0</td>\n      <td>7.532624</td>\n      <td>9.210340</td>\n      <td>57.773682</td>\n    </tr>\n  </tbody>\n</table>\n</div>",
      "text/plain": "     year   age   agesq  nbh     cbd    inst   linst    price  rooms    area  \\\n0  1978.0  48.0  2304.0  4.0  3000.0  1000.0  6.9078  60000.0    7.0  1660.0   \n1  1978.0  83.0  6889.0  4.0  4000.0  1000.0  6.9078  40000.0    6.0  2612.0   \n2  1978.0  58.0  3364.0  4.0  4000.0  1000.0  6.9078  34000.0    6.0  1144.0   \n3  1978.0  11.0   121.0  4.0  4000.0  1000.0  6.9078  63900.0    5.0  1136.0   \n4  1978.0  48.0  2304.0  4.0  4000.0  2000.0  7.6009  44000.0    5.0  1868.0   \n\n      land  baths     dist     ldist    lprice  y81     larea     lland  \\\n0   4578.0    1.0  10700.0  9.277999  11.00210  0.0  7.414573  8.429017   \n1   8370.0    2.0  11000.0  9.305651  10.59663  0.0  7.867871  9.032409   \n2   5000.0    1.0  11500.0  9.350102  10.43412  0.0  7.042286  8.517193   \n3  10000.0    1.0  11900.0  9.384294  11.06507  0.0  7.035269  9.210340   \n4  10000.0    1.0  12100.0  9.400961  10.69195  0.0  7.532624  9.210340   \n\n     linstsq  \n0  47.717701  \n1  47.717701  \n2  47.717701  \n3  47.717701  \n4  57.773682  "
     },
     "execution_count": 83,
     "metadata": {},
     "output_type": "execute_result"
    }
   ],
   "source": [
    "import pandas as pd\n",
    "import numpy as np\n",
    "import matplotlib.pyplot as plt\n",
    "from pandas.api.types import CategoricalDtype\n",
    "import statsmodels.api as sm\n",
    "from statsmodels.regression.linear_model import OLS\n",
    "from scipy.stats.mstats import zscore\n",
    "import patsy\n",
    "\n",
    "# download dataset to use throughout\n",
    "hprice3 = pd.read_stata('http://fmwww.bc.edu/ec-p/data/wooldridge/hprice3.dta')\n",
    "\n",
    "# view first six observations\n",
    "hprice3.head()"
   ]
  },
  {
   "cell_type": "markdown",
   "metadata": {},
   "source": [
    "* y81(whether year 1981), rooms(number of rooms in house), and nbh(neighborhood 1-6) are categorical variables\n",
    "* y81 - standard categorical variable, rooms - ordered, nbh - unordered\n",
    "* rooms and nbh have multiple categories"
   ]
  },
  {
   "cell_type": "code",
   "execution_count": 43,
   "metadata": {},
   "outputs": [
    {
     "data": {
      "text/plain": "(array([  4.,  30.,   0.,  96.,   0., 169.,  10.,   0.,  11.,   1.]),\n array([ 4. ,  4.6,  5.2,  5.8,  6.4,  7. ,  7.6,  8.2,  8.8,  9.4, 10. ],\n       dtype=float32),\n <a list of 10 Patch objects>)"
     },
     "execution_count": 43,
     "metadata": {},
     "output_type": "execute_result"
    },
    {
     "data": {
      "image/png": "[encoded data removed]",
      "image/svg+xml": "<?xml version=\"1.0\" encoding=\"utf-8\" standalone=\"no\"?>\n<!DOCTYPE svg PUBLIC \"-//W3C//DTD SVG 1.1//EN\"\n  \"http://www.w3.org/Graphics/SVG/1.1/DTD/svg11.dtd\">\n<!-- Created with matplotlib (https://matplotlib.org/) -->\n<svg height=\"248.518125pt\" version=\"1.1\" viewBox=\"0 0 375.2875 248.518125\" width=\"375.2875pt\" xmlns=\"http://www.w3.org/2000/svg\" xmlns:xlink=\"http://www.w3.org/1999/xlink\">\n <defs>\n  <style type=\"text/css\">\n*{stroke-linecap:butt;stroke-linejoin:round;}\n  </style>\n </defs>\n <g id=\"figure_1\">\n  <g id=\"patch_1\">\n   <path d=\"M 0 248.518125 \nL 375.2875 248.518125 \nL 375.2875 0 \nL 0 0 \nz\n\" style=\"fill:none;\"/>\n  </g>\n  <g id=\"axes_1\">\n   <g id=\"patch_2\">\n    <path d=\"M 33.2875 224.64 \nL 368.0875 224.64 \nL 368.0875 7.2 \nL 33.2875 7.2 \nz\n\" style=\"fill:#ffffff;\"/>\n   </g>\n   <g id=\"patch_3\">\n    <path clip-path=\"url(#p13a1b72dae)\" d=\"M 48.505682 224.64 \nL 78.942041 224.64 \nL 78.942041 219.738563 \nL 48.505682 219.738563 \nz\n\" style=\"fill:#1f77b4;\"/>\n   </g>\n   <g id=\"patch_4\">\n    <path clip-path=\"url(#p13a1b72dae)\" d=\"M 78.942016 224.64 \nL 109.378375 224.64 \nL 109.378375 187.879222 \nL 78.942016 187.879222 \nz\n\" style=\"fill:#1f77b4;\"/>\n   </g>\n   <g id=\"patch_5\">\n    <path clip-path=\"url(#p13a1b72dae)\" d=\"M 109.378399 224.64 \nL 139.814782 224.64 \nL 139.814782 224.64 \nL 109.378399 224.64 \nz\n\" style=\"fill:#1f77b4;\"/>\n   </g>\n   <g id=\"patch_6\">\n    <path clip-path=\"url(#p13a1b72dae)\" d=\"M 139.814782 224.64 \nL 170.251141 224.64 \nL 170.251141 107.005511 \nL 139.814782 107.005511 \nz\n\" style=\"fill:#1f77b4;\"/>\n   </g>\n   <g id=\"patch_7\">\n    <path clip-path=\"url(#p13a1b72dae)\" d=\"M 170.251117 224.64 \nL 200.687476 224.64 \nL 200.687476 224.64 \nL 170.251117 224.64 \nz\n\" style=\"fill:#1f77b4;\"/>\n   </g>\n   <g id=\"patch_8\">\n    <path clip-path=\"url(#p13a1b72dae)\" d=\"M 200.6875 224.64 \nL 231.123859 224.64 \nL 231.123859 17.554286 \nL 200.6875 17.554286 \nz\n\" style=\"fill:#1f77b4;\"/>\n   </g>\n   <g id=\"patch_9\">\n    <path clip-path=\"url(#p13a1b72dae)\" d=\"M 231.123835 224.64 \nL 261.560169 224.64 \nL 261.560169 212.386407 \nL 231.123835 212.386407 \nz\n\" style=\"fill:#1f77b4;\"/>\n   </g>\n   <g id=\"patch_10\">\n    <path clip-path=\"url(#p13a1b72dae)\" d=\"M 261.560218 224.64 \nL 291.996601 224.64 \nL 291.996601 224.64 \nL 261.560218 224.64 \nz\n\" style=\"fill:#1f77b4;\"/>\n   </g>\n   <g id=\"patch_11\">\n    <path clip-path=\"url(#p13a1b72dae)\" d=\"M 291.996649 224.64 \nL 322.432984 224.64 \nL 322.432984 211.161048 \nL 291.996649 211.161048 \nz\n\" style=\"fill:#1f77b4;\"/>\n   </g>\n   <g id=\"patch_12\">\n    <path clip-path=\"url(#p13a1b72dae)\" d=\"M 322.432935 224.64 \nL 352.869318 224.64 \nL 352.869318 223.414641 \nL 322.432935 223.414641 \nz\n\" style=\"fill:#1f77b4;\"/>\n   </g>\n   <g id=\"matplotlib.axis_1\">\n    <g id=\"xtick_1\">\n     <g id=\"line2d_1\">\n      <defs>\n       <path d=\"M 0 0 \nL 0 3.5 \n\" id=\"ma807addb8b\" style=\"stroke:#000000;stroke-width:0.8;\"/>\n      </defs>\n      <g>\n       <use style=\"stroke:#000000;stroke-width:0.8;\" x=\"48.505682\" xlink:href=\"#ma807addb8b\" y=\"224.64\"/>\n      </g>\n     </g>\n     <g id=\"text_1\">\n      <!-- 4 -->\n      <defs>\n       <path d=\"M 37.796875 64.3125 \nL 12.890625 25.390625 \nL 37.796875 25.390625 \nz\nM 35.203125 72.90625 \nL 47.609375 72.90625 \nL 47.609375 25.390625 \nL 58.015625 25.390625 \nL 58.015625 17.1875 \nL 47.609375 17.1875 \nL 47.609375 0 \nL 37.796875 0 \nL 37.796875 17.1875 \nL 4.890625 17.1875 \nL 4.890625 26.703125 \nz\n\" id=\"DejaVuSans-52\"/>\n      </defs>\n      <g transform=\"translate(45.324432 239.238437)scale(0.1 -0.1)\">\n       <use xlink:href=\"#DejaVuSans-52\"/>\n      </g>\n     </g>\n    </g>\n    <g id=\"xtick_2\">\n     <g id=\"line2d_2\">\n      <g>\n       <use style=\"stroke:#000000;stroke-width:0.8;\" x=\"99.232955\" xlink:href=\"#ma807addb8b\" y=\"224.64\"/>\n      </g>\n     </g>\n     <g id=\"text_2\">\n      <!-- 5 -->\n      <defs>\n       <path d=\"M 10.796875 72.90625 \nL 49.515625 72.90625 \nL 49.515625 64.59375 \nL 19.828125 64.59375 \nL 19.828125 46.734375 \nQ 21.96875 47.46875 24.109375 47.828125 \nQ 26.265625 48.1875 28.421875 48.1875 \nQ 40.625 48.1875 47.75 41.5 \nQ 54.890625 34.8125 54.890625 23.390625 \nQ 54.890625 11.625 47.5625 5.09375 \nQ 40.234375 -1.421875 26.90625 -1.421875 \nQ 22.3125 -1.421875 17.546875 -0.640625 \nQ 12.796875 0.140625 7.71875 1.703125 \nL 7.71875 11.625 \nQ 12.109375 9.234375 16.796875 8.0625 \nQ 21.484375 6.890625 26.703125 6.890625 \nQ 35.15625 6.890625 40.078125 11.328125 \nQ 45.015625 15.765625 45.015625 23.390625 \nQ 45.015625 31 40.078125 35.4375 \nQ 35.15625 39.890625 26.703125 39.890625 \nQ 22.75 39.890625 18.8125 39.015625 \nQ 14.890625 38.140625 10.796875 36.28125 \nz\n\" id=\"DejaVuSans-53\"/>\n      </defs>\n      <g transform=\"translate(96.051705 239.238437)scale(0.1 -0.1)\">\n       <use xlink:href=\"#DejaVuSans-53\"/>\n      </g>\n     </g>\n    </g>\n    <g id=\"xtick_3\">\n     <g id=\"line2d_3\">\n      <g>\n       <use style=\"stroke:#000000;stroke-width:0.8;\" x=\"149.960227\" xlink:href=\"#ma807addb8b\" y=\"224.64\"/>\n      </g>\n     </g>\n     <g id=\"text_3\">\n      <!-- 6 -->\n      <defs>\n       <path d=\"M 33.015625 40.375 \nQ 26.375 40.375 22.484375 35.828125 \nQ 18.609375 31.296875 18.609375 23.390625 \nQ 18.609375 15.53125 22.484375 10.953125 \nQ 26.375 6.390625 33.015625 6.390625 \nQ 39.65625 6.390625 43.53125 10.953125 \nQ 47.40625 15.53125 47.40625 23.390625 \nQ 47.40625 31.296875 43.53125 35.828125 \nQ 39.65625 40.375 33.015625 40.375 \nz\nM 52.59375 71.296875 \nL 52.59375 62.3125 \nQ 48.875 64.0625 45.09375 64.984375 \nQ 41.3125 65.921875 37.59375 65.921875 \nQ 27.828125 65.921875 22.671875 59.328125 \nQ 17.53125 52.734375 16.796875 39.40625 \nQ 19.671875 43.65625 24.015625 45.921875 \nQ 28.375 48.1875 33.59375 48.1875 \nQ 44.578125 48.1875 50.953125 41.515625 \nQ 57.328125 34.859375 57.328125 23.390625 \nQ 57.328125 12.15625 50.6875 5.359375 \nQ 44.046875 -1.421875 33.015625 -1.421875 \nQ 20.359375 -1.421875 13.671875 8.265625 \nQ 6.984375 17.96875 6.984375 36.375 \nQ 6.984375 53.65625 15.1875 63.9375 \nQ 23.390625 74.21875 37.203125 74.21875 \nQ 40.921875 74.21875 44.703125 73.484375 \nQ 48.484375 72.75 52.59375 71.296875 \nz\n\" id=\"DejaVuSans-54\"/>\n      </defs>\n      <g transform=\"translate(146.778977 239.238437)scale(0.1 -0.1)\">\n       <use xlink:href=\"#DejaVuSans-54\"/>\n      </g>\n     </g>\n    </g>\n    <g id=\"xtick_4\">\n     <g id=\"line2d_4\">\n      <g>\n       <use style=\"stroke:#000000;stroke-width:0.8;\" x=\"200.6875\" xlink:href=\"#ma807addb8b\" y=\"224.64\"/>\n      </g>\n     </g>\n     <g id=\"text_4\">\n      <!-- 7 -->\n      <defs>\n       <path d=\"M 8.203125 72.90625 \nL 55.078125 72.90625 \nL 55.078125 68.703125 \nL 28.609375 0 \nL 18.3125 0 \nL 43.21875 64.59375 \nL 8.203125 64.59375 \nz\n\" id=\"DejaVuSans-55\"/>\n      </defs>\n      <g transform=\"translate(197.50625 239.238437)scale(0.1 -0.1)\">\n       <use xlink:href=\"#DejaVuSans-55\"/>\n      </g>\n     </g>\n    </g>\n    <g id=\"xtick_5\">\n     <g id=\"line2d_5\">\n      <g>\n       <use style=\"stroke:#000000;stroke-width:0.8;\" x=\"251.414773\" xlink:href=\"#ma807addb8b\" y=\"224.64\"/>\n      </g>\n     </g>\n     <g id=\"text_5\">\n      <!-- 8 -->\n      <defs>\n       <path d=\"M 31.78125 34.625 \nQ 24.75 34.625 20.71875 30.859375 \nQ 16.703125 27.09375 16.703125 20.515625 \nQ 16.703125 13.921875 20.71875 10.15625 \nQ 24.75 6.390625 31.78125 6.390625 \nQ 38.8125 6.390625 42.859375 10.171875 \nQ 46.921875 13.96875 46.921875 20.515625 \nQ 46.921875 27.09375 42.890625 30.859375 \nQ 38.875 34.625 31.78125 34.625 \nz\nM 21.921875 38.8125 \nQ 15.578125 40.375 12.03125 44.71875 \nQ 8.5 49.078125 8.5 55.328125 \nQ 8.5 64.0625 14.71875 69.140625 \nQ 20.953125 74.21875 31.78125 74.21875 \nQ 42.671875 74.21875 48.875 69.140625 \nQ 55.078125 64.0625 55.078125 55.328125 \nQ 55.078125 49.078125 51.53125 44.71875 \nQ 48 40.375 41.703125 38.8125 \nQ 48.828125 37.15625 52.796875 32.3125 \nQ 56.78125 27.484375 56.78125 20.515625 \nQ 56.78125 9.90625 50.3125 4.234375 \nQ 43.84375 -1.421875 31.78125 -1.421875 \nQ 19.734375 -1.421875 13.25 4.234375 \nQ 6.78125 9.90625 6.78125 20.515625 \nQ 6.78125 27.484375 10.78125 32.3125 \nQ 14.796875 37.15625 21.921875 38.8125 \nz\nM 18.3125 54.390625 \nQ 18.3125 48.734375 21.84375 45.5625 \nQ 25.390625 42.390625 31.78125 42.390625 \nQ 38.140625 42.390625 41.71875 45.5625 \nQ 45.3125 48.734375 45.3125 54.390625 \nQ 45.3125 60.0625 41.71875 63.234375 \nQ 38.140625 66.40625 31.78125 66.40625 \nQ 25.390625 66.40625 21.84375 63.234375 \nQ 18.3125 60.0625 18.3125 54.390625 \nz\n\" id=\"DejaVuSans-56\"/>\n      </defs>\n      <g transform=\"translate(248.233523 239.238437)scale(0.1 -0.1)\">\n       <use xlink:href=\"#DejaVuSans-56\"/>\n      </g>\n     </g>\n    </g>\n    <g id=\"xtick_6\">\n     <g id=\"line2d_6\">\n      <g>\n       <use style=\"stroke:#000000;stroke-width:0.8;\" x=\"302.142045\" xlink:href=\"#ma807addb8b\" y=\"224.64\"/>\n      </g>\n     </g>\n     <g id=\"text_6\">\n      <!-- 9 -->\n      <defs>\n       <path d=\"M 10.984375 1.515625 \nL 10.984375 10.5 \nQ 14.703125 8.734375 18.5 7.8125 \nQ 22.3125 6.890625 25.984375 6.890625 \nQ 35.75 6.890625 40.890625 13.453125 \nQ 46.046875 20.015625 46.78125 33.40625 \nQ 43.953125 29.203125 39.59375 26.953125 \nQ 35.25 24.703125 29.984375 24.703125 \nQ 19.046875 24.703125 12.671875 31.3125 \nQ 6.296875 37.9375 6.296875 49.421875 \nQ 6.296875 60.640625 12.9375 67.421875 \nQ 19.578125 74.21875 30.609375 74.21875 \nQ 43.265625 74.21875 49.921875 64.515625 \nQ 56.59375 54.828125 56.59375 36.375 \nQ 56.59375 19.140625 48.40625 8.859375 \nQ 40.234375 -1.421875 26.421875 -1.421875 \nQ 22.703125 -1.421875 18.890625 -0.6875 \nQ 15.09375 0.046875 10.984375 1.515625 \nz\nM 30.609375 32.421875 \nQ 37.25 32.421875 41.125 36.953125 \nQ 45.015625 41.5 45.015625 49.421875 \nQ 45.015625 57.28125 41.125 61.84375 \nQ 37.25 66.40625 30.609375 66.40625 \nQ 23.96875 66.40625 20.09375 61.84375 \nQ 16.21875 57.28125 16.21875 49.421875 \nQ 16.21875 41.5 20.09375 36.953125 \nQ 23.96875 32.421875 30.609375 32.421875 \nz\n\" id=\"DejaVuSans-57\"/>\n      </defs>\n      <g transform=\"translate(298.960795 239.238437)scale(0.1 -0.1)\">\n       <use xlink:href=\"#DejaVuSans-57\"/>\n      </g>\n     </g>\n    </g>\n    <g id=\"xtick_7\">\n     <g id=\"line2d_7\">\n      <g>\n       <use style=\"stroke:#000000;stroke-width:0.8;\" x=\"352.869318\" xlink:href=\"#ma807addb8b\" y=\"224.64\"/>\n      </g>\n     </g>\n     <g id=\"text_7\">\n      <!-- 10 -->\n      <defs>\n       <path d=\"M 12.40625 8.296875 \nL 28.515625 8.296875 \nL 28.515625 63.921875 \nL 10.984375 60.40625 \nL 10.984375 69.390625 \nL 28.421875 72.90625 \nL 38.28125 72.90625 \nL 38.28125 8.296875 \nL 54.390625 8.296875 \nL 54.390625 0 \nL 12.40625 0 \nz\n\" id=\"DejaVuSans-49\"/>\n       <path d=\"M 31.78125 66.40625 \nQ 24.171875 66.40625 20.328125 58.90625 \nQ 16.5 51.421875 16.5 36.375 \nQ 16.5 21.390625 20.328125 13.890625 \nQ 24.171875 6.390625 31.78125 6.390625 \nQ 39.453125 6.390625 43.28125 13.890625 \nQ 47.125 21.390625 47.125 36.375 \nQ 47.125 51.421875 43.28125 58.90625 \nQ 39.453125 66.40625 31.78125 66.40625 \nz\nM 31.78125 74.21875 \nQ 44.046875 74.21875 50.515625 64.515625 \nQ 56.984375 54.828125 56.984375 36.375 \nQ 56.984375 17.96875 50.515625 8.265625 \nQ 44.046875 -1.421875 31.78125 -1.421875 \nQ 19.53125 -1.421875 13.0625 8.265625 \nQ 6.59375 17.96875 6.59375 36.375 \nQ 6.59375 54.828125 13.0625 64.515625 \nQ 19.53125 74.21875 31.78125 74.21875 \nz\n\" id=\"DejaVuSans-48\"/>\n      </defs>\n      <g transform=\"translate(346.506818 239.238437)scale(0.1 -0.1)\">\n       <use xlink:href=\"#DejaVuSans-49\"/>\n       <use x=\"63.623047\" xlink:href=\"#DejaVuSans-48\"/>\n      </g>\n     </g>\n    </g>\n   </g>\n   <g id=\"matplotlib.axis_2\">\n    <g id=\"ytick_1\">\n     <g id=\"line2d_8\">\n      <defs>\n       <path d=\"M 0 0 \nL -3.5 0 \n\" id=\"m0e9348abd3\" style=\"stroke:#000000;stroke-width:0.8;\"/>\n      </defs>\n      <g>\n       <use style=\"stroke:#000000;stroke-width:0.8;\" x=\"33.2875\" xlink:href=\"#m0e9348abd3\" y=\"224.64\"/>\n      </g>\n     </g>\n     <g id=\"text_8\">\n      <!-- 0 -->\n      <g transform=\"translate(19.925 228.439219)scale(0.1 -0.1)\">\n       <use xlink:href=\"#DejaVuSans-48\"/>\n      </g>\n     </g>\n    </g>\n    <g id=\"ytick_2\">\n     <g id=\"line2d_9\">\n      <g>\n       <use style=\"stroke:#000000;stroke-width:0.8;\" x=\"33.2875\" xlink:href=\"#m0e9348abd3\" y=\"200.132815\"/>\n      </g>\n     </g>\n     <g id=\"text_9\">\n      <!-- 20 -->\n      <defs>\n       <path d=\"M 19.1875 8.296875 \nL 53.609375 8.296875 \nL 53.609375 0 \nL 7.328125 0 \nL 7.328125 8.296875 \nQ 12.9375 14.109375 22.625 23.890625 \nQ 32.328125 33.6875 34.8125 36.53125 \nQ 39.546875 41.84375 41.421875 45.53125 \nQ 43.3125 49.21875 43.3125 52.78125 \nQ 43.3125 58.59375 39.234375 62.25 \nQ 35.15625 65.921875 28.609375 65.921875 \nQ 23.96875 65.921875 18.8125 64.3125 \nQ 13.671875 62.703125 7.8125 59.421875 \nL 7.8125 69.390625 \nQ 13.765625 71.78125 18.9375 73 \nQ 24.125 74.21875 28.421875 74.21875 \nQ 39.75 74.21875 46.484375 68.546875 \nQ 53.21875 62.890625 53.21875 53.421875 \nQ 53.21875 48.921875 51.53125 44.890625 \nQ 49.859375 40.875 45.40625 35.40625 \nQ 44.1875 33.984375 37.640625 27.21875 \nQ 31.109375 20.453125 19.1875 8.296875 \nz\n\" id=\"DejaVuSans-50\"/>\n      </defs>\n      <g transform=\"translate(13.5625 203.932034)scale(0.1 -0.1)\">\n       <use xlink:href=\"#DejaVuSans-50\"/>\n       <use x=\"63.623047\" xlink:href=\"#DejaVuSans-48\"/>\n      </g>\n     </g>\n    </g>\n    <g id=\"ytick_3\">\n     <g id=\"line2d_10\">\n      <g>\n       <use style=\"stroke:#000000;stroke-width:0.8;\" x=\"33.2875\" xlink:href=\"#m0e9348abd3\" y=\"175.62563\"/>\n      </g>\n     </g>\n     <g id=\"text_10\">\n      <!-- 40 -->\n      <g transform=\"translate(13.5625 179.424849)scale(0.1 -0.1)\">\n       <use xlink:href=\"#DejaVuSans-52\"/>\n       <use x=\"63.623047\" xlink:href=\"#DejaVuSans-48\"/>\n      </g>\n     </g>\n    </g>\n    <g id=\"ytick_4\">\n     <g id=\"line2d_11\">\n      <g>\n       <use style=\"stroke:#000000;stroke-width:0.8;\" x=\"33.2875\" xlink:href=\"#m0e9348abd3\" y=\"151.118445\"/>\n      </g>\n     </g>\n     <g id=\"text_11\">\n      <!-- 60 -->\n      <g transform=\"translate(13.5625 154.917663)scale(0.1 -0.1)\">\n       <use xlink:href=\"#DejaVuSans-54\"/>\n       <use x=\"63.623047\" xlink:href=\"#DejaVuSans-48\"/>\n      </g>\n     </g>\n    </g>\n    <g id=\"ytick_5\">\n     <g id=\"line2d_12\">\n      <g>\n       <use style=\"stroke:#000000;stroke-width:0.8;\" x=\"33.2875\" xlink:href=\"#m0e9348abd3\" y=\"126.61126\"/>\n      </g>\n     </g>\n     <g id=\"text_12\">\n      <!-- 80 -->\n      <g transform=\"translate(13.5625 130.410478)scale(0.1 -0.1)\">\n       <use xlink:href=\"#DejaVuSans-56\"/>\n       <use x=\"63.623047\" xlink:href=\"#DejaVuSans-48\"/>\n      </g>\n     </g>\n    </g>\n    <g id=\"ytick_6\">\n     <g id=\"line2d_13\">\n      <g>\n       <use style=\"stroke:#000000;stroke-width:0.8;\" x=\"33.2875\" xlink:href=\"#m0e9348abd3\" y=\"102.104074\"/>\n      </g>\n     </g>\n     <g id=\"text_13\">\n      <!-- 100 -->\n      <g transform=\"translate(7.2 105.903293)scale(0.1 -0.1)\">\n       <use xlink:href=\"#DejaVuSans-49\"/>\n       <use x=\"63.623047\" xlink:href=\"#DejaVuSans-48\"/>\n       <use x=\"127.246094\" xlink:href=\"#DejaVuSans-48\"/>\n      </g>\n     </g>\n    </g>\n    <g id=\"ytick_7\">\n     <g id=\"line2d_14\">\n      <g>\n       <use style=\"stroke:#000000;stroke-width:0.8;\" x=\"33.2875\" xlink:href=\"#m0e9348abd3\" y=\"77.596889\"/>\n      </g>\n     </g>\n     <g id=\"text_14\">\n      <!-- 120 -->\n      <g transform=\"translate(7.2 81.396108)scale(0.1 -0.1)\">\n       <use xlink:href=\"#DejaVuSans-49\"/>\n       <use x=\"63.623047\" xlink:href=\"#DejaVuSans-50\"/>\n       <use x=\"127.246094\" xlink:href=\"#DejaVuSans-48\"/>\n      </g>\n     </g>\n    </g>\n    <g id=\"ytick_8\">\n     <g id=\"line2d_15\">\n      <g>\n       <use style=\"stroke:#000000;stroke-width:0.8;\" x=\"33.2875\" xlink:href=\"#m0e9348abd3\" y=\"53.089704\"/>\n      </g>\n     </g>\n     <g id=\"text_15\">\n      <!-- 140 -->\n      <g transform=\"translate(7.2 56.888923)scale(0.1 -0.1)\">\n       <use xlink:href=\"#DejaVuSans-49\"/>\n       <use x=\"63.623047\" xlink:href=\"#DejaVuSans-52\"/>\n       <use x=\"127.246094\" xlink:href=\"#DejaVuSans-48\"/>\n      </g>\n     </g>\n    </g>\n    <g id=\"ytick_9\">\n     <g id=\"line2d_16\">\n      <g>\n       <use style=\"stroke:#000000;stroke-width:0.8;\" x=\"33.2875\" xlink:href=\"#m0e9348abd3\" y=\"28.582519\"/>\n      </g>\n     </g>\n     <g id=\"text_16\">\n      <!-- 160 -->\n      <g transform=\"translate(7.2 32.381738)scale(0.1 -0.1)\">\n       <use xlink:href=\"#DejaVuSans-49\"/>\n       <use x=\"63.623047\" xlink:href=\"#DejaVuSans-54\"/>\n       <use x=\"127.246094\" xlink:href=\"#DejaVuSans-48\"/>\n      </g>\n     </g>\n    </g>\n   </g>\n   <g id=\"patch_13\">\n    <path d=\"M 33.2875 224.64 \nL 33.2875 7.2 \n\" style=\"fill:none;stroke:#000000;stroke-linecap:square;stroke-linejoin:miter;stroke-width:0.8;\"/>\n   </g>\n   <g id=\"patch_14\">\n    <path d=\"M 368.0875 224.64 \nL 368.0875 7.2 \n\" style=\"fill:none;stroke:#000000;stroke-linecap:square;stroke-linejoin:miter;stroke-width:0.8;\"/>\n   </g>\n   <g id=\"patch_15\">\n    <path d=\"M 33.2875 224.64 \nL 368.0875 224.64 \n\" style=\"fill:none;stroke:#000000;stroke-linecap:square;stroke-linejoin:miter;stroke-width:0.8;\"/>\n   </g>\n   <g id=\"patch_16\">\n    <path d=\"M 33.2875 7.2 \nL 368.0875 7.2 \n\" style=\"fill:none;stroke:#000000;stroke-linecap:square;stroke-linejoin:miter;stroke-width:0.8;\"/>\n   </g>\n  </g>\n </g>\n <defs>\n  <clipPath id=\"p13a1b72dae\">\n   <rect height=\"217.44\" width=\"334.8\" x=\"33.2875\" y=\"7.2\"/>\n  </clipPath>\n </defs>\n</svg>\n",
      "text/plain": "<Figure size 432x288 with 1 Axes>"
     },
     "metadata": {
      "needs_background": "light"
     },
     "output_type": "display_data"
    }
   ],
   "source": [
    "# view types of the variables before categorical\n",
    "hprice3[['y81', 'nbh', 'rooms']].dtypes\n",
    "\n",
    "# plot histograph of variable room before treated as categorical\n",
    "plt.hist(hprice3.rooms)"
   ]
  },
  {
   "cell_type": "code",
   "execution_count": 84,
   "metadata": {},
   "outputs": [
    {
     "data": {
      "text/plain": "y81      category\nnbh      category\nrooms    category\ndtype: object"
     },
     "execution_count": 84,
     "metadata": {},
     "output_type": "execute_result"
    }
   ],
   "source": [
    "# change y81, nbh, rooms to categorical\n",
    "hprice3['y81'] = hprice3['y81'].astype('category')\n",
    "hprice3['nbh'] = hprice3['nbh'].astype(CategoricalDtype(ordered=False))\n",
    "hprice3['rooms'] = hprice3['rooms'].astype(CategoricalDtype(ordered=True))\n",
    "\n",
    "# view data types after conversion\n",
    "hprice3[['y81', 'nbh', 'rooms']].dtypes"
   ]
  },
  {
   "cell_type": "code",
   "execution_count": 119,
   "metadata": {},
   "outputs": [],
   "source": [
    "# plot histograph of variable room after treated as categorical\n",
    "# plt.hist(hprice3.rooms) - not seeing a change?"
   ]
  },
  {
   "cell_type": "markdown",
   "metadata": {},
   "source": [
    "* in regressions, you want to transform ordered and unordered categorical variables with multiple categories into (c-1) dummy variables (c = total number of categories)"
   ]
  },
  {
   "cell_type": "code",
   "execution_count": 85,
   "metadata": {},
   "outputs": [
    {
     "data": {
      "text/html": "<table class=\"simpletable\">\n<caption>OLS Regression Results</caption>\n<tr>\n  <th>Dep. Variable:</th>         <td>lprice</td>      <th>  R-squared:         </th> <td>   0.802</td>\n</tr>\n<tr>\n  <th>Model:</th>                   <td>OLS</td>       <th>  Adj. R-squared:    </th> <td>   0.788</td>\n</tr>\n<tr>\n  <th>Method:</th>             <td>Least Squares</td>  <th>  F-statistic:       </th> <td>   55.03</td>\n</tr>\n<tr>\n  <th>Date:</th>             <td>Mon, 09 Mar 2020</td> <th>  Prob (F-statistic):</th> <td>2.65e-91</td>\n</tr>\n<tr>\n  <th>Time:</th>                 <td>15:08:59</td>     <th>  Log-Likelihood:    </th> <td>  70.215</td>\n</tr>\n<tr>\n  <th>No. Observations:</th>      <td>   321</td>      <th>  AIC:               </th> <td>  -94.43</td>\n</tr>\n<tr>\n  <th>Df Residuals:</th>          <td>   298</td>      <th>  BIC:               </th> <td>  -7.686</td>\n</tr>\n<tr>\n  <th>Df Model:</th>              <td>    22</td>      <th>                     </th>     <td> </td>   \n</tr>\n<tr>\n  <th>Covariance Type:</th>      <td>nonrobust</td>    <th>                     </th>     <td> </td>   \n</tr>\n</table>\n<table class=\"simpletable\">\n<tr>\n            <td></td>              <th>coef</th>     <th>std err</th>      <th>t</th>      <th>P>|t|</th>  <th>[0.025</th>    <th>0.975]</th>  \n</tr>\n<tr>\n  <th>Intercept</th>            <td>    3.4370</td> <td>    2.179</td> <td>    1.578</td> <td> 0.116</td> <td>   -0.850</td> <td>    7.724</td>\n</tr>\n<tr>\n  <th>C(y81)[T.1.0]</th>        <td>    0.3790</td> <td>    0.024</td> <td>   15.827</td> <td> 0.000</td> <td>    0.332</td> <td>    0.426</td>\n</tr>\n<tr>\n  <th>C(rooms)[T.5.0]</th>      <td>    0.1328</td> <td>    0.110</td> <td>    1.209</td> <td> 0.228</td> <td>   -0.083</td> <td>    0.349</td>\n</tr>\n<tr>\n  <th>C(rooms)[T.6.0]</th>      <td>    0.0617</td> <td>    0.107</td> <td>    0.580</td> <td> 0.563</td> <td>   -0.148</td> <td>    0.271</td>\n</tr>\n<tr>\n  <th>C(rooms)[T.7.0]</th>      <td>    0.1408</td> <td>    0.111</td> <td>    1.270</td> <td> 0.205</td> <td>   -0.077</td> <td>    0.359</td>\n</tr>\n<tr>\n  <th>C(rooms)[T.8.0]</th>      <td>    0.1741</td> <td>    0.126</td> <td>    1.387</td> <td> 0.167</td> <td>   -0.073</td> <td>    0.421</td>\n</tr>\n<tr>\n  <th>C(rooms)[T.9.0]</th>      <td>    0.2907</td> <td>    0.131</td> <td>    2.216</td> <td> 0.027</td> <td>    0.033</td> <td>    0.549</td>\n</tr>\n<tr>\n  <th>C(rooms)[T.10.0]</th>     <td>    0.3937</td> <td>    0.247</td> <td>    1.593</td> <td> 0.112</td> <td>   -0.093</td> <td>    0.880</td>\n</tr>\n<tr>\n  <th>C(nbh)[T.1.0]</th>        <td>   -0.0309</td> <td>    0.053</td> <td>   -0.588</td> <td> 0.557</td> <td>   -0.134</td> <td>    0.072</td>\n</tr>\n<tr>\n  <th>C(nbh)[T.2.0]</th>        <td>   -0.0568</td> <td>    0.041</td> <td>   -1.400</td> <td> 0.162</td> <td>   -0.137</td> <td>    0.023</td>\n</tr>\n<tr>\n  <th>C(nbh)[T.3.0]</th>        <td>   -0.1985</td> <td>    0.085</td> <td>   -2.322</td> <td> 0.021</td> <td>   -0.367</td> <td>   -0.030</td>\n</tr>\n<tr>\n  <th>C(nbh)[T.4.0]</th>        <td>   -0.0132</td> <td>    0.056</td> <td>   -0.237</td> <td> 0.813</td> <td>   -0.123</td> <td>    0.097</td>\n</tr>\n<tr>\n  <th>C(nbh)[T.5.0]</th>        <td>   -0.0717</td> <td>    0.059</td> <td>   -1.225</td> <td> 0.222</td> <td>   -0.187</td> <td>    0.043</td>\n</tr>\n<tr>\n  <th>C(nbh)[T.6.0]</th>        <td>   -0.0484</td> <td>    0.050</td> <td>   -0.976</td> <td> 0.330</td> <td>   -0.146</td> <td>    0.049</td>\n</tr>\n<tr>\n  <th>lland</th>                <td>    0.1222</td> <td>    0.027</td> <td>    4.531</td> <td> 0.000</td> <td>    0.069</td> <td>    0.175</td>\n</tr>\n<tr>\n  <th>larea</th>                <td>    0.3535</td> <td>    0.053</td> <td>    6.663</td> <td> 0.000</td> <td>    0.249</td> <td>    0.458</td>\n</tr>\n<tr>\n  <th>np.power(log_cbd, 2)</th> <td>   -0.0019</td> <td>    0.004</td> <td>   -0.436</td> <td> 0.663</td> <td>   -0.010</td> <td>    0.007</td>\n</tr>\n<tr>\n  <th>linst</th>                <td>    0.6030</td> <td>    0.437</td> <td>    1.380</td> <td> 0.169</td> <td>   -0.257</td> <td>    1.463</td>\n</tr>\n<tr>\n  <th>linstsq</th>              <td>   -0.0372</td> <td>    0.026</td> <td>   -1.418</td> <td> 0.157</td> <td>   -0.089</td> <td>    0.014</td>\n</tr>\n<tr>\n  <th>ldist</th>                <td>    0.1429</td> <td>    0.068</td> <td>    2.090</td> <td> 0.037</td> <td>    0.008</td> <td>    0.277</td>\n</tr>\n<tr>\n  <th>baths</th>                <td>    0.0989</td> <td>    0.028</td> <td>    3.548</td> <td> 0.000</td> <td>    0.044</td> <td>    0.154</td>\n</tr>\n<tr>\n  <th>age</th>                  <td>   -0.0068</td> <td>    0.001</td> <td>   -4.580</td> <td> 0.000</td> <td>   -0.010</td> <td>   -0.004</td>\n</tr>\n<tr>\n  <th>agesq</th>                <td> 2.737e-05</td> <td> 9.25e-06</td> <td>    2.957</td> <td> 0.003</td> <td> 9.15e-06</td> <td> 4.56e-05</td>\n</tr>\n</table>\n<table class=\"simpletable\">\n<tr>\n  <th>Omnibus:</th>       <td>83.764</td> <th>  Durbin-Watson:     </th> <td>   1.761</td> \n</tr>\n<tr>\n  <th>Prob(Omnibus):</th> <td> 0.000</td> <th>  Jarque-Bera (JB):  </th> <td> 528.554</td> \n</tr>\n<tr>\n  <th>Skew:</th>          <td>-0.900</td> <th>  Prob(JB):          </th> <td>1.68e-115</td>\n</tr>\n<tr>\n  <th>Kurtosis:</th>      <td> 9.023</td> <th>  Cond. No.          </th> <td>9.83e+05</td> \n</tr>\n</table><br/><br/>Warnings:<br/>[1] Standard Errors assume that the covariance matrix of the errors is correctly specified.<br/>[2] The condition number is large, 9.83e+05. This might indicate that there are<br/>strong multicollinearity or other numerical problems.",
      "text/plain": "<class 'statsmodels.iolib.summary.Summary'>\n\"\"\"\n                            OLS Regression Results                            \n==============================================================================\nDep. Variable:                 lprice   R-squared:                       0.802\nModel:                            OLS   Adj. R-squared:                  0.788\nMethod:                 Least Squares   F-statistic:                     55.03\nDate:                Mon, 09 Mar 2020   Prob (F-statistic):           2.65e-91\nTime:                        15:08:59   Log-Likelihood:                 70.215\nNo. Observations:                 321   AIC:                            -94.43\nDf Residuals:                     298   BIC:                            -7.686\nDf Model:                          22                                         \nCovariance Type:            nonrobust                                         \n========================================================================================\n                           coef    std err          t      P>|t|      [0.025      0.975]\n----------------------------------------------------------------------------------------\nIntercept                3.4370      2.179      1.578      0.116      -0.850       7.724\nC(y81)[T.1.0]            0.3790      0.024     15.827      0.000       0.332       0.426\nC(rooms)[T.5.0]          0.1328      0.110      1.209      0.228      -0.083       0.349\nC(rooms)[T.6.0]          0.0617      0.107      0.580      0.563      -0.148       0.271\nC(rooms)[T.7.0]          0.1408      0.111      1.270      0.205      -0.077       0.359\nC(rooms)[T.8.0]          0.1741      0.126      1.387      0.167      -0.073       0.421\nC(rooms)[T.9.0]          0.2907      0.131      2.216      0.027       0.033       0.549\nC(rooms)[T.10.0]         0.3937      0.247      1.593      0.112      -0.093       0.880\nC(nbh)[T.1.0]           -0.0309      0.053     -0.588      0.557      -0.134       0.072\nC(nbh)[T.2.0]           -0.0568      0.041     -1.400      0.162      -0.137       0.023\nC(nbh)[T.3.0]           -0.1985      0.085     -2.322      0.021      -0.367      -0.030\nC(nbh)[T.4.0]           -0.0132      0.056     -0.237      0.813      -0.123       0.097\nC(nbh)[T.5.0]           -0.0717      0.059     -1.225      0.222      -0.187       0.043\nC(nbh)[T.6.0]           -0.0484      0.050     -0.976      0.330      -0.146       0.049\nlland                    0.1222      0.027      4.531      0.000       0.069       0.175\nlarea                    0.3535      0.053      6.663      0.000       0.249       0.458\nnp.power(log_cbd, 2)    -0.0019      0.004     -0.436      0.663      -0.010       0.007\nlinst                    0.6030      0.437      1.380      0.169      -0.257       1.463\nlinstsq                 -0.0372      0.026     -1.418      0.157      -0.089       0.014\nldist                    0.1429      0.068      2.090      0.037       0.008       0.277\nbaths                    0.0989      0.028      3.548      0.000       0.044       0.154\nage                     -0.0068      0.001     -4.580      0.000      -0.010      -0.004\nagesq                 2.737e-05   9.25e-06      2.957      0.003    9.15e-06    4.56e-05\n==============================================================================\nOmnibus:                       83.764   Durbin-Watson:                   1.761\nProb(Omnibus):                  0.000   Jarque-Bera (JB):              528.554\nSkew:                          -0.900   Prob(JB):                    1.68e-115\nKurtosis:                       9.023   Cond. No.                     9.83e+05\n==============================================================================\n\nWarnings:\n[1] Standard Errors assume that the covariance matrix of the errors is correctly specified.\n[2] The condition number is large, 9.83e+05. This might indicate that there are\nstrong multicollinearity or other numerical problems.\n\"\"\""
     },
     "execution_count": 85,
     "metadata": {},
     "output_type": "execute_result"
    }
   ],
   "source": [
    "# use C() to denote categorical variable and np.power(,2) to square variable in specification\n",
    "log_cbd = np.log(hprice3.cbd) \n",
    "f = 'lprice ~ lland + larea + np.power(log_cbd,2) + C(y81) + C(rooms) + C(nbh) + linst + linstsq + ldist + baths + age + agesq'\n",
    "\n",
    "# create a design matrix using patsy package\n",
    "y, X = patsy.dmatrices(f, data=hprice3, return_type='dataframe')\n",
    "\n",
    "# run OLS and regression \n",
    "model = OLS(y,X)\n",
    "reg = model.fit()\n",
    "\n",
    "# see summary and the t coefficients\n",
    "reg.summary()"
   ]
  },
  {
   "cell_type": "code",
   "execution_count": 62,
   "metadata": {},
   "outputs": [
    {
     "data": {
      "text/html": "<div>\n<style scoped>\n    .dataframe tbody tr th:only-of-type {\n        vertical-align: middle;\n    }\n\n    .dataframe tbody tr th {\n        vertical-align: top;\n    }\n\n    .dataframe thead th {\n        text-align: right;\n    }\n</style>\n<table border=\"1\" class=\"dataframe\">\n  <thead>\n    <tr style=\"text-align: right;\">\n      <th></th>\n      <th>Intercept</th>\n      <th>C(y81)[T.1.0]</th>\n      <th>C(rooms)[T.5.0]</th>\n      <th>C(rooms)[T.6.0]</th>\n      <th>C(rooms)[T.7.0]</th>\n      <th>C(rooms)[T.8.0]</th>\n      <th>C(rooms)[T.9.0]</th>\n      <th>C(rooms)[T.10.0]</th>\n      <th>C(nbh)[T.1.0]</th>\n      <th>C(nbh)[T.2.0]</th>\n      <th>...</th>\n      <th>C(nbh)[T.6.0]</th>\n      <th>lland</th>\n      <th>larea</th>\n      <th>np.power(log_cbd, 2)</th>\n      <th>linst</th>\n      <th>linstsq</th>\n      <th>ldist</th>\n      <th>baths</th>\n      <th>age</th>\n      <th>agesq</th>\n    </tr>\n  </thead>\n  <tbody>\n    <tr>\n      <td>0</td>\n      <td>1.0</td>\n      <td>0.0</td>\n      <td>0.0</td>\n      <td>0.0</td>\n      <td>1.0</td>\n      <td>0.0</td>\n      <td>0.0</td>\n      <td>0.0</td>\n      <td>0.0</td>\n      <td>0.0</td>\n      <td>...</td>\n      <td>0.0</td>\n      <td>8.429017</td>\n      <td>7.414573</td>\n      <td>64.101921</td>\n      <td>6.9078</td>\n      <td>47.717701</td>\n      <td>9.277999</td>\n      <td>1.0</td>\n      <td>48.0</td>\n      <td>2304.0</td>\n    </tr>\n    <tr>\n      <td>1</td>\n      <td>1.0</td>\n      <td>0.0</td>\n      <td>0.0</td>\n      <td>1.0</td>\n      <td>0.0</td>\n      <td>0.0</td>\n      <td>0.0</td>\n      <td>0.0</td>\n      <td>0.0</td>\n      <td>0.0</td>\n      <td>...</td>\n      <td>0.0</td>\n      <td>9.032409</td>\n      <td>7.867871</td>\n      <td>68.791252</td>\n      <td>6.9078</td>\n      <td>47.717701</td>\n      <td>9.305651</td>\n      <td>2.0</td>\n      <td>83.0</td>\n      <td>6889.0</td>\n    </tr>\n    <tr>\n      <td>2</td>\n      <td>1.0</td>\n      <td>0.0</td>\n      <td>0.0</td>\n      <td>1.0</td>\n      <td>0.0</td>\n      <td>0.0</td>\n      <td>0.0</td>\n      <td>0.0</td>\n      <td>0.0</td>\n      <td>0.0</td>\n      <td>...</td>\n      <td>0.0</td>\n      <td>8.517193</td>\n      <td>7.042286</td>\n      <td>68.791252</td>\n      <td>6.9078</td>\n      <td>47.717701</td>\n      <td>9.350102</td>\n      <td>1.0</td>\n      <td>58.0</td>\n      <td>3364.0</td>\n    </tr>\n    <tr>\n      <td>3</td>\n      <td>1.0</td>\n      <td>0.0</td>\n      <td>1.0</td>\n      <td>0.0</td>\n      <td>0.0</td>\n      <td>0.0</td>\n      <td>0.0</td>\n      <td>0.0</td>\n      <td>0.0</td>\n      <td>0.0</td>\n      <td>...</td>\n      <td>0.0</td>\n      <td>9.210340</td>\n      <td>7.035269</td>\n      <td>68.791252</td>\n      <td>6.9078</td>\n      <td>47.717701</td>\n      <td>9.384294</td>\n      <td>1.0</td>\n      <td>11.0</td>\n      <td>121.0</td>\n    </tr>\n    <tr>\n      <td>4</td>\n      <td>1.0</td>\n      <td>0.0</td>\n      <td>1.0</td>\n      <td>0.0</td>\n      <td>0.0</td>\n      <td>0.0</td>\n      <td>0.0</td>\n      <td>0.0</td>\n      <td>0.0</td>\n      <td>0.0</td>\n      <td>...</td>\n      <td>0.0</td>\n      <td>9.210340</td>\n      <td>7.532624</td>\n      <td>68.791252</td>\n      <td>7.6009</td>\n      <td>57.773682</td>\n      <td>9.400961</td>\n      <td>1.0</td>\n      <td>48.0</td>\n      <td>2304.0</td>\n    </tr>\n    <tr>\n      <td>...</td>\n      <td>...</td>\n      <td>...</td>\n      <td>...</td>\n      <td>...</td>\n      <td>...</td>\n      <td>...</td>\n      <td>...</td>\n      <td>...</td>\n      <td>...</td>\n      <td>...</td>\n      <td>...</td>\n      <td>...</td>\n      <td>...</td>\n      <td>...</td>\n      <td>...</td>\n      <td>...</td>\n      <td>...</td>\n      <td>...</td>\n      <td>...</td>\n      <td>...</td>\n      <td>...</td>\n    </tr>\n    <tr>\n      <td>316</td>\n      <td>1.0</td>\n      <td>1.0</td>\n      <td>0.0</td>\n      <td>1.0</td>\n      <td>0.0</td>\n      <td>0.0</td>\n      <td>0.0</td>\n      <td>0.0</td>\n      <td>0.0</td>\n      <td>0.0</td>\n      <td>...</td>\n      <td>0.0</td>\n      <td>8.922658</td>\n      <td>7.235619</td>\n      <td>84.830376</td>\n      <td>9.2103</td>\n      <td>84.829643</td>\n      <td>9.735069</td>\n      <td>1.0</td>\n      <td>25.0</td>\n      <td>625.0</td>\n    </tr>\n    <tr>\n      <td>317</td>\n      <td>1.0</td>\n      <td>1.0</td>\n      <td>0.0</td>\n      <td>0.0</td>\n      <td>1.0</td>\n      <td>0.0</td>\n      <td>0.0</td>\n      <td>0.0</td>\n      <td>0.0</td>\n      <td>0.0</td>\n      <td>...</td>\n      <td>1.0</td>\n      <td>10.795220</td>\n      <td>8.051978</td>\n      <td>101.723541</td>\n      <td>10.1660</td>\n      <td>103.347603</td>\n      <td>10.126630</td>\n      <td>3.0</td>\n      <td>0.0</td>\n      <td>0.0</td>\n    </tr>\n    <tr>\n      <td>318</td>\n      <td>1.0</td>\n      <td>1.0</td>\n      <td>0.0</td>\n      <td>1.0</td>\n      <td>0.0</td>\n      <td>0.0</td>\n      <td>0.0</td>\n      <td>0.0</td>\n      <td>0.0</td>\n      <td>0.0</td>\n      <td>...</td>\n      <td>0.0</td>\n      <td>10.711460</td>\n      <td>7.167038</td>\n      <td>92.463715</td>\n      <td>9.6158</td>\n      <td>92.463608</td>\n      <td>9.966462</td>\n      <td>2.0</td>\n      <td>20.0</td>\n      <td>400.0</td>\n    </tr>\n    <tr>\n      <td>319</td>\n      <td>1.0</td>\n      <td>1.0</td>\n      <td>1.0</td>\n      <td>0.0</td>\n      <td>0.0</td>\n      <td>0.0</td>\n      <td>0.0</td>\n      <td>0.0</td>\n      <td>0.0</td>\n      <td>0.0</td>\n      <td>...</td>\n      <td>0.0</td>\n      <td>10.696070</td>\n      <td>7.045776</td>\n      <td>91.141640</td>\n      <td>9.6158</td>\n      <td>92.463608</td>\n      <td>9.928180</td>\n      <td>2.0</td>\n      <td>19.0</td>\n      <td>361.0</td>\n    </tr>\n    <tr>\n      <td>320</td>\n      <td>1.0</td>\n      <td>1.0</td>\n      <td>0.0</td>\n      <td>0.0</td>\n      <td>1.0</td>\n      <td>0.0</td>\n      <td>0.0</td>\n      <td>0.0</td>\n      <td>0.0</td>\n      <td>0.0</td>\n      <td>...</td>\n      <td>0.0</td>\n      <td>10.724700</td>\n      <td>7.723562</td>\n      <td>89.732140</td>\n      <td>9.4727</td>\n      <td>89.732048</td>\n      <td>9.873028</td>\n      <td>3.0</td>\n      <td>0.0</td>\n      <td>0.0</td>\n    </tr>\n  </tbody>\n</table>\n<p>321 rows × 23 columns</p>\n</div>",
      "text/plain": "     Intercept  C(y81)[T.1.0]  C(rooms)[T.5.0]  C(rooms)[T.6.0]  \\\n0          1.0            0.0              0.0              0.0   \n1          1.0            0.0              0.0              1.0   \n2          1.0            0.0              0.0              1.0   \n3          1.0            0.0              1.0              0.0   \n4          1.0            0.0              1.0              0.0   \n..         ...            ...              ...              ...   \n316        1.0            1.0              0.0              1.0   \n317        1.0            1.0              0.0              0.0   \n318        1.0            1.0              0.0              1.0   \n319        1.0            1.0              1.0              0.0   \n320        1.0            1.0              0.0              0.0   \n\n     C(rooms)[T.7.0]  C(rooms)[T.8.0]  C(rooms)[T.9.0]  C(rooms)[T.10.0]  \\\n0                1.0              0.0              0.0               0.0   \n1                0.0              0.0              0.0               0.0   \n2                0.0              0.0              0.0               0.0   \n3                0.0              0.0              0.0               0.0   \n4                0.0              0.0              0.0               0.0   \n..               ...              ...              ...               ...   \n316              0.0              0.0              0.0               0.0   \n317              1.0              0.0              0.0               0.0   \n318              0.0              0.0              0.0               0.0   \n319              0.0              0.0              0.0               0.0   \n320              1.0              0.0              0.0               0.0   \n\n     C(nbh)[T.1.0]  C(nbh)[T.2.0]  ...  C(nbh)[T.6.0]      lland     larea  \\\n0              0.0            0.0  ...            0.0   8.429017  7.414573   \n1              0.0            0.0  ...            0.0   9.032409  7.867871   \n2              0.0            0.0  ...            0.0   8.517193  7.042286   \n3              0.0            0.0  ...            0.0   9.210340  7.035269   \n4              0.0            0.0  ...            0.0   9.210340  7.532624   \n..             ...            ...  ...            ...        ...       ...   \n316            0.0            0.0  ...            0.0   8.922658  7.235619   \n317            0.0            0.0  ...            1.0  10.795220  8.051978   \n318            0.0            0.0  ...            0.0  10.711460  7.167038   \n319            0.0            0.0  ...            0.0  10.696070  7.045776   \n320            0.0            0.0  ...            0.0  10.724700  7.723562   \n\n     np.power(log_cbd, 2)    linst     linstsq      ldist  baths   age   agesq  \n0               64.101921   6.9078   47.717701   9.277999    1.0  48.0  2304.0  \n1               68.791252   6.9078   47.717701   9.305651    2.0  83.0  6889.0  \n2               68.791252   6.9078   47.717701   9.350102    1.0  58.0  3364.0  \n3               68.791252   6.9078   47.717701   9.384294    1.0  11.0   121.0  \n4               68.791252   7.6009   57.773682   9.400961    1.0  48.0  2304.0  \n..                    ...      ...         ...        ...    ...   ...     ...  \n316             84.830376   9.2103   84.829643   9.735069    1.0  25.0   625.0  \n317            101.723541  10.1660  103.347603  10.126630    3.0   0.0     0.0  \n318             92.463715   9.6158   92.463608   9.966462    2.0  20.0   400.0  \n319             91.141640   9.6158   92.463608   9.928180    2.0  19.0   361.0  \n320             89.732140   9.4727   89.732048   9.873028    3.0   0.0     0.0  \n\n[321 rows x 23 columns]"
     },
     "execution_count": 62,
     "metadata": {},
     "output_type": "execute_result"
    }
   ],
   "source": [
    "# see the design matrix from patsy\n",
    "X"
   ]
  },
  {
   "cell_type": "markdown",
   "metadata": {},
   "source": [
    "* best to define categorical variables outside of regression in order to fix specification more\n",
    "* skipped exercise in handout"
   ]
  },
  {
   "cell_type": "markdown",
   "metadata": {},
   "source": [
    "## Including Interaction Terms\n",
    "* take square of the original predictors and use to account for increasing/decreasing returns to scale in modeling \n",
    "\n",
    "* can also think of them as products of themselves, which is a specific type of interaction term\n",
    "\n",
    "* to interact different terms, use \":\""
   ]
  },
  {
   "cell_type": "code",
   "execution_count": 86,
   "metadata": {},
   "outputs": [
    {
     "name": "stdout",
     "output_type": "stream",
     "text": "Intercept             2.254721\nlland                 0.102120\nlarea                 0.638386\nlinst                 0.852793\nage                  -0.017408\nlinst:age             0.000740\nnp.power(linst, 2)   -0.052262\nnp.power(age, 2)      0.000044\ndtype: float64\n"
    }
   ],
   "source": [
    "# new version of previous specification\n",
    "g = 'lprice ~ lland + larea + linst + age + linst:age + np.power(linst,2) + np.power(age,2)'\n",
    "\n",
    "# create a design matrix using patsy package\n",
    "y2, X2 = patsy.dmatrices(g, data=hprice3, return_type='dataframe')\n",
    "\n",
    "# run OLS and regression \n",
    "model = OLS(y2,X2)\n",
    "reg = model.fit()\n",
    "\n",
    "# get coefficients\n",
    "coef1 = reg.params\n",
    "print(coef1)"
   ]
  },
  {
   "cell_type": "code",
   "execution_count": 87,
   "metadata": {},
   "outputs": [
    {
     "data": {
      "text/html": "<div>\n<style scoped>\n    .dataframe tbody tr th:only-of-type {\n        vertical-align: middle;\n    }\n\n    .dataframe tbody tr th {\n        vertical-align: top;\n    }\n\n    .dataframe thead th {\n        text-align: right;\n    }\n</style>\n<table border=\"1\" class=\"dataframe\">\n  <thead>\n    <tr style=\"text-align: right;\">\n      <th></th>\n      <th>age</th>\n      <th>inst</th>\n      <th>linst</th>\n    </tr>\n  </thead>\n  <tbody>\n    <tr>\n      <td>count</td>\n      <td>321.000000</td>\n      <td>321.000000</td>\n      <td>321.000000</td>\n    </tr>\n    <tr>\n      <td>mean</td>\n      <td>18.009346</td>\n      <td>16442.367188</td>\n      <td>9.480508</td>\n    </tr>\n    <tr>\n      <td>std</td>\n      <td>32.565872</td>\n      <td>9033.133789</td>\n      <td>0.777166</td>\n    </tr>\n    <tr>\n      <td>min</td>\n      <td>0.000000</td>\n      <td>1000.000000</td>\n      <td>6.907800</td>\n    </tr>\n    <tr>\n      <td>25%</td>\n      <td>0.000000</td>\n      <td>9000.000000</td>\n      <td>9.105000</td>\n    </tr>\n    <tr>\n      <td>50%</td>\n      <td>4.000000</td>\n      <td>16000.000000</td>\n      <td>9.680300</td>\n    </tr>\n    <tr>\n      <td>75%</td>\n      <td>22.000000</td>\n      <td>24000.000000</td>\n      <td>10.086000</td>\n    </tr>\n    <tr>\n      <td>max</td>\n      <td>189.000000</td>\n      <td>34000.000000</td>\n      <td>10.434000</td>\n    </tr>\n  </tbody>\n</table>\n</div>",
      "text/plain": "              age          inst       linst\ncount  321.000000    321.000000  321.000000\nmean    18.009346  16442.367188    9.480508\nstd     32.565872   9033.133789    0.777166\nmin      0.000000   1000.000000    6.907800\n25%      0.000000   9000.000000    9.105000\n50%      4.000000  16000.000000    9.680300\n75%     22.000000  24000.000000   10.086000\nmax    189.000000  34000.000000   10.434000"
     },
     "execution_count": 87,
     "metadata": {},
     "output_type": "execute_result"
    }
   ],
   "source": [
    "# print summary statistics for specific variables\n",
    "hprice3[['age', 'inst', 'linst']].describe()"
   ]
  },
  {
   "cell_type": "code",
   "execution_count": 88,
   "metadata": {},
   "outputs": [
    {
     "data": {
      "text/html": "<div>\n<style scoped>\n    .dataframe tbody tr th:only-of-type {\n        vertical-align: middle;\n    }\n\n    .dataframe tbody tr th {\n        vertical-align: top;\n    }\n\n    .dataframe thead th {\n        text-align: right;\n    }\n</style>\n<table border=\"1\" class=\"dataframe\">\n  <thead>\n    <tr style=\"text-align: right;\">\n      <th></th>\n      <th>coef1</th>\n      <th>coef2</th>\n    </tr>\n  </thead>\n  <tbody>\n    <tr>\n      <td>Intercept</td>\n      <td>2.254721</td>\n      <td>2.254721</td>\n    </tr>\n    <tr>\n      <td>lland</td>\n      <td>0.102120</td>\n      <td>0.102120</td>\n    </tr>\n    <tr>\n      <td>larea</td>\n      <td>0.638386</td>\n      <td>0.638386</td>\n    </tr>\n    <tr>\n      <td>linst</td>\n      <td>0.852793</td>\n      <td>0.852793</td>\n    </tr>\n    <tr>\n      <td>age</td>\n      <td>-0.017408</td>\n      <td>-0.017408</td>\n    </tr>\n    <tr>\n      <td>linst:age</td>\n      <td>0.000740</td>\n      <td>0.000740</td>\n    </tr>\n    <tr>\n      <td>np.power(linst, 2)</td>\n      <td>-0.052262</td>\n      <td>-0.052262</td>\n    </tr>\n    <tr>\n      <td>np.power(age, 2)</td>\n      <td>0.000044</td>\n      <td>0.000044</td>\n    </tr>\n  </tbody>\n</table>\n</div>",
      "text/plain": "                       coef1     coef2\nIntercept           2.254721  2.254721\nlland               0.102120  0.102120\nlarea               0.638386  0.638386\nlinst               0.852793  0.852793\nage                -0.017408 -0.017408\nlinst:age           0.000740  0.000740\nnp.power(linst, 2) -0.052262 -0.052262\nnp.power(age, 2)    0.000044  0.000044"
     },
     "execution_count": 88,
     "metadata": {},
     "output_type": "execute_result"
    }
   ],
   "source": [
    "# get the mean for inst then take the log\n",
    "u_linst = np.log(np.mean(hprice3.inst)) \n",
    "\n",
    "# get the mean for age \n",
    "u_age = np.mean(hprice3.age)\n",
    "\n",
    "# take their difference\n",
    "linst = hprice3.linst-u_linst\n",
    "age = hprice3.age-u_age\n",
    "\n",
    "# estimate following specification that takes into account the mean\n",
    "h = 'lprice ~ lland + larea + linst + age + linst:age + np.power(linst,2) + np.power(age,2)'\n",
    "\n",
    "# create a design matrix using patsy package\n",
    "y3, X3 = patsy.dmatrices(h, data=hprice3, return_type='dataframe')\n",
    "\n",
    "# run OLS and regression \n",
    "model = OLS(y3,X3)\n",
    "reg = model.fit()\n",
    "\n",
    "# get coefficients\n",
    "coef2 = reg.params\n",
    "\n",
    "# create table comparing coef\n",
    "dict = {'coef1':coef1, 'coef2':coef2}\n",
    "pd.DataFrame(dict)"
   ]
  },
  {
   "cell_type": "markdown",
   "metadata": {},
   "source": [
    "interpretation example\n",
    "* in coef2 specification, B_3 (linst) represents the average price elasticity with respect to the distance from the highway for a home that's 18 years old (u_mean = 18.01) and located 16,442ft from the highway (u_inst = 16,442)"
   ]
  },
  {
   "cell_type": "markdown",
   "metadata": {},
   "source": [
    "## beta coefficients\n",
    "* goal: see why standardization is useful\n",
    "\n",
    "original OLS equation:\n",
    "\n",
    "$y_i = \\hat{\\beta_0} + \\hat{\\beta_1} x_{i1} + \\hat{\\beta_2} x_{i2} + \\dots + \\hat{\\beta_k} x_{ik} + \\hat{e_i}$\n",
    "\n",
    "average previous equation: \n",
    "\n",
    "$y_i - \\hat{y} = \\hat{\\beta_1} (x_{i1} - \\bar{x_1}) + \\hat{\\beta_2} (x_{i2} - \\bar{x_2}) + \\dots + \\hat{\\beta_k} (x_{ik} - \\bar{x_k}) + \\hat{e_i}$\n",
    "\n",
    "* average of $e_i$ has sample mean zero\n",
    "\n",
    "dividing by sample standard deviation:\n",
    "\n",
    "* $\\hat{\\sigma_y}$ := sample standard deviation for dependent variable\n",
    "\n",
    "* $\\hat{\\sigma_i}$ := sample standard deviation for independent variables $i \\in \\{1,...,i\\}$\n",
    "\n",
    "$\\frac{y_i - \\hat{y}}{\\hat{\\sigma_y}}$ = $(\\frac{\\hat{\\sigma_1}}{\\hat{\\sigma_y}}) \\hat{\\beta_1} \\frac{(x_{i1} - \\bar{x_1})}{\\hat{\\sigma_1}}$ + $(\\frac{\\hat{\\sigma_2}}{\\hat{\\sigma_y}}) \\hat{\\beta_2} \\frac{(x_{i2} - \\bar{x_2})}{\\hat{\\sigma_2}}$ + $\\dots$ + $(\\frac{\\hat{\\sigma_k}}{\\hat{\\sigma_y}}) \\hat{\\beta_k} \\frac{(x_{ik} - \\bar{x_k})}{\\sigma_k})$ + $\\frac{\\hat{e_i}}{\\sigma_y}$\n",
    "\n",
    "define new variables to simplify the equation\n",
    "\n",
    "* $z_{iy}$ = $\\frac{y_i - \\hat{y}}{\\hat{\\sigma_y}}$\n",
    "\n",
    "* $z_{ai}$ = $\\frac{(x_{ia} - \\bar{x_a})}{\\hat{\\sigma_a}}$ for $a=1,...,k$\n",
    "\n",
    "* denoting e = $\\frac{\\hat{e_i}}{\\sigma_y}$\n",
    "\n",
    "$z_y = \\hat{b_1} z_1 + \\hat{b_2} z_2 + \\dots + \\hat{b_k} z_k + e$\n",
    "\n",
    "where new coefficient is\n",
    "\n",
    "$\\hat{b_j} = (\\frac{\\hat{\\sigma_j}}{\\hat{\\sigma_y}}) \\hat{\\beta_j}$\n",
    "\n",
    "$\\hat{b_j}$ := standardized coefficients or beta coefficients \n",
    "\n",
    "* if $x_a$ increases by one standard deviation, then $\\hat{y}$ changes by $\\hat{b_a}$ standard deviations\n",
    "\n",
    "* measuring effects not in terms of original units of y or $x_a$ but in standard deviation units\n"
   ]
  },
  {
   "cell_type": "code",
   "execution_count": 118,
   "metadata": {},
   "outputs": [],
   "source": [
    "# get the beta coefficients for previous specification - still seeing how\n",
    "#model = OLS(zscore(y3),zscore(X3)[:,-1])\n",
    "#reg = model.fit()\n",
    "#reg.params\n"
   ]
  },
  {
   "cell_type": "markdown",
   "metadata": {},
   "source": [
    "* since each x has been standardized, comparing the magnitudes of the resulting beta coefficients is now useful"
   ]
  }
 ]
}