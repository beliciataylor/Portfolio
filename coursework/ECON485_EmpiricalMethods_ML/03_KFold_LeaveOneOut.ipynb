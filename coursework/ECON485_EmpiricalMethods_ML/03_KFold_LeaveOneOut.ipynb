{
 "cells": [
  {
   "cell_type": "markdown",
   "metadata": {},
   "source": [
    "<center><h1> Empirical Assignment 3</h1></center>\n",
    "\n",
    "**Author(s):**\n",
    "1. Belicia Rodriguez (belicia.rodriguez@emory.edu)\n",
    "\n",
    "**Objectives**: This <ins>assignment</ins> aims at\n",
    " 1. Familiarizing you with *sampling techniques* using the ```pandas``` and ```sklearn``` Python libraries;\n",
    " 2. Use *GitHub* to retrieve and submit computer code.\n",
    "\n",
    "**Instructions**:\n",
    " 1. Read this post https://towardsdatascience.com/train-test-split-and-cross-validation-in-python-80b61beca4b6 before attempting to answer these questions.\n",
    " 2. Please write down your Python code and <ins>execute</ins> it in the cell below each question.\n",
    " \n",
    "<center><h2> Questions</h2></center>"
   ]
  },
  {
   "cell_type": "markdown",
   "metadata": {},
   "source": [
    "1. [5 points] Using the ```read_stata``` function from the ```pandas``` library in Python, download the ```ceosal2``` used in Assignment 1 using the address ```http://fmwww.bc.edu/ec-p/data/wooldridge/ceosal2.dta```. **Note:** You need a working connection to the internet."
   ]
  },
  {
   "cell_type": "code",
   "execution_count": 1,
   "metadata": {},
   "outputs": [],
   "source": [
    "import pandas as pd\n",
    "\n",
    "# load ceosal2 \n",
    "ceosal2 = pd.read_stata('http://fmwww.bc.edu/ec-p/data/wooldridge/ceosal2.dta')"
   ]
  },
  {
   "cell_type": "markdown",
   "metadata": {},
   "source": [
    "2. [5 points] Verify that there are 94 CEOs who went to graduate school in your sample, i.e., 53.1073% of your sample, and that there are 172 CEOs with some college education, i.e., 97.175%."
   ]
  },
  {
   "cell_type": "code",
   "execution_count": 54,
   "metadata": {},
   "outputs": [
    {
     "name": "stdout",
     "output_type": "stream",
     "text": [
      "CEOs who went to graduate school\n",
      "94\n",
      "0.53107\n",
      "CEOs who have some college\n",
      "172\n",
      "0.97175\n"
     ]
    }
   ],
   "source": [
    "# initialize empty array\n",
    "df = []\n",
    "\n",
    "# verifying 94 CEOs went to grad school\n",
    "ceo_grad = (ceosal2.grad == 1).sum()\n",
    "ceo_grad_perc = round(ceosal2['grad'].mean(),5)\n",
    "\n",
    "\n",
    "# verifying 172 CEOs have some college\n",
    "ceo_college = (ceosal2.college == 1).sum()\n",
    "ceo_college_perc = round(ceosal2['college'].mean(),5)\n",
    "\n",
    "# print information\n",
    "print('CEOs who went to graduate school')\n",
    "print(ceo_grad)\n",
    "print(ceo_grad_perc)\n",
    "\n",
    "print('CEOs who have some college')\n",
    "print(ceo_college)\n",
    "print(ceo_college_perc)"
   ]
  },
  {
   "cell_type": "markdown",
   "metadata": {},
   "source": [
    "3. [15 points] Importing the ```KFold``` function from ```sklearn.model_selection``` make 5 folds of the data with the seed equal to 42 and print the same two proportions of CEOs in the previous questions in each folds i.e the two proportions in the training and the two proportions in the test data sets. **Hint:** (1) Read https://scikit-learn.org/stable/modules/generated/sklearn.model_selection.KFold.html; (2) Use the ```to_numpy()``` function from the ```pandas``` library, and/or the ```iloc``` function for ```pandas``` data frames."
   ]
  },
  {
   "cell_type": "code",
   "execution_count": 61,
   "metadata": {},
   "outputs": [
    {
     "name": "stdout",
     "output_type": "stream",
     "text": [
      "KFold(n_splits=5, random_state=42, shuffle=True)\n",
      "   Fold College Training College Testing Grad Training Grad Testing\n",
      "0     1         0.978723        0.944444      0.546099     0.472222\n",
      "1     2         0.964539               1       0.51773     0.583333\n",
      "2     3         0.971831        0.971429      0.528169     0.542857\n",
      "3     4         0.978873        0.942857      0.535211     0.514286\n",
      "4     5         0.964789               1      0.528169     0.542857\n"
     ]
    }
   ],
   "source": [
    "import numpy as np\n",
    "from sklearn.model_selection import KFold\n",
    "\n",
    "# covert ceosal2 from dataframe to array\n",
    "ceosal2_array = ceosal2.to_numpy()\n",
    "\n",
    "# create kfold object\n",
    "kf = KFold(n_splits=5, shuffle=True, random_state=42)\n",
    "print(kf)\n",
    "\n",
    "# create dataframe for storing the folds info\n",
    "d = {'Fold' : [1,2,3,4,5], 'College Training' : [None] * 5, 'College Testing' : [None] * 5,\n",
    "     'Grad Training': [None] * 5, 'Grad Testing': [None] * 5}\n",
    "fold_df = pd.DataFrame(data = d)\n",
    "\n",
    "# initiate counter for loop\n",
    "i = 0\n",
    "\n",
    "# split data into five folds\n",
    "for train_index, test_index in kf.split(ceosal2_array):\n",
    "    # divide dataframe into test and train\n",
    "    ceo_xtrain = ceosal2.iloc[train_index]\n",
    "    ceo_xtest = ceosal2.iloc[test_index]\n",
    "    \n",
    "    # store number of CEOS who went to college in each fold test ant training set\n",
    "    fold_df.loc[i,['College Training']] = (ceo_xtrain.college).mean()\n",
    "    fold_df.loc[i,['College Testing']] = (ceo_xtest.college).mean()\n",
    "    fold_df.loc[i, ['Grad Training']] = (ceo_xtrain.grad).mean()\n",
    "    fold_df.loc[i, ['Grad Testing']] = (ceo_xtest.grad).mean()\n",
    "    \n",
    "    # add to counter\n",
    "    i = i + 1\n",
    "\n",
    "# print dataframe with results\n",
    "print(fold_df)"
   ]
  },
  {
   "cell_type": "markdown",
   "metadata": {},
   "source": [
    "4. [5 points] Verify that in some of the 5 folds of the data you constructed before there are _no_ CEOs with *no* college education in either the train or the test data sets."
   ]
  },
  {
   "cell_type": "code",
   "execution_count": 5,
   "metadata": {},
   "outputs": [
    {
     "name": "stdout",
     "output_type": "stream",
     "text": [
      "Empty DataFrame\n",
      "Columns: [salary, age, college, grad, comten, ceoten, sales, profits, mktval, lsalary, lsales, lmktval, comtensq, ceotensq, profmarg]\n",
      "Index: []\n",
      "There are no observations where there are no CEOs with no college education.\n"
     ]
    }
   ],
   "source": [
    "print(ceosal2[(ceosal2.college == 0) & (ceosal2.ceoten == 0)])\n",
    "\n",
    "print('There are no observations where there are no CEOs with no college education.')"
   ]
  },
  {
   "cell_type": "markdown",
   "metadata": {},
   "source": [
    "5. [70 points] Estimate the following model\n",
    "\n",
    "$$\n",
    "\\begin{aligned}\n",
    "\\texttt{lsalary} = \\beta_0+\\beta_1\\texttt{lsales}+\\beta_2\\texttt{lmktval}+\\beta_3\\texttt{profmarg}+\\beta_4\\texttt{comten}+\\beta_5\\texttt{comtensq}+\\beta_6\\texttt{ceoten}+\\beta_7\\texttt{ceotensq}+\\beta_8\\texttt{age}+\\beta_9\\texttt{college}+\\beta_{10}\\texttt{grad}+e,\n",
    "\\end{aligned}\n",
    "$$\n",
    "\n",
    "by the OLS estimator. Let $\\widehat{\\beta}_{1,(-i)}$ be the OLS estimator of the parameter $\\beta_1$ in this model obtained by erasing the $i$ observation in the sample, i.e., the leave-one-out estimator of $\\beta_1$. Using the ```LeaveOneOut``` and the ```linear_model``` from the ```sklearn``` library calculate $\\left\\{\\widehat{\\beta}_{1,(-1)},\\widehat{\\beta}_{1,(-2)},\\dots,\\widehat{\\beta}_{1,(-176)},\\widehat{\\beta}_{1,(-177)}\\right\\}$. Then create a histogram of these 177 values.\n"
   ]
  },
  {
   "cell_type": "code",
   "execution_count": 65,
   "metadata": {},
   "outputs": [
    {
     "name": "stdout",
     "output_type": "stream",
     "text": [
      "                            OLS Regression Results                            \n",
      "==============================================================================\n",
      "Dep. Variable:                lsalary   R-squared:                       0.382\n",
      "Model:                            OLS   Adj. R-squared:                  0.345\n",
      "Method:                 Least Squares   F-statistic:                     10.27\n",
      "Date:                Wed, 19 Feb 2020   Prob (F-statistic):           2.27e-13\n",
      "Time:                        11:56:33   Log-Likelihood:                -119.40\n",
      "No. Observations:                 177   AIC:                             260.8\n",
      "Df Residuals:                     166   BIC:                             295.7\n",
      "Df Model:                          10                                         \n",
      "Covariance Type:            nonrobust                                         \n",
      "==============================================================================\n",
      "                 coef    std err          t      P>|t|      [0.025      0.975]\n",
      "------------------------------------------------------------------------------\n",
      "Intercept      4.4381      0.451      9.838      0.000       3.548       5.329\n",
      "lsales         0.1858      0.040      4.638      0.000       0.107       0.265\n",
      "lmktval        0.1094      0.049      2.223      0.028       0.012       0.207\n",
      "profmarg      -0.0026      0.002     -1.255      0.211      -0.007       0.002\n",
      "comten        -0.0059      0.012     -0.495      0.621      -0.030       0.018\n",
      "comtensq   -8.356e-05      0.000     -0.320      0.749      -0.001       0.000\n",
      "ceoten         0.0480      0.014      3.338      0.001       0.020       0.076\n",
      "ceotensq      -0.0011      0.000     -2.346      0.020      -0.002      -0.000\n",
      "age            0.0004      0.005      0.080      0.937      -0.010       0.011\n",
      "college       -0.0217      0.231     -0.094      0.925      -0.478       0.434\n",
      "grad          -0.1092      0.078     -1.392      0.166      -0.264       0.046\n",
      "==============================================================================\n",
      "Omnibus:                       27.818   Durbin-Watson:                   2.019\n",
      "Prob(Omnibus):                  0.000   Jarque-Bera (JB):              142.896\n",
      "Skew:                          -0.335   Prob(JB):                     9.35e-32\n",
      "Kurtosis:                       7.350   Cond. No.                     1.14e+04\n",
      "==============================================================================\n",
      "\n",
      "Warnings:\n",
      "[1] Standard Errors assume that the covariance matrix of the errors is correctly specified.\n",
      "[2] The condition number is large, 1.14e+04. This might indicate that there are\n",
      "strong multicollinearity or other numerical problems.\n"
     ]
    },
    {
     "data": {
      "image/png": "[encoded data removed]",
      "text/plain": [
       "<Figure size 432x288 with 1 Axes>"
      ]
     },
     "metadata": {
      "needs_background": "light"
     },
     "output_type": "display_data"
    }
   ],
   "source": [
    "import patsy\n",
    "from statsmodels.regression.linear_model import OLS\n",
    "import sklearn.model_selection as sks\n",
    "import sklearn.linear_model as skm\n",
    "import matplotlib.pyplot as plt\n",
    "\n",
    "# define a string with regression equation\n",
    "eq = 'lsalary ~ lsales + lmktval + profmarg + comten + comtensq + ceoten + ceotensq + age + college + grad'\n",
    "\n",
    "# build a design matrix with the formula\n",
    "y,X = patsy.dmatrices(eq, data=ceosal2, return_type = 'dataframe')\n",
    "\n",
    "# do OLS regression\n",
    "model = OLS(y,X).fit()\n",
    "\n",
    "# print summary of regression\n",
    "print(model.summary())\n",
    "\n",
    "# create empty list to store LeaveOutOne betas\n",
    "betas = []\n",
    "\n",
    "# run LeaveOneOut cross validation\n",
    "loo = sks.LeaveOneOut()\n",
    "for train, test in loo.split(ceosal2_array):\n",
    "    # run a regression and obtain beta for lsales\n",
    "    beta_value = float((skm.LinearRegression().fit(X.loc[train],y.loc[train]).coef_)[:,1])\n",
    "    \n",
    "    # store beta value as a float\n",
    "    betas.append(beta_value)\n",
    "\n",
    "# create histogram of betas\n",
    "plt.hist(betas)\n",
    "plt.show()"
   ]
  },
  {
   "cell_type": "code",
   "execution_count": null,
   "metadata": {},
   "outputs": [],
   "source": []
  }
 ],
 "metadata": {
  "kernelspec": {
   "display_name": "Python 3",
   "language": "python",
   "name": "python3"
  },
  "language_info": {
   "codemirror_mode": {
    "name": "ipython",
    "version": 3
   },
   "file_extension": ".py",
   "mimetype": "text/x-python",
   "name": "python",
   "nbconvert_exporter": "python",
   "pygments_lexer": "ipython3",
   "version": "3.7.4"
  },
  "latex_envs": {
   "LaTeX_envs_menu_present": true,
   "autoclose": false,
   "autocomplete": true,
   "bibliofile": "biblio.bib",
   "cite_by": "apalike",
   "current_citInitial": 1,
   "eqLabelWithNumbers": true,
   "eqNumInitial": 1,
   "hotkeys": {
    "equation": "Ctrl-E",
    "itemize": "Ctrl-I"
   },
   "labels_anchors": false,
   "latex_user_defs": false,
   "report_style_numbering": false,
   "user_envs_cfg": false
  }
 },
 "nbformat": 4,
 "nbformat_minor": 2
}
